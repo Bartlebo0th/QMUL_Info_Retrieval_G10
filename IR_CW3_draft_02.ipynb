{
  "nbformat": 4,
  "nbformat_minor": 0,
  "metadata": {
    "colab": {
      "name": "IR_CW3_draft_02.ipynb",
      "provenance": [],
      "collapsed_sections": [],
      "toc_visible": true
    },
    "kernelspec": {
      "display_name": "Python 3",
      "language": "python",
      "name": "python3"
    },
    "language_info": {
      "codemirror_mode": {
        "name": "ipython",
        "version": 3
      },
      "file_extension": ".py",
      "mimetype": "text/x-python",
      "name": "python",
      "nbconvert_exporter": "python",
      "pygments_lexer": "ipython3",
      "version": "3.7.9"
    }
  },
  "cells": [
    {
      "cell_type": "markdown",
      "metadata": {
        "id": "MgXg26VeV67T"
      },
      "source": [
        "---\n",
        "# Importing packages/dependencies"
      ]
    },
    {
      "cell_type": "code",
      "metadata": {
        "colab": {
          "base_uri": "https://localhost:8080/"
        },
        "id": "jEMKlds2pVHy",
        "outputId": "51340d4e-c6d3-4112-f66a-bca3d2d58d42"
      },
      "source": [
        "import math\n",
        "import pandas as pd\n",
        "import numpy as np\n",
        "import string\n",
        "from sklearn.metrics import ndcg_score\n",
        "\n",
        "# nltk related\n",
        "import nltk\n",
        "from nltk.tokenize import word_tokenize\n",
        "from nltk.corpus import stopwords\n",
        "nltk.download('punkt')\n",
        "nltk.download('stopwords')"
      ],
      "execution_count": 1,
      "outputs": [
        {
          "output_type": "stream",
          "text": [
            "[nltk_data] Downloading package punkt to /root/nltk_data...\n",
            "[nltk_data]   Package punkt is already up-to-date!\n",
            "[nltk_data] Downloading package stopwords to /root/nltk_data...\n",
            "[nltk_data]   Package stopwords is already up-to-date!\n"
          ],
          "name": "stdout"
        },
        {
          "output_type": "execute_result",
          "data": {
            "text/plain": [
              "True"
            ]
          },
          "metadata": {
            "tags": []
          },
          "execution_count": 1
        }
      ]
    },
    {
      "cell_type": "markdown",
      "metadata": {
        "id": "ZCwOjgqB0s_x"
      },
      "source": [
        "---\n",
        "# Data Files\n",
        "For code to work in colab add the following files from the dataset to a folder named 'data' inside colab's 'sample_data' folder:\n",
        "\n",
        "- doc_dump.txt\n",
        "- stopwords.large\n",
        "- train.3-2-1.qrel\n",
        "- train.all.queries"
      ]
    },
    {
      "cell_type": "code",
      "metadata": {
        "colab": {
          "base_uri": "https://localhost:8080/"
        },
        "id": "LuYieARrLF5V",
        "outputId": "8da44ca7-3ae6-4e5d-ea5f-e14e2dc6ed1d"
      },
      "source": [
        "!pwd # (print working directory to check path ipynb file is sitting in)"
      ],
      "execution_count": 2,
      "outputs": [
        {
          "output_type": "stream",
          "text": [
            "/content\n"
          ],
          "name": "stdout"
        }
      ]
    },
    {
      "cell_type": "markdown",
      "metadata": {
        "id": "yzSClcDceJVN"
      },
      "source": [
        "## all four files from original dataset (insert reference):\n"
      ]
    },
    {
      "cell_type": "markdown",
      "metadata": {
        "id": "O0IFNngVnPab"
      },
      "source": [
        "### Loading document summaries"
      ]
    },
    {
      "cell_type": "code",
      "metadata": {
        "id": "pJTfVT7bsnVd",
        "colab": {
          "base_uri": "https://localhost:8080/",
          "height": 97
        },
        "outputId": "58602c80-6f15-4a00-f9d1-59ee19028842"
      },
      "source": [
        "# doc_dump.txt\n",
        "\n",
        "filename = '/content/sample_data/data/doc_dump.txt'\n",
        "#pd.read_csv(filename, sep='\\t', names=None)\n",
        "doc = pd.read_csv(filename, sep = '\\t', header=None)\n",
        "doc.columns =['ID', 'URL', 'TITLE', 'ABSTRACT']\n",
        "doc.head(1)"
      ],
      "execution_count": 3,
      "outputs": [
        {
          "output_type": "execute_result",
          "data": {
            "text/html": [
              "<div>\n",
              "<style scoped>\n",
              "    .dataframe tbody tr th:only-of-type {\n",
              "        vertical-align: middle;\n",
              "    }\n",
              "\n",
              "    .dataframe tbody tr th {\n",
              "        vertical-align: top;\n",
              "    }\n",
              "\n",
              "    .dataframe thead th {\n",
              "        text-align: right;\n",
              "    }\n",
              "</style>\n",
              "<table border=\"1\" class=\"dataframe\">\n",
              "  <thead>\n",
              "    <tr style=\"text-align: right;\">\n",
              "      <th></th>\n",
              "      <th>ID</th>\n",
              "      <th>URL</th>\n",
              "      <th>TITLE</th>\n",
              "      <th>ABSTRACT</th>\n",
              "    </tr>\n",
              "  </thead>\n",
              "  <tbody>\n",
              "    <tr>\n",
              "      <th>0</th>\n",
              "      <td>MED-1</td>\n",
              "      <td>http://www.ncbi.nlm.nih.gov/pubmed/23092936</td>\n",
              "      <td>Birth Weight, Head Circumference, and Prenatal...</td>\n",
              "      <td>Abstract Background: Acrylamide is a common di...</td>\n",
              "    </tr>\n",
              "  </tbody>\n",
              "</table>\n",
              "</div>"
            ],
            "text/plain": [
              "      ID  ...                                           ABSTRACT\n",
              "0  MED-1  ...  Abstract Background: Acrylamide is a common di...\n",
              "\n",
              "[1 rows x 4 columns]"
            ]
          },
          "metadata": {
            "tags": []
          },
          "execution_count": 3
        }
      ]
    },
    {
      "cell_type": "markdown",
      "metadata": {
        "id": "i0kxbC6fnMh8"
      },
      "source": [
        "### Loading Stopwords"
      ]
    },
    {
      "cell_type": "code",
      "metadata": {
        "id": "YnSgsBksoLqI",
        "colab": {
          "base_uri": "https://localhost:8080/"
        },
        "outputId": "028c3b0f-8109-4276-e23f-4dce0c92e839"
      },
      "source": [
        "# stopwords.large\n",
        "\n",
        "filename = '/content/sample_data/data/stopwords.large'\n",
        "#pd.read_csv(filename, sep='\\t', names=None)\n",
        "stopwords_given = pd.read_csv(filename, sep = '\\t', header=None)\n",
        "stopwords_given.columns =['STOP_WORDS']\n",
        "stopwords_given_list = stopwords_given['STOP_WORDS'].tolist()\n",
        "stopwords_given_list[0:10]"
      ],
      "execution_count": 4,
      "outputs": [
        {
          "output_type": "execute_result",
          "data": {
            "text/plain": [
              "['RT',\n",
              " 'USER',\n",
              " 'URL',\n",
              " 'a',\n",
              " 'able',\n",
              " 'about',\n",
              " 'above',\n",
              " 'according',\n",
              " 'accordingly',\n",
              " 'across']"
            ]
          },
          "metadata": {
            "tags": []
          },
          "execution_count": 4
        }
      ]
    },
    {
      "cell_type": "markdown",
      "metadata": {
        "id": "H357xccGm9pp"
      },
      "source": [
        "### Loading Relevance Judgements from dataset"
      ]
    },
    {
      "cell_type": "markdown",
      "metadata": {
        "id": "0h-J4vgo7mhl"
      },
      "source": [
        "{train}.3-2-1.qrel  --      The relevance file for 4 levels in total: \n",
        "\n",
        "*   Direct links (3)\n",
        "*   Indirect links (2)\n",
        "*   Marginally relevant(1)\n",
        "*   Others (0, not in the files)"
      ]
    },
    {
      "cell_type": "code",
      "metadata": {
        "id": "NU-Lox_MmHN3"
      },
      "source": [
        "# loading the relevance judgements\n",
        "\n",
        "# train.3-2-1.qrel\n",
        "\n",
        "filename = '/content/sample_data/data/train.3-2-1.qrel'\n",
        "query_relevance = pd.read_csv(filename, sep = '\\t', header=None)\n",
        "query_relevance.columns =['QUERY_ID', '0', 'DOC_ID', 'RELEVANCE_LEVEL']"
      ],
      "execution_count": 5,
      "outputs": []
    },
    {
      "cell_type": "code",
      "metadata": {
        "colab": {
          "base_uri": "https://localhost:8080/",
          "height": 142
        },
        "id": "5t4m0LE88BPT",
        "outputId": "e16803cf-dbf1-4a88-ff41-4b4a242f083b"
      },
      "source": [
        "query_relevance.sample(3)"
      ],
      "execution_count": 6,
      "outputs": [
        {
          "output_type": "execute_result",
          "data": {
            "text/html": [
              "<div>\n",
              "<style scoped>\n",
              "    .dataframe tbody tr th:only-of-type {\n",
              "        vertical-align: middle;\n",
              "    }\n",
              "\n",
              "    .dataframe tbody tr th {\n",
              "        vertical-align: top;\n",
              "    }\n",
              "\n",
              "    .dataframe thead th {\n",
              "        text-align: right;\n",
              "    }\n",
              "</style>\n",
              "<table border=\"1\" class=\"dataframe\">\n",
              "  <thead>\n",
              "    <tr style=\"text-align: right;\">\n",
              "      <th></th>\n",
              "      <th>QUERY_ID</th>\n",
              "      <th>0</th>\n",
              "      <th>DOC_ID</th>\n",
              "      <th>RELEVANCE_LEVEL</th>\n",
              "    </tr>\n",
              "  </thead>\n",
              "  <tbody>\n",
              "    <tr>\n",
              "      <th>133193</th>\n",
              "      <td>PLAIN-3235</td>\n",
              "      <td>0</td>\n",
              "      <td>MED-5322</td>\n",
              "      <td>1</td>\n",
              "    </tr>\n",
              "    <tr>\n",
              "      <th>20359</th>\n",
              "      <td>PLAIN-676</td>\n",
              "      <td>0</td>\n",
              "      <td>MED-4535</td>\n",
              "      <td>2</td>\n",
              "    </tr>\n",
              "    <tr>\n",
              "      <th>21628</th>\n",
              "      <td>PLAIN-704</td>\n",
              "      <td>0</td>\n",
              "      <td>MED-3272</td>\n",
              "      <td>2</td>\n",
              "    </tr>\n",
              "  </tbody>\n",
              "</table>\n",
              "</div>"
            ],
            "text/plain": [
              "          QUERY_ID  0    DOC_ID  RELEVANCE_LEVEL\n",
              "133193  PLAIN-3235  0  MED-5322                1\n",
              "20359    PLAIN-676  0  MED-4535                2\n",
              "21628    PLAIN-704  0  MED-3272                2"
            ]
          },
          "metadata": {
            "tags": []
          },
          "execution_count": 6
        }
      ]
    },
    {
      "cell_type": "markdown",
      "metadata": {
        "id": "zXl5pU1WbIic"
      },
      "source": [
        "Filtering by Query ID of 'PLAIN-10' and Relevance Level of '3': "
      ]
    },
    {
      "cell_type": "code",
      "metadata": {
        "colab": {
          "base_uri": "https://localhost:8080/",
          "height": 142
        },
        "id": "LxQBostMZ2eH",
        "outputId": "9ec7f861-c49e-4e3a-e64e-4e9670496a3e"
      },
      "source": [
        "query_relevance.loc[(query_relevance.RELEVANCE_LEVEL == 3) & (query_relevance.QUERY_ID == 'PLAIN-10')].sample(3)"
      ],
      "execution_count": 7,
      "outputs": [
        {
          "output_type": "execute_result",
          "data": {
            "text/html": [
              "<div>\n",
              "<style scoped>\n",
              "    .dataframe tbody tr th:only-of-type {\n",
              "        vertical-align: middle;\n",
              "    }\n",
              "\n",
              "    .dataframe tbody tr th {\n",
              "        vertical-align: top;\n",
              "    }\n",
              "\n",
              "    .dataframe thead th {\n",
              "        text-align: right;\n",
              "    }\n",
              "</style>\n",
              "<table border=\"1\" class=\"dataframe\">\n",
              "  <thead>\n",
              "    <tr style=\"text-align: right;\">\n",
              "      <th></th>\n",
              "      <th>QUERY_ID</th>\n",
              "      <th>0</th>\n",
              "      <th>DOC_ID</th>\n",
              "      <th>RELEVANCE_LEVEL</th>\n",
              "    </tr>\n",
              "  </thead>\n",
              "  <tbody>\n",
              "    <tr>\n",
              "      <th>374</th>\n",
              "      <td>PLAIN-10</td>\n",
              "      <td>0</td>\n",
              "      <td>MED-2493</td>\n",
              "      <td>3</td>\n",
              "    </tr>\n",
              "    <tr>\n",
              "      <th>372</th>\n",
              "      <td>PLAIN-10</td>\n",
              "      <td>0</td>\n",
              "      <td>MED-2495</td>\n",
              "      <td>3</td>\n",
              "    </tr>\n",
              "    <tr>\n",
              "      <th>375</th>\n",
              "      <td>PLAIN-10</td>\n",
              "      <td>0</td>\n",
              "      <td>MED-2497</td>\n",
              "      <td>3</td>\n",
              "    </tr>\n",
              "  </tbody>\n",
              "</table>\n",
              "</div>"
            ],
            "text/plain": [
              "     QUERY_ID  0    DOC_ID  RELEVANCE_LEVEL\n",
              "374  PLAIN-10  0  MED-2493                3\n",
              "372  PLAIN-10  0  MED-2495                3\n",
              "375  PLAIN-10  0  MED-2497                3"
            ]
          },
          "metadata": {
            "tags": []
          },
          "execution_count": 7
        }
      ]
    },
    {
      "cell_type": "markdown",
      "metadata": {
        "id": "LaFkpZSbnJAr"
      },
      "source": [
        "### Loading all Queries from dataset"
      ]
    },
    {
      "cell_type": "code",
      "metadata": {
        "colab": {
          "base_uri": "https://localhost:8080/",
          "height": 80
        },
        "id": "iPUFHwNHltOU",
        "outputId": "35358bbd-c8ab-4057-fe7c-d8133705ffb1"
      },
      "source": [
        "# train.all.queries\n",
        "\n",
        "filename = '/content/sample_data/data/train.all.queries'\n",
        "query = pd.read_csv(filename, sep = '\\t', header=None)\n",
        "query.columns =['QUERY_ID', 'QUERY']\n",
        "query.head(1)"
      ],
      "execution_count": 8,
      "outputs": [
        {
          "output_type": "execute_result",
          "data": {
            "text/html": [
              "<div>\n",
              "<style scoped>\n",
              "    .dataframe tbody tr th:only-of-type {\n",
              "        vertical-align: middle;\n",
              "    }\n",
              "\n",
              "    .dataframe tbody tr th {\n",
              "        vertical-align: top;\n",
              "    }\n",
              "\n",
              "    .dataframe thead th {\n",
              "        text-align: right;\n",
              "    }\n",
              "</style>\n",
              "<table border=\"1\" class=\"dataframe\">\n",
              "  <thead>\n",
              "    <tr style=\"text-align: right;\">\n",
              "      <th></th>\n",
              "      <th>QUERY_ID</th>\n",
              "      <th>QUERY</th>\n",
              "    </tr>\n",
              "  </thead>\n",
              "  <tbody>\n",
              "    <tr>\n",
              "      <th>0</th>\n",
              "      <td>PLAIN-10</td>\n",
              "      <td>how contaminated are our children ? in a study...</td>\n",
              "    </tr>\n",
              "  </tbody>\n",
              "</table>\n",
              "</div>"
            ],
            "text/plain": [
              "   QUERY_ID                                              QUERY\n",
              "0  PLAIN-10  how contaminated are our children ? in a study..."
            ]
          },
          "metadata": {
            "tags": []
          },
          "execution_count": 8
        }
      ]
    },
    {
      "cell_type": "code",
      "metadata": {
        "colab": {
          "base_uri": "https://localhost:8080/",
          "height": 80
        },
        "id": "IlRoIvZ180RB",
        "outputId": "50743be8-1365-492c-979c-6828937ce915"
      },
      "source": [
        "query.loc[query.QUERY_ID == 'PLAIN-120']"
      ],
      "execution_count": 9,
      "outputs": [
        {
          "output_type": "execute_result",
          "data": {
            "text/html": [
              "<div>\n",
              "<style scoped>\n",
              "    .dataframe tbody tr th:only-of-type {\n",
              "        vertical-align: middle;\n",
              "    }\n",
              "\n",
              "    .dataframe tbody tr th {\n",
              "        vertical-align: top;\n",
              "    }\n",
              "\n",
              "    .dataframe thead th {\n",
              "        text-align: right;\n",
              "    }\n",
              "</style>\n",
              "<table border=\"1\" class=\"dataframe\">\n",
              "  <thead>\n",
              "    <tr style=\"text-align: right;\">\n",
              "      <th></th>\n",
              "      <th>QUERY_ID</th>\n",
              "      <th>QUERY</th>\n",
              "    </tr>\n",
              "  </thead>\n",
              "  <tbody>\n",
              "    <tr>\n",
              "      <th>164</th>\n",
              "      <td>PLAIN-120</td>\n",
              "      <td>preloading with watercress before exercise cou...</td>\n",
              "    </tr>\n",
              "  </tbody>\n",
              "</table>\n",
              "</div>"
            ],
            "text/plain": [
              "      QUERY_ID                                              QUERY\n",
              "164  PLAIN-120  preloading with watercress before exercise cou..."
            ]
          },
          "metadata": {
            "tags": []
          },
          "execution_count": 9
        }
      ]
    },
    {
      "cell_type": "markdown",
      "metadata": {
        "id": "gcANRt9qWeNa"
      },
      "source": [
        "---\n",
        "# Joining doc titles to doc abstracts"
      ]
    },
    {
      "cell_type": "code",
      "metadata": {
        "id": "7L66Z4234Rky",
        "colab": {
          "base_uri": "https://localhost:8080/",
          "height": 97
        },
        "outputId": "181a52c3-6da9-4a96-b1d8-5c3e3607f798"
      },
      "source": [
        "doc['TITLE_ABSTRACT'] = doc[['TITLE', 'ABSTRACT']].apply(lambda x: ' '.join(x), axis=1)\n",
        "doc.head(1)"
      ],
      "execution_count": 10,
      "outputs": [
        {
          "output_type": "execute_result",
          "data": {
            "text/html": [
              "<div>\n",
              "<style scoped>\n",
              "    .dataframe tbody tr th:only-of-type {\n",
              "        vertical-align: middle;\n",
              "    }\n",
              "\n",
              "    .dataframe tbody tr th {\n",
              "        vertical-align: top;\n",
              "    }\n",
              "\n",
              "    .dataframe thead th {\n",
              "        text-align: right;\n",
              "    }\n",
              "</style>\n",
              "<table border=\"1\" class=\"dataframe\">\n",
              "  <thead>\n",
              "    <tr style=\"text-align: right;\">\n",
              "      <th></th>\n",
              "      <th>ID</th>\n",
              "      <th>URL</th>\n",
              "      <th>TITLE</th>\n",
              "      <th>ABSTRACT</th>\n",
              "      <th>TITLE_ABSTRACT</th>\n",
              "    </tr>\n",
              "  </thead>\n",
              "  <tbody>\n",
              "    <tr>\n",
              "      <th>0</th>\n",
              "      <td>MED-1</td>\n",
              "      <td>http://www.ncbi.nlm.nih.gov/pubmed/23092936</td>\n",
              "      <td>Birth Weight, Head Circumference, and Prenatal...</td>\n",
              "      <td>Abstract Background: Acrylamide is a common di...</td>\n",
              "      <td>Birth Weight, Head Circumference, and Prenatal...</td>\n",
              "    </tr>\n",
              "  </tbody>\n",
              "</table>\n",
              "</div>"
            ],
            "text/plain": [
              "      ID  ...                                     TITLE_ABSTRACT\n",
              "0  MED-1  ...  Birth Weight, Head Circumference, and Prenatal...\n",
              "\n",
              "[1 rows x 5 columns]"
            ]
          },
          "metadata": {
            "tags": []
          },
          "execution_count": 10
        }
      ]
    },
    {
      "cell_type": "code",
      "metadata": {
        "colab": {
          "base_uri": "https://localhost:8080/",
          "height": 52
        },
        "id": "PF1fOTDftjRp",
        "outputId": "a5b1cc52-29f7-4cb2-a3d5-0789d8445dda"
      },
      "source": [
        "# quick example of end product\n",
        "doc['TITLE_ABSTRACT'][9][0:150]"
      ],
      "execution_count": 11,
      "outputs": [
        {
          "output_type": "execute_result",
          "data": {
            "application/vnd.google.colaboratory.intrinsic+json": {
              "type": "string"
            },
            "text/plain": [
              "'Statin Use and Breast Cancer Survival: A Nationwide Cohort Study from Finland Abstract Recent studies have suggested that statins, an established drug'"
            ]
          },
          "metadata": {
            "tags": []
          },
          "execution_count": 11
        }
      ]
    },
    {
      "cell_type": "markdown",
      "metadata": {
        "id": "F5mcFdRGRHPk"
      },
      "source": [
        "---\n",
        "# Query Processing Function\n",
        "\n",
        "Adjustments to queries are:\n",
        "- Lowercased\n",
        "- Tokenized\n",
        "- Punctuation Removed\n",
        "- Stopwords Removed\n",
        "- Frequent Words Removed"
      ]
    },
    {
      "cell_type": "code",
      "metadata": {
        "id": "e6lZMp_sQBK6"
      },
      "source": [
        "from itertools import chain\n",
        "final_list = list(chain.from_iterable([[i.split('\\t', 1)[0] for i in string.punctuation], stopwords_given_list]))\n",
        "final_list += ['abstract', 'background'] # adding 'abstract' & 'background' to final_list\n",
        "def processing(example, final_list):\n",
        "  example = example.lower()\n",
        "  example = word_tokenize(example)\n",
        "  clear = []\n",
        "  for item in example:\n",
        "    if item not in final_list:\n",
        "      clear.append(item)\n",
        "  return clear"
      ],
      "execution_count": 12,
      "outputs": []
    },
    {
      "cell_type": "code",
      "metadata": {
        "colab": {
          "base_uri": "https://localhost:8080/"
        },
        "id": "AX1Fqg2cXm4m",
        "outputId": "5ea339c8-8cba-49fa-9fa0-5b01c27179c1"
      },
      "source": [
        "# quick example check\n",
        "q_ex = \"Abstract My Eyeballs are exploding & BLEEDING, Background feels like demons!!!\"\n",
        "processed = processing(q_ex, final_list)\n",
        "processed"
      ],
      "execution_count": 13,
      "outputs": [
        {
          "output_type": "execute_result",
          "data": {
            "text/plain": [
              "['eyeballs', 'exploding', 'bleeding', 'feels', 'demons']"
            ]
          },
          "metadata": {
            "tags": []
          },
          "execution_count": 13
        }
      ]
    },
    {
      "cell_type": "markdown",
      "metadata": {
        "id": "dzMz4XU8Y2oX"
      },
      "source": [
        "---\n",
        "# Processing applied to docs file:"
      ]
    },
    {
      "cell_type": "code",
      "metadata": {
        "id": "zJc7r4amfXhu"
      },
      "source": [
        "# applying processing function to combined titles and abstracts of docs, and adding as separate column:\n",
        "doc['PROCESSED_TITLE_ABSTRACT'] = doc['TITLE_ABSTRACT'].apply(processing, final_list=final_list)"
      ],
      "execution_count": 14,
      "outputs": []
    },
    {
      "cell_type": "code",
      "metadata": {
        "colab": {
          "base_uri": "https://localhost:8080/",
          "height": 295
        },
        "id": "WZ-gOIeLfLsi",
        "outputId": "cd896b1e-f343-475e-9611-e81bfd77524f"
      },
      "source": [
        "doc.head(3)"
      ],
      "execution_count": 15,
      "outputs": [
        {
          "output_type": "execute_result",
          "data": {
            "text/html": [
              "<div>\n",
              "<style scoped>\n",
              "    .dataframe tbody tr th:only-of-type {\n",
              "        vertical-align: middle;\n",
              "    }\n",
              "\n",
              "    .dataframe tbody tr th {\n",
              "        vertical-align: top;\n",
              "    }\n",
              "\n",
              "    .dataframe thead th {\n",
              "        text-align: right;\n",
              "    }\n",
              "</style>\n",
              "<table border=\"1\" class=\"dataframe\">\n",
              "  <thead>\n",
              "    <tr style=\"text-align: right;\">\n",
              "      <th></th>\n",
              "      <th>ID</th>\n",
              "      <th>URL</th>\n",
              "      <th>TITLE</th>\n",
              "      <th>ABSTRACT</th>\n",
              "      <th>TITLE_ABSTRACT</th>\n",
              "      <th>PROCESSED_TITLE_ABSTRACT</th>\n",
              "    </tr>\n",
              "  </thead>\n",
              "  <tbody>\n",
              "    <tr>\n",
              "      <th>0</th>\n",
              "      <td>MED-1</td>\n",
              "      <td>http://www.ncbi.nlm.nih.gov/pubmed/23092936</td>\n",
              "      <td>Birth Weight, Head Circumference, and Prenatal...</td>\n",
              "      <td>Abstract Background: Acrylamide is a common di...</td>\n",
              "      <td>Birth Weight, Head Circumference, and Prenatal...</td>\n",
              "      <td>[birth, weight, head, circumference, prenatal,...</td>\n",
              "    </tr>\n",
              "    <tr>\n",
              "      <th>1</th>\n",
              "      <td>MED-2</td>\n",
              "      <td>http://www.ncbi.nlm.nih.gov/pubmed/22809476</td>\n",
              "      <td>A statistical regression model for the estimat...</td>\n",
              "      <td>Abstract Human exposure to acrylamide (AA) thr...</td>\n",
              "      <td>A statistical regression model for the estimat...</td>\n",
              "      <td>[statistical, regression, model, estimation, a...</td>\n",
              "    </tr>\n",
              "    <tr>\n",
              "      <th>2</th>\n",
              "      <td>MED-3</td>\n",
              "      <td>http://www.ncbi.nlm.nih.gov/pubmed/19158207</td>\n",
              "      <td>Chronic intake of potato chips in humans incre...</td>\n",
              "      <td>Abstract BACKGROUND: Relatively high concentra...</td>\n",
              "      <td>Chronic intake of potato chips in humans incre...</td>\n",
              "      <td>[chronic, intake, potato, chips, humans, incre...</td>\n",
              "    </tr>\n",
              "  </tbody>\n",
              "</table>\n",
              "</div>"
            ],
            "text/plain": [
              "      ID  ...                           PROCESSED_TITLE_ABSTRACT\n",
              "0  MED-1  ...  [birth, weight, head, circumference, prenatal,...\n",
              "1  MED-2  ...  [statistical, regression, model, estimation, a...\n",
              "2  MED-3  ...  [chronic, intake, potato, chips, humans, incre...\n",
              "\n",
              "[3 rows x 6 columns]"
            ]
          },
          "metadata": {
            "tags": []
          },
          "execution_count": 15
        }
      ]
    },
    {
      "cell_type": "markdown",
      "metadata": {
        "id": "d0XjYEG00yfV"
      },
      "source": [
        "---\n",
        "# Processing applied to queries"
      ]
    },
    {
      "cell_type": "code",
      "metadata": {
        "id": "xRvsXRFW1AZq"
      },
      "source": [
        "query['PROCESSED_QUERY'] = query['QUERY'].apply(processing, final_list=final_list)"
      ],
      "execution_count": 16,
      "outputs": []
    },
    {
      "cell_type": "code",
      "metadata": {
        "colab": {
          "base_uri": "https://localhost:8080/",
          "height": 142
        },
        "id": "G9pH0bU11J-Y",
        "outputId": "5451b442-6ce4-46d9-a72d-67238674a1e5"
      },
      "source": [
        "query.sample(3)"
      ],
      "execution_count": 17,
      "outputs": [
        {
          "output_type": "execute_result",
          "data": {
            "text/html": [
              "<div>\n",
              "<style scoped>\n",
              "    .dataframe tbody tr th:only-of-type {\n",
              "        vertical-align: middle;\n",
              "    }\n",
              "\n",
              "    .dataframe tbody tr th {\n",
              "        vertical-align: top;\n",
              "    }\n",
              "\n",
              "    .dataframe thead th {\n",
              "        text-align: right;\n",
              "    }\n",
              "</style>\n",
              "<table border=\"1\" class=\"dataframe\">\n",
              "  <thead>\n",
              "    <tr style=\"text-align: right;\">\n",
              "      <th></th>\n",
              "      <th>QUERY_ID</th>\n",
              "      <th>QUERY</th>\n",
              "      <th>PROCESSED_QUERY</th>\n",
              "    </tr>\n",
              "  </thead>\n",
              "  <tbody>\n",
              "    <tr>\n",
              "      <th>2133</th>\n",
              "      <td>PLAIN-444</td>\n",
              "      <td>do pine needles from a douglas fir or redwood ...</td>\n",
              "      <td>[pine, needles, douglas, fir, redwood, provide...</td>\n",
              "    </tr>\n",
              "    <tr>\n",
              "      <th>2318</th>\n",
              "      <td>PLAIN-672</td>\n",
              "      <td>benzodiazepines - - medications , side effects...</td>\n",
              "      <td>[benzodiazepines, medications, side, effects, ...</td>\n",
              "    </tr>\n",
              "    <tr>\n",
              "      <th>2240</th>\n",
              "      <td>PLAIN-576</td>\n",
              "      <td>antacids - - meat , medications , kidney failu...</td>\n",
              "      <td>[antacids, meat, medications, kidney, failure,...</td>\n",
              "    </tr>\n",
              "  </tbody>\n",
              "</table>\n",
              "</div>"
            ],
            "text/plain": [
              "       QUERY_ID  ...                                    PROCESSED_QUERY\n",
              "2133  PLAIN-444  ...  [pine, needles, douglas, fir, redwood, provide...\n",
              "2318  PLAIN-672  ...  [benzodiazepines, medications, side, effects, ...\n",
              "2240  PLAIN-576  ...  [antacids, meat, medications, kidney, failure,...\n",
              "\n",
              "[3 rows x 3 columns]"
            ]
          },
          "metadata": {
            "tags": []
          },
          "execution_count": 17
        }
      ]
    },
    {
      "cell_type": "code",
      "metadata": {
        "colab": {
          "base_uri": "https://localhost:8080/",
          "height": 80
        },
        "id": "Gg41_OSG9A6j",
        "outputId": "43776f1a-8ad8-48fb-9d9d-482365492bbd"
      },
      "source": [
        "query.loc[query.QUERY_ID == 'PLAIN-120']"
      ],
      "execution_count": 18,
      "outputs": [
        {
          "output_type": "execute_result",
          "data": {
            "text/html": [
              "<div>\n",
              "<style scoped>\n",
              "    .dataframe tbody tr th:only-of-type {\n",
              "        vertical-align: middle;\n",
              "    }\n",
              "\n",
              "    .dataframe tbody tr th {\n",
              "        vertical-align: top;\n",
              "    }\n",
              "\n",
              "    .dataframe thead th {\n",
              "        text-align: right;\n",
              "    }\n",
              "</style>\n",
              "<table border=\"1\" class=\"dataframe\">\n",
              "  <thead>\n",
              "    <tr style=\"text-align: right;\">\n",
              "      <th></th>\n",
              "      <th>QUERY_ID</th>\n",
              "      <th>QUERY</th>\n",
              "      <th>PROCESSED_QUERY</th>\n",
              "    </tr>\n",
              "  </thead>\n",
              "  <tbody>\n",
              "    <tr>\n",
              "      <th>164</th>\n",
              "      <td>PLAIN-120</td>\n",
              "      <td>preloading with watercress before exercise cou...</td>\n",
              "      <td>[preloading, watercress, exercise, exercise, c...</td>\n",
              "    </tr>\n",
              "  </tbody>\n",
              "</table>\n",
              "</div>"
            ],
            "text/plain": [
              "      QUERY_ID  ...                                    PROCESSED_QUERY\n",
              "164  PLAIN-120  ...  [preloading, watercress, exercise, exercise, c...\n",
              "\n",
              "[1 rows x 3 columns]"
            ]
          },
          "metadata": {
            "tags": []
          },
          "execution_count": 18
        }
      ]
    },
    {
      "cell_type": "markdown",
      "metadata": {
        "id": "1iOxC8SOXWDV"
      },
      "source": [
        "---\n",
        "---\n",
        "# Omair's original query processing code (no functions)"
      ]
    },
    {
      "cell_type": "markdown",
      "metadata": {
        "id": "B5SVdGm0M6Zb"
      },
      "source": [
        "## 1. Lowercased:"
      ]
    },
    {
      "cell_type": "code",
      "metadata": {
        "id": "LJc22VaSNXbw"
      },
      "source": [
        "# doc['TITLE_ABSTRACT'] = doc['TITLE_ABSTRACT'].apply(lambda s:s.lower() if type(s) == str else s)\n",
        "# doc.head(1)"
      ],
      "execution_count": 19,
      "outputs": []
    },
    {
      "cell_type": "markdown",
      "metadata": {
        "id": "jUB6HzOA8T45"
      },
      "source": [
        "## 2. Tokenization: \n",
        "Splitting the sentence into words. So that each word can be considered uniquely."
      ]
    },
    {
      "cell_type": "code",
      "metadata": {
        "id": "dqGgi7R97Nq0"
      },
      "source": [
        "# doc['TOKENIZED_TEST'] = doc['TITLE_ABSTRACT'].apply(word_tokenize)\n",
        "# doc['TOKENIZED_TEST']"
      ],
      "execution_count": 20,
      "outputs": []
    },
    {
      "cell_type": "markdown",
      "metadata": {
        "id": "oeG8hTGyME1A"
      },
      "source": [
        "##3. Cleaning\n",
        "Cleaning step assumes removing all undesirable content.\n",
        "\n",
        "### 3a. Punctuation removal"
      ]
    },
    {
      "cell_type": "code",
      "metadata": {
        "id": "8jtS56Uz-tjk"
      },
      "source": [
        "# doc['TOKENIZED_TEST'] = doc['TOKENIZED_TEST'].apply(lambda x: [item for item in x if item not in string.punctuation])\n",
        "# display(f\"Punctuation symbols: {string.punctuation}\")\n",
        "# doc.head(1)"
      ],
      "execution_count": 21,
      "outputs": []
    },
    {
      "cell_type": "markdown",
      "metadata": {
        "id": "Zhj_lEjHMQyQ"
      },
      "source": [
        "### 3b. Stop words removal"
      ]
    },
    {
      "cell_type": "code",
      "metadata": {
        "id": "pEHX_4HrlBIs"
      },
      "source": [
        "# stop = set(stopwords.words('english'))\n",
        "# display(f\"Punctuation symbols: {stop}\")"
      ],
      "execution_count": 22,
      "outputs": []
    },
    {
      "cell_type": "code",
      "metadata": {
        "id": "pzeHKqI8JQmJ"
      },
      "source": [
        "# doc['TEXT_WITHOUT_STOPWORDS'] = doc['TOKENIZED_TEST'].apply(lambda x: [item for item in x if item not in stop])\n",
        "# doc.head(1)"
      ],
      "execution_count": 23,
      "outputs": []
    },
    {
      "cell_type": "markdown",
      "metadata": {
        "id": "nVN246IZMWF5"
      },
      "source": [
        "### 3c. Frequent words removal"
      ]
    },
    {
      "cell_type": "code",
      "metadata": {
        "id": "WtzmmHtOpaof"
      },
      "source": [
        "# doc['TEXT_WITHOUT_STOPWORDS'] = doc['TEXT_WITHOUT_STOPWORDS'].apply(lambda x: [item for item in x if item not in stopwords_given_list])\n",
        "# frequent_words= {'abstract','background'}\n",
        "# doc['TEXT_WITHOUT_STOPWORDS'] = doc['TEXT_WITHOUT_STOPWORDS'].apply(lambda x: [item for item in x if item not in frequent_words])\n",
        "# doc.head(3)"
      ],
      "execution_count": 24,
      "outputs": []
    },
    {
      "cell_type": "code",
      "metadata": {
        "id": "chj4R_6OE94o"
      },
      "source": [
        "# # first 30 words of first paper title and abstract\n",
        "# doc['TEXT_WITHOUT_STOPWORDS'][0][0:20]"
      ],
      "execution_count": 25,
      "outputs": []
    },
    {
      "cell_type": "code",
      "metadata": {
        "id": "Fc0hAOGiUUNW"
      },
      "source": [
        "# # Omair's version\n",
        "\n",
        "# # Applying the text processing to the 'query' file \n",
        "\n",
        "# query['QUERY'] = query['QUERY'].apply(lambda s:s.lower() if type(s) == str else s)\n",
        "# query['TOKENIZED_TEST'] = query['QUERY'].apply(word_tokenize) \n",
        "# query['TOKENIZED_TEST'] = query['TOKENIZED_TEST'].apply(lambda x: [item for item in x if item not in string.punctuation])\n",
        "# query['TEXT_WITHOUT_STOPWORDS'] = query['TOKENIZED_TEST'].apply(lambda x: [item for item in x if item not in stop])\n",
        "# query['TEXT_WITHOUT_STOPWORDS'] = query['TEXT_WITHOUT_STOPWORDS'].apply(lambda x: [item for item in x if item not in stopwords_given_list])"
      ],
      "execution_count": 26,
      "outputs": []
    },
    {
      "cell_type": "markdown",
      "metadata": {
        "id": "rZ-4A6UtRJqh"
      },
      "source": [
        "---\n",
        "---\n",
        "# **Creating** Class for BM25 </br>\n",
        "(code from lab - bm25_intro, 2021)"
      ]
    },
    {
      "cell_type": "code",
      "metadata": {
        "id": "rtVAODn6pWal"
      },
      "source": [
        "class BM25:\n",
        "    \"\"\"\n",
        "    Best Match 25.\n",
        "\n",
        "    Parameters\n",
        "    ----------\n",
        "    k1 : float, default 1.5\n",
        "\n",
        "    b : float, default 0.75\n",
        "\n",
        "    Attributes\n",
        "    ----------\n",
        "    tf_ : list[dict[str, int]]\n",
        "        Term Frequency per document. So [{'hi': 1}] means\n",
        "        the first document contains the term 'hi' 1 time.\n",
        "\n",
        "    df_ : dict[str, int]\n",
        "        Document Frequency per term. i.e. Number of documents in the\n",
        "        corpus that contains the term.\n",
        "\n",
        "    idf_ : dict[str, float]\n",
        "        Inverse Document Frequency per term.\n",
        "\n",
        "    doc_len_ : list[int]\n",
        "        Number of terms per document. So [3] means the first\n",
        "        document contains 3 terms.\n",
        "\n",
        "    corpus_ : list[list[str]]\n",
        "        The input corpus.\n",
        "\n",
        "    corpus_size_ : int\n",
        "        Number of documents in the corpus.\n",
        "\n",
        "    avg_doc_len_ : float\n",
        "        Average number of terms for documents in the corpus.\n",
        "    \"\"\"\n",
        "\n",
        "    def __init__(self, k1=1.2, b=0.75):\n",
        "        self.b = b\n",
        "        self.k1 = k1\n",
        "\n",
        "    def fit(self, corpus):\n",
        "        \"\"\"\n",
        "        Fit the various statistics that are required to calculate BM25 ranking\n",
        "        score using the corpus given.\n",
        "\n",
        "        Parameters\n",
        "        ----------\n",
        "        corpus : list[list[str]]\n",
        "            Each element in the list represents a document, and each document\n",
        "            is a list of the terms.\n",
        "\n",
        "        Returns\n",
        "        -------\n",
        "        self\n",
        "        \"\"\"\n",
        "        tf = []\n",
        "        df = {}\n",
        "        idf = {}\n",
        "        doc_len = []\n",
        "        corpus_size = 0\n",
        "        for document in corpus:\n",
        "            corpus_size += 1\n",
        "            doc_len.append(len(document))\n",
        "\n",
        "            # compute tf (term frequency) per document\n",
        "            frequencies = {}\n",
        "            for term in document:\n",
        "                term_count = frequencies.get(term, 0) + 1\n",
        "                frequencies[term] = term_count\n",
        "\n",
        "            tf.append(frequencies)\n",
        "\n",
        "            # compute df (document frequency) per term\n",
        "            for term, _ in frequencies.items():\n",
        "                df_count = df.get(term, 0) + 1\n",
        "                df[term] = df_count\n",
        "\n",
        "        for term, freq in df.items():\n",
        "            idf[term] = math.log(1 + (corpus_size - freq + 0.5) / (freq + 0.5))\n",
        "\n",
        "        self.tf_ = tf\n",
        "        self.df_ = df\n",
        "        self.idf_ = idf\n",
        "        self.doc_len_ = doc_len\n",
        "        self.corpus_ = corpus\n",
        "        self.corpus_size_ = corpus_size\n",
        "        self.avg_doc_len_ = sum(doc_len) / corpus_size\n",
        "        return self\n",
        "\n",
        "    def search(self, query):\n",
        "        scores = [self._score(query, index) for index in range(self.corpus_size_)]\n",
        "        return scores\n",
        "\n",
        "    def _score(self, query, index):\n",
        "        score = 0.0\n",
        "\n",
        "        doc_len = self.doc_len_[index]\n",
        "        frequencies = self.tf_[index]\n",
        "        for term in query:\n",
        "            if term not in frequencies:\n",
        "                continue\n",
        "\n",
        "            freq = frequencies[term]\n",
        "            numerator = self.idf_[term] * freq * (self.k1 + 1)\n",
        "            denominator = freq + self.k1 * (1 - self.b + self.b * doc_len / self.avg_doc_len_)\n",
        "            score += (numerator / denominator)\n",
        "\n",
        "        return score"
      ],
      "execution_count": 27,
      "outputs": []
    },
    {
      "cell_type": "code",
      "metadata": {
        "colab": {
          "base_uri": "https://localhost:8080/",
          "height": 142
        },
        "id": "JTFKQOL2pkE6",
        "outputId": "7ef18ab1-33a6-4653-caa5-3ec08b92155b"
      },
      "source": [
        "bm25 = BM25()\n",
        "bm25.fit(doc['PROCESSED_TITLE_ABSTRACT'])\n",
        "scores = bm25.search(query['PROCESSED_QUERY'][0])\n",
        "\n",
        "document_list = doc['ID'].tolist()\n",
        "list_of_doc_score = list(zip(scores, document_list))\n",
        "bm_rank = pd.DataFrame(list_of_doc_score, columns = ['Score', 'Doc_ID'])\n",
        "bm_rank = bm_rank.sort_values(by=\"Score\", ascending=False)\n",
        "bm_rank.head(3)\n",
        "#for score, document in zip(scores, document_list):\n",
        "#    score = round(score, 3)\n",
        "#    print(str(score) + '\\t' + document)"
      ],
      "execution_count": 28,
      "outputs": [
        {
          "output_type": "execute_result",
          "data": {
            "text/html": [
              "<div>\n",
              "<style scoped>\n",
              "    .dataframe tbody tr th:only-of-type {\n",
              "        vertical-align: middle;\n",
              "    }\n",
              "\n",
              "    .dataframe tbody tr th {\n",
              "        vertical-align: top;\n",
              "    }\n",
              "\n",
              "    .dataframe thead th {\n",
              "        text-align: right;\n",
              "    }\n",
              "</style>\n",
              "<table border=\"1\" class=\"dataframe\">\n",
              "  <thead>\n",
              "    <tr style=\"text-align: right;\">\n",
              "      <th></th>\n",
              "      <th>Score</th>\n",
              "      <th>Doc_ID</th>\n",
              "    </tr>\n",
              "  </thead>\n",
              "  <tbody>\n",
              "    <tr>\n",
              "      <th>2493</th>\n",
              "      <td>806.98746</td>\n",
              "      <td>MED-2494</td>\n",
              "    </tr>\n",
              "    <tr>\n",
              "      <th>51</th>\n",
              "      <td>806.98746</td>\n",
              "      <td>MED-52</td>\n",
              "    </tr>\n",
              "    <tr>\n",
              "      <th>1158</th>\n",
              "      <td>806.98746</td>\n",
              "      <td>MED-1159</td>\n",
              "    </tr>\n",
              "  </tbody>\n",
              "</table>\n",
              "</div>"
            ],
            "text/plain": [
              "          Score    Doc_ID\n",
              "2493  806.98746  MED-2494\n",
              "51    806.98746    MED-52\n",
              "1158  806.98746  MED-1159"
            ]
          },
          "metadata": {
            "tags": []
          },
          "execution_count": 28
        }
      ]
    },
    {
      "cell_type": "code",
      "metadata": {
        "colab": {
          "base_uri": "https://localhost:8080/",
          "height": 80
        },
        "id": "iYHNO1wAe_PC",
        "outputId": "f5312396-8739-4443-8013-9b8912860edd"
      },
      "source": [
        "bm_rank.loc[bm_rank.Doc_ID == 'MED-2494']"
      ],
      "execution_count": 29,
      "outputs": [
        {
          "output_type": "execute_result",
          "data": {
            "text/html": [
              "<div>\n",
              "<style scoped>\n",
              "    .dataframe tbody tr th:only-of-type {\n",
              "        vertical-align: middle;\n",
              "    }\n",
              "\n",
              "    .dataframe tbody tr th {\n",
              "        vertical-align: top;\n",
              "    }\n",
              "\n",
              "    .dataframe thead th {\n",
              "        text-align: right;\n",
              "    }\n",
              "</style>\n",
              "<table border=\"1\" class=\"dataframe\">\n",
              "  <thead>\n",
              "    <tr style=\"text-align: right;\">\n",
              "      <th></th>\n",
              "      <th>Score</th>\n",
              "      <th>Doc_ID</th>\n",
              "    </tr>\n",
              "  </thead>\n",
              "  <tbody>\n",
              "    <tr>\n",
              "      <th>2493</th>\n",
              "      <td>806.98746</td>\n",
              "      <td>MED-2494</td>\n",
              "    </tr>\n",
              "  </tbody>\n",
              "</table>\n",
              "</div>"
            ],
            "text/plain": [
              "          Score    Doc_ID\n",
              "2493  806.98746  MED-2494"
            ]
          },
          "metadata": {
            "tags": []
          },
          "execution_count": 29
        }
      ]
    },
    {
      "cell_type": "code",
      "metadata": {
        "colab": {
          "base_uri": "https://localhost:8080/"
        },
        "id": "U13eUgw1YP2g",
        "outputId": "9f8c2dd3-532e-40cd-f249-b169c615af03"
      },
      "source": [
        "type(document_list)"
      ],
      "execution_count": 30,
      "outputs": [
        {
          "output_type": "execute_result",
          "data": {
            "text/plain": [
              "list"
            ]
          },
          "metadata": {
            "tags": []
          },
          "execution_count": 30
        }
      ]
    },
    {
      "cell_type": "code",
      "metadata": {
        "colab": {
          "base_uri": "https://localhost:8080/",
          "height": 35
        },
        "id": "mtiDjzeRXJOd",
        "outputId": "14879092-df46-4311-8230-da8dd8943552"
      },
      "source": [
        "query['QUERY_ID'][0]"
      ],
      "execution_count": 31,
      "outputs": [
        {
          "output_type": "execute_result",
          "data": {
            "application/vnd.google.colaboratory.intrinsic+json": {
              "type": "string"
            },
            "text/plain": [
              "'PLAIN-10'"
            ]
          },
          "metadata": {
            "tags": []
          },
          "execution_count": 31
        }
      ]
    },
    {
      "cell_type": "code",
      "metadata": {
        "colab": {
          "base_uri": "https://localhost:8080/"
        },
        "id": "zZaMlVJYcdyS",
        "outputId": "19fd8538-48f8-4ab6-f42d-b9034a69eb32"
      },
      "source": [
        "len(doc['PROCESSED_TITLE_ABSTRACT'][0])"
      ],
      "execution_count": 32,
      "outputs": [
        {
          "output_type": "execute_result",
          "data": {
            "text/plain": [
              "168"
            ]
          },
          "metadata": {
            "tags": []
          },
          "execution_count": 32
        }
      ]
    },
    {
      "cell_type": "code",
      "metadata": {
        "id": "-fN6gZgHTlyZ"
      },
      "source": [
        "# # comment out to speed up running notebook as is slow to print every term:\n",
        "# for document in doc['PROCESSED_TITLE_ABSTRACT']:\n",
        "#   print(document)\n",
        "#   for term in document:\n",
        "#     print(term)"
      ],
      "execution_count": 33,
      "outputs": []
    },
    {
      "cell_type": "code",
      "metadata": {
        "id": "b85enjXB2F8V",
        "colab": {
          "base_uri": "https://localhost:8080/"
        },
        "outputId": "c2dde8e4-d4a4-4ff0-a9f7-c032025ac770"
      },
      "source": [
        "list_of_doc_score"
      ],
      "execution_count": 34,
      "outputs": [
        {
          "output_type": "execute_result",
          "data": {
            "text/plain": [
              "[(228.00878947210632, 'MED-1'),\n",
              " (182.22133736296118, 'MED-2'),\n",
              " (121.17186903293947, 'MED-3'),\n",
              " (242.9447882723667, 'MED-4'),\n",
              " (141.64124820481354, 'MED-5'),\n",
              " (181.43917892894711, 'MED-6'),\n",
              " (236.77239119255614, 'MED-7'),\n",
              " (195.25041603639488, 'MED-8'),\n",
              " (86.97551268641074, 'MED-9'),\n",
              " (347.63273073158996, 'MED-10'),\n",
              " (102.88922916760755, 'MED-11'),\n",
              " (79.31713529210107, 'MED-12'),\n",
              " (97.79459797013637, 'MED-13'),\n",
              " (90.02518500213488, 'MED-14'),\n",
              " (226.07571701376514, 'MED-15'),\n",
              " (122.2656508762412, 'MED-16'),\n",
              " (183.17849925189935, 'MED-17'),\n",
              " (134.71821358727559, 'MED-18'),\n",
              " (467.4344902645315, 'MED-19'),\n",
              " (137.19070789883938, 'MED-20'),\n",
              " (119.70351510078663, 'MED-21'),\n",
              " (174.51151273334239, 'MED-22'),\n",
              " (81.37754249607364, 'MED-23'),\n",
              " (220.0339861623931, 'MED-24'),\n",
              " (171.56745524173934, 'MED-25'),\n",
              " (44.511942486860846, 'MED-26'),\n",
              " (263.3553240617706, 'MED-27'),\n",
              " (74.0839610698771, 'MED-28'),\n",
              " (176.31866296516915, 'MED-29'),\n",
              " (199.20087684256782, 'MED-30'),\n",
              " (270.59961930998156, 'MED-31'),\n",
              " (191.02147108824468, 'MED-32'),\n",
              " (171.56745524173934, 'MED-33'),\n",
              " (135.98786060404018, 'MED-34'),\n",
              " (82.55376824366516, 'MED-35'),\n",
              " (161.66288716433428, 'MED-36'),\n",
              " (210.1248030966036, 'MED-37'),\n",
              " (523.823974509569, 'MED-38'),\n",
              " (229.3761292922373, 'MED-39'),\n",
              " (220.62418181888484, 'MED-40'),\n",
              " (200.19742262263557, 'MED-41'),\n",
              " (248.36502737426053, 'MED-42'),\n",
              " (279.77247373261037, 'MED-43'),\n",
              " (140.15325150082347, 'MED-44'),\n",
              " (230.25983121545096, 'MED-45'),\n",
              " (266.7997739983458, 'MED-46'),\n",
              " (223.36500152166502, 'MED-47'),\n",
              " (61.628869281431776, 'MED-48'),\n",
              " (229.42291895223428, 'MED-49'),\n",
              " (652.3858093764626, 'MED-50'),\n",
              " (264.3713722092402, 'MED-51'),\n",
              " (806.9874596157857, 'MED-52'),\n",
              " (319.9480893352871, 'MED-53'),\n",
              " (398.41493786436143, 'MED-54'),\n",
              " (624.5129854761223, 'MED-55'),\n",
              " (441.91641113574934, 'MED-56'),\n",
              " (166.99906688903354, 'MED-57'),\n",
              " (108.71086803315198, 'MED-58'),\n",
              " (139.09498888580265, 'MED-59'),\n",
              " (60.243364027516826, 'MED-60'),\n",
              " (227.84270066193824, 'MED-61'),\n",
              " (158.2005564284403, 'MED-62'),\n",
              " (175.65007864682948, 'MED-63'),\n",
              " (126.94554853418433, 'MED-64'),\n",
              " (132.825937285314, 'MED-65'),\n",
              " (111.1417962669662, 'MED-66'),\n",
              " (255.47856571685196, 'MED-67'),\n",
              " (166.99906688903354, 'MED-68'),\n",
              " (47.355684069628765, 'MED-69'),\n",
              " (560.4651921555621, 'MED-70'),\n",
              " (267.7509128855634, 'MED-71'),\n",
              " (132.825937285314, 'MED-72'),\n",
              " (74.7675753840469, 'MED-73'),\n",
              " (61.71582648112806, 'MED-74'),\n",
              " (219.0126489434956, 'MED-75'),\n",
              " (163.4228041811777, 'MED-76'),\n",
              " (73.91535398928221, 'MED-77'),\n",
              " (128.26686988522073, 'MED-78'),\n",
              " (74.29399705252803, 'MED-79'),\n",
              " (55.36530120521381, 'MED-80'),\n",
              " (181.96323309410823, 'MED-81'),\n",
              " (38.336028443267274, 'MED-82'),\n",
              " (102.00543562056734, 'MED-83'),\n",
              " (59.10347173753679, 'MED-84'),\n",
              " (124.24269867260448, 'MED-85'),\n",
              " (126.42197984238128, 'MED-86'),\n",
              " (62.39017652120709, 'MED-87'),\n",
              " (181.96323309410823, 'MED-88'),\n",
              " (87.8105404961526, 'MED-89'),\n",
              " (102.00543562056734, 'MED-90'),\n",
              " (143.9338038706942, 'MED-91'),\n",
              " (81.91078961174777, 'MED-92'),\n",
              " (271.51190499090916, 'MED-93'),\n",
              " (173.26732291094325, 'MED-94'),\n",
              " (140.07037745429074, 'MED-95'),\n",
              " (193.82784267348646, 'MED-96'),\n",
              " (124.54519407677908, 'MED-97'),\n",
              " (206.39277207187706, 'MED-98'),\n",
              " (353.1816272520084, 'MED-99'),\n",
              " (120.26757661069541, 'MED-100'),\n",
              " (64.47736253958736, 'MED-101'),\n",
              " (57.858680698705506, 'MED-102'),\n",
              " (51.35254248547792, 'MED-103'),\n",
              " (54.431684133084985, 'MED-104'),\n",
              " (58.59465695250051, 'MED-105'),\n",
              " (105.64186051756414, 'MED-106'),\n",
              " (33.71460151646222, 'MED-107'),\n",
              " (57.858680698705506, 'MED-108'),\n",
              " (23.902995066985625, 'MED-109'),\n",
              " (115.50659459333656, 'MED-110'),\n",
              " (117.31657346534261, 'MED-111'),\n",
              " (94.15157160939518, 'MED-112'),\n",
              " (198.42898132227293, 'MED-113'),\n",
              " (115.50659459333656, 'MED-114'),\n",
              " (60.42663185364625, 'MED-115'),\n",
              " (248.68411728405124, 'MED-116'),\n",
              " (169.47568792877874, 'MED-117'),\n",
              " (169.47568792877874, 'MED-118'),\n",
              " (171.45673577730616, 'MED-119'),\n",
              " (266.86569759875175, 'MED-120'),\n",
              " (140.15325150082347, 'MED-121'),\n",
              " (36.632903684866974, 'MED-122'),\n",
              " (171.85830176747905, 'MED-123'),\n",
              " (195.85029951556797, 'MED-124'),\n",
              " (238.87066913050447, 'MED-125'),\n",
              " (200.27144250513547, 'MED-126'),\n",
              " (132.45996634840344, 'MED-127'),\n",
              " (230.25983121545096, 'MED-128'),\n",
              " (97.74974448088633, 'MED-129'),\n",
              " (111.4238173250875, 'MED-130'),\n",
              " (158.92555372101103, 'MED-131'),\n",
              " (298.6333370962435, 'MED-132'),\n",
              " (154.3169954243145, 'MED-133'),\n",
              " (236.0391822486571, 'MED-134'),\n",
              " (392.8478171658638, 'MED-135'),\n",
              " (128.82958681745302, 'MED-136'),\n",
              " (126.06207448606786, 'MED-137'),\n",
              " (152.19461668594886, 'MED-138'),\n",
              " (134.32972901118882, 'MED-139'),\n",
              " (76.85733267491858, 'MED-140'),\n",
              " (87.93062375449318, 'MED-141'),\n",
              " (69.85978495970143, 'MED-142'),\n",
              " (65.9722475855513, 'MED-143'),\n",
              " (171.91124968742125, 'MED-144'),\n",
              " (105.8692136127156, 'MED-145'),\n",
              " (49.602395888877105, 'MED-146'),\n",
              " (101.87156983667496, 'MED-147'),\n",
              " (139.1319130043981, 'MED-148'),\n",
              " (151.62710521596907, 'MED-149'),\n",
              " (69.75803082875318, 'MED-150'),\n",
              " (124.84506286757185, 'MED-151'),\n",
              " (118.15947078799901, 'MED-152'),\n",
              " (118.96884731463152, 'MED-153'),\n",
              " (118.12076295789679, 'MED-154'),\n",
              " (151.5819933401349, 'MED-155'),\n",
              " (123.90210993163868, 'MED-156'),\n",
              " (86.73388176116826, 'MED-157'),\n",
              " (39.64852804031202, 'MED-158'),\n",
              " (79.94580204127638, 'MED-159'),\n",
              " (155.4802542222864, 'MED-160'),\n",
              " (108.86100143505412, 'MED-161'),\n",
              " (82.73598239133763, 'MED-162'),\n",
              " (83.02363488339158, 'MED-163'),\n",
              " (61.85105628785636, 'MED-164'),\n",
              " (83.64789052170009, 'MED-165'),\n",
              " (230.23781137375218, 'MED-166'),\n",
              " (115.52036553793495, 'MED-167'),\n",
              " (175.7005971872301, 'MED-168'),\n",
              " (144.22870206103374, 'MED-169'),\n",
              " (152.39996134327012, 'MED-170'),\n",
              " (152.780889131375, 'MED-171'),\n",
              " (92.96373077894215, 'MED-172'),\n",
              " (126.36498456851892, 'MED-173'),\n",
              " (53.36361480514869, 'MED-174'),\n",
              " (89.88855323259781, 'MED-175'),\n",
              " (145.66902974972183, 'MED-176'),\n",
              " (228.45015421005644, 'MED-177'),\n",
              " (58.75935283624409, 'MED-178'),\n",
              " (155.1692293575688, 'MED-179'),\n",
              " (162.27617280739204, 'MED-180'),\n",
              " (159.84457686278094, 'MED-181'),\n",
              " (115.3076294921747, 'MED-182'),\n",
              " (98.27400899250645, 'MED-183'),\n",
              " (159.85114274507265, 'MED-184'),\n",
              " (215.81117925292494, 'MED-185'),\n",
              " (191.80915889583508, 'MED-186'),\n",
              " (172.66438637974332, 'MED-187'),\n",
              " (133.30891927123923, 'MED-188'),\n",
              " (62.75505776808092, 'MED-189'),\n",
              " (98.45676865670774, 'MED-190'),\n",
              " (190.78221987967495, 'MED-191'),\n",
              " (133.6807060099241, 'MED-192'),\n",
              " (92.38635673131128, 'MED-193'),\n",
              " (170.17289384077918, 'MED-194'),\n",
              " (178.92939140158595, 'MED-195'),\n",
              " (41.467516185631446, 'MED-196'),\n",
              " (63.1437013285644, 'MED-197'),\n",
              " (265.84534779689363, 'MED-198'),\n",
              " (241.86854678822502, 'MED-199'),\n",
              " (90.25644059598473, 'MED-200'),\n",
              " (125.58945493194001, 'MED-201'),\n",
              " (144.81413929489116, 'MED-202'),\n",
              " (113.95274103472508, 'MED-203'),\n",
              " (150.06085903987815, 'MED-204'),\n",
              " (199.03696051370466, 'MED-205'),\n",
              " (118.89554312990984, 'MED-206'),\n",
              " (109.56994828759039, 'MED-207'),\n",
              " (63.54437764767001, 'MED-208'),\n",
              " (66.24976022649633, 'MED-209'),\n",
              " (123.68633575001611, 'MED-210'),\n",
              " (115.50659459333656, 'MED-211'),\n",
              " (88.48162537741106, 'MED-212'),\n",
              " (124.60732601863225, 'MED-213'),\n",
              " (61.465749897952804, 'MED-214'),\n",
              " (198.42898132227293, 'MED-215'),\n",
              " (130.46201529874998, 'MED-216'),\n",
              " (105.88191532185515, 'MED-217'),\n",
              " (441.5550116255276, 'MED-218'),\n",
              " (73.81380801135853, 'MED-219'),\n",
              " (98.26895538993448, 'MED-220'),\n",
              " (117.83379430537076, 'MED-221'),\n",
              " (67.39070431918047, 'MED-222'),\n",
              " (60.01888422466148, 'MED-223'),\n",
              " (78.18957468426159, 'MED-224'),\n",
              " (99.8023170943255, 'MED-225'),\n",
              " (46.29572132931722, 'MED-226'),\n",
              " (77.19997526138859, 'MED-227'),\n",
              " (62.61221515740283, 'MED-228'),\n",
              " (115.50659459333656, 'MED-229'),\n",
              " (91.19041368437888, 'MED-230'),\n",
              " (115.29432672250526, 'MED-231'),\n",
              " (171.41900433915856, 'MED-232'),\n",
              " (115.29432672250526, 'MED-233'),\n",
              " (64.05483649343748, 'MED-234'),\n",
              " (175.06306727327464, 'MED-235'),\n",
              " (171.690476298577, 'MED-236'),\n",
              " (144.9959611906906, 'MED-237'),\n",
              " (67.69874030249544, 'MED-238'),\n",
              " (157.47300853246819, 'MED-239'),\n",
              " (76.34287365442125, 'MED-240'),\n",
              " (109.36222127883518, 'MED-241'),\n",
              " (103.7266842069491, 'MED-242'),\n",
              " (55.072641938659345, 'MED-243'),\n",
              " (109.36222127883518, 'MED-244'),\n",
              " (63.80092897213838, 'MED-245'),\n",
              " (86.17141370562467, 'MED-246'),\n",
              " (103.26149549511291, 'MED-247'),\n",
              " (71.12950206972855, 'MED-248'),\n",
              " (109.84705753725306, 'MED-249'),\n",
              " (45.55800305355707, 'MED-250'),\n",
              " (83.49911451297847, 'MED-251'),\n",
              " (116.48284000674809, 'MED-252'),\n",
              " (103.7266842069491, 'MED-253'),\n",
              " (141.0659137663669, 'MED-254'),\n",
              " (117.98357794461441, 'MED-255'),\n",
              " (111.31716404383492, 'MED-256'),\n",
              " (236.1828996980042, 'MED-257'),\n",
              " (199.70791920020523, 'MED-258'),\n",
              " (241.5435462697059, 'MED-259'),\n",
              " (161.07474458238605, 'MED-260'),\n",
              " (253.41191410399367, 'MED-261'),\n",
              " (312.8171107559893, 'MED-262'),\n",
              " (64.17510213028514, 'MED-263'),\n",
              " (120.25003525302607, 'MED-264'),\n",
              " (119.13079153483308, 'MED-265'),\n",
              " (76.79330793804509, 'MED-266'),\n",
              " (132.9310795345518, 'MED-267'),\n",
              " (111.3440151716455, 'MED-268'),\n",
              " (153.55958236670605, 'MED-269'),\n",
              " (113.08406909475063, 'MED-270'),\n",
              " (98.33807825642336, 'MED-271'),\n",
              " (273.25622911939394, 'MED-272'),\n",
              " (178.01717339324378, 'MED-273'),\n",
              " (130.3967535474307, 'MED-274'),\n",
              " (218.00935905431598, 'MED-275'),\n",
              " (748.87374487875, 'MED-276'),\n",
              " (130.0320085648213, 'MED-277'),\n",
              " (139.10410881251855, 'MED-278'),\n",
              " (217.2183963916134, 'MED-279'),\n",
              " (139.32077700769165, 'MED-280'),\n",
              " (130.0320085648213, 'MED-281'),\n",
              " (157.5771744655774, 'MED-282'),\n",
              " (130.0320085648213, 'MED-283'),\n",
              " (57.94669019415606, 'MED-284'),\n",
              " (58.84635067215096, 'MED-285'),\n",
              " (147.12395608172685, 'MED-286'),\n",
              " (115.44896170128486, 'MED-287'),\n",
              " (176.66271243674575, 'MED-288'),\n",
              " (138.49001319966501, 'MED-289'),\n",
              " (148.15903825568824, 'MED-290'),\n",
              " (102.00543562056734, 'MED-291'),\n",
              " (111.35894587636712, 'MED-292'),\n",
              " (154.46003473531837, 'MED-293'),\n",
              " (151.7786209415538, 'MED-294'),\n",
              " (119.31947497643813, 'MED-295'),\n",
              " (92.47397801746868, 'MED-296'),\n",
              " (130.63453111111005, 'MED-297'),\n",
              " (151.62725935141367, 'MED-298'),\n",
              " (158.96845557539893, 'MED-299'),\n",
              " (63.1437013285644, 'MED-300'),\n",
              " (145.63801753150713, 'MED-301'),\n",
              " (241.5435462697059, 'MED-302'),\n",
              " (275.5386641191316, 'MED-303'),\n",
              " (246.09075864213912, 'MED-304'),\n",
              " (239.0077820448588, 'MED-305'),\n",
              " (111.31193315479985, 'MED-306'),\n",
              " (141.08171650949018, 'MED-307'),\n",
              " (249.31110577681778, 'MED-308'),\n",
              " (294.0501318936973, 'MED-309'),\n",
              " (198.28349034620334, 'MED-310'),\n",
              " (143.67531052217228, 'MED-311'),\n",
              " (119.2453643812207, 'MED-312'),\n",
              " (68.45904004550125, 'MED-313'),\n",
              " (96.99178185446718, 'MED-314'),\n",
              " (123.3816835788159, 'MED-315'),\n",
              " (58.921566533493824, 'MED-316'),\n",
              " (92.5582650958113, 'MED-317'),\n",
              " (86.11744936272972, 'MED-318'),\n",
              " (99.45222173909039, 'MED-319'),\n",
              " (400.247960989729, 'MED-320'),\n",
              " (140.21478982743994, 'MED-321'),\n",
              " (72.85763860136566, 'MED-322'),\n",
              " (170.91926819641694, 'MED-323'),\n",
              " (187.65447370386738, 'MED-324'),\n",
              " (178.00385157344817, 'MED-325'),\n",
              " (229.61812971316363, 'MED-326'),\n",
              " (153.69466914813535, 'MED-327'),\n",
              " (457.6382506651958, 'MED-328'),\n",
              " (155.1882558497319, 'MED-329'),\n",
              " (95.61256419576682, 'MED-330'),\n",
              " (137.28820295178033, 'MED-331'),\n",
              " (217.8100642155007, 'MED-332'),\n",
              " (496.5696791713344, 'MED-333'),\n",
              " (129.03858041381596, 'MED-334'),\n",
              " (170.25292379235387, 'MED-335'),\n",
              " (249.73178612388247, 'MED-336'),\n",
              " (39.47444620472886, 'MED-337'),\n",
              " (261.47950066490995, 'MED-338'),\n",
              " (110.3183276542823, 'MED-339'),\n",
              " (44.28624686624428, 'MED-340'),\n",
              " (160.5979525032995, 'MED-341'),\n",
              " (293.5880263653084, 'MED-342'),\n",
              " (166.34131298353174, 'MED-343'),\n",
              " (101.95710377697132, 'MED-344'),\n",
              " (162.19131511583728, 'MED-345'),\n",
              " (235.03375334564322, 'MED-346'),\n",
              " (261.47950066490995, 'MED-347'),\n",
              " (293.5880263653084, 'MED-348'),\n",
              " (710.5393531715918, 'MED-349'),\n",
              " (46.84038782785821, 'MED-350'),\n",
              " (147.45324112724413, 'MED-351'),\n",
              " (102.45748894750643, 'MED-352'),\n",
              " (124.71617811691651, 'MED-353'),\n",
              " (180.04317620717012, 'MED-354'),\n",
              " (77.29536785862079, 'MED-355'),\n",
              " (68.6105614615098, 'MED-356'),\n",
              " (139.98911488509066, 'MED-357'),\n",
              " (232.0076386686585, 'MED-358'),\n",
              " (158.8651948797237, 'MED-359'),\n",
              " (102.45748894750643, 'MED-360'),\n",
              " (139.580964458893, 'MED-361'),\n",
              " (52.08205806544842, 'MED-362'),\n",
              " (118.50991220820488, 'MED-363'),\n",
              " (204.67865346199318, 'MED-364'),\n",
              " (247.97567430488596, 'MED-365'),\n",
              " (228.76190726661628, 'MED-366'),\n",
              " (178.61427424847406, 'MED-367'),\n",
              " (88.74451115391427, 'MED-368'),\n",
              " (92.01808671279379, 'MED-369'),\n",
              " (73.67915142498848, 'MED-370'),\n",
              " (133.34265014263514, 'MED-371'),\n",
              " (179.08506082467431, 'MED-372'),\n",
              " (129.9897197688119, 'MED-373'),\n",
              " (42.069426006187705, 'MED-374'),\n",
              " (49.879476865899484, 'MED-375'),\n",
              " (190.64893773888147, 'MED-376'),\n",
              " (79.63076196585394, 'MED-377'),\n",
              " (87.16678248506253, 'MED-378'),\n",
              " (109.36557809519581, 'MED-379'),\n",
              " (83.07351198600082, 'MED-380'),\n",
              " (43.771292005994354, 'MED-381'),\n",
              " (105.92704381154101, 'MED-382'),\n",
              " (72.2921559971086, 'MED-383'),\n",
              " (99.71567419180828, 'MED-384'),\n",
              " (139.34610220098043, 'MED-385'),\n",
              " (190.79177763885522, 'MED-386'),\n",
              " (146.23757638662153, 'MED-387'),\n",
              " (86.79726902357412, 'MED-388'),\n",
              " (114.05132059753413, 'MED-389'),\n",
              " (102.97204799152665, 'MED-390'),\n",
              " (163.1848298368471, 'MED-391'),\n",
              " (171.53126022224882, 'MED-392'),\n",
              " (163.73262469256636, 'MED-393'),\n",
              " (73.36315412577967, 'MED-394'),\n",
              " (123.43245662471477, 'MED-395'),\n",
              " (143.35399117924072, 'MED-396'),\n",
              " (140.57902515302794, 'MED-397'),\n",
              " (63.99790990338809, 'MED-398'),\n",
              " (84.58911139862823, 'MED-399'),\n",
              " (169.53096171888063, 'MED-400'),\n",
              " (26.19763900170296, 'MED-401'),\n",
              " (139.62594655380926, 'MED-402'),\n",
              " (31.90262663236116, 'MED-403'),\n",
              " (198.72996590568115, 'MED-404'),\n",
              " (217.89445151801576, 'MED-405'),\n",
              " (86.14758285472641, 'MED-406'),\n",
              " (69.09703048281183, 'MED-407'),\n",
              " (159.752908493944, 'MED-408'),\n",
              " (144.94083899493, 'MED-409'),\n",
              " (171.3539382436684, 'MED-410'),\n",
              " (164.61451509223133, 'MED-411'),\n",
              " (185.16567509191648, 'MED-412'),\n",
              " (119.82283198554252, 'MED-413'),\n",
              " (146.95678059513727, 'MED-414'),\n",
              " (131.32699887012825, 'MED-415'),\n",
              " (159.752908493944, 'MED-416'),\n",
              " (133.29954748575295, 'MED-417'),\n",
              " (255.0452051057884, 'MED-418'),\n",
              " (169.7246019649556, 'MED-419'),\n",
              " (160.55828612236309, 'MED-420'),\n",
              " (171.53126022224882, 'MED-421'),\n",
              " (177.09880688089763, 'MED-422'),\n",
              " (216.87239967683146, 'MED-423'),\n",
              " (70.40137118822415, 'MED-424'),\n",
              " (73.48496643949538, 'MED-425'),\n",
              " (270.3596260608799, 'MED-426'),\n",
              " (38.80033105193131, 'MED-427'),\n",
              " (96.41370869372366, 'MED-428'),\n",
              " (73.78285875761676, 'MED-429'),\n",
              " (89.5682507175957, 'MED-430'),\n",
              " (281.7741451002426, 'MED-431'),\n",
              " (177.8854199362354, 'MED-432'),\n",
              " (159.36257510892338, 'MED-433'),\n",
              " (177.8854199362354, 'MED-434'),\n",
              " (80.30000009198405, 'MED-435'),\n",
              " (123.54289553024243, 'MED-436'),\n",
              " (495.6491518570839, 'MED-437'),\n",
              " (140.81058078927467, 'MED-438'),\n",
              " (288.0704691540601, 'MED-439'),\n",
              " (26.376585341699464, 'MED-440'),\n",
              " (141.30424152352, 'MED-441'),\n",
              " (100.01914421275944, 'MED-442'),\n",
              " (119.3705663527648, 'MED-443'),\n",
              " (183.97429834300286, 'MED-444'),\n",
              " (144.55995575448887, 'MED-445'),\n",
              " (180.9237052939051, 'MED-446'),\n",
              " (71.7826046778904, 'MED-447'),\n",
              " (83.3689107484779, 'MED-448'),\n",
              " (135.35786752303787, 'MED-449'),\n",
              " (168.96317171467052, 'MED-450'),\n",
              " (128.3073627782204, 'MED-451'),\n",
              " (161.01428128323212, 'MED-452'),\n",
              " (167.88837856917357, 'MED-453'),\n",
              " (156.12869459824896, 'MED-454'),\n",
              " (92.4776330424808, 'MED-455'),\n",
              " (138.96592651760682, 'MED-456'),\n",
              " (168.24077188384697, 'MED-457'),\n",
              " (107.33996635804287, 'MED-458'),\n",
              " (209.61917664118667, 'MED-459'),\n",
              " (107.33516919862912, 'MED-460'),\n",
              " (85.46207383590395, 'MED-461'),\n",
              " (106.52353986519867, 'MED-462'),\n",
              " (171.83420243880897, 'MED-463'),\n",
              " (157.83704030964765, 'MED-464'),\n",
              " (130.65722979645943, 'MED-465'),\n",
              " (157.62946511939597, 'MED-466'),\n",
              " (212.21221540782403, 'MED-467'),\n",
              " (171.9022233539858, 'MED-468'),\n",
              " (233.6944304838558, 'MED-469'),\n",
              " (233.6944304838558, 'MED-470'),\n",
              " (179.3982958830432, 'MED-471'),\n",
              " (169.07133929401272, 'MED-472'),\n",
              " (221.7241344163592, 'MED-473'),\n",
              " (394.2424611319543, 'MED-474'),\n",
              " (134.46302037683736, 'MED-475'),\n",
              " (221.7241344163592, 'MED-476'),\n",
              " (185.6689653046605, 'MED-477'),\n",
              " (263.4662513357889, 'MED-478'),\n",
              " (175.9010456757251, 'MED-479'),\n",
              " (214.6120559534993, 'MED-480'),\n",
              " (109.57397499632545, 'MED-481'),\n",
              " (178.33373026328437, 'MED-482'),\n",
              " (82.87773567172154, 'MED-483'),\n",
              " (121.13765853334334, 'MED-484'),\n",
              " (149.45173570581179, 'MED-485'),\n",
              " (131.53173713590627, 'MED-486'),\n",
              " (149.20805925911543, 'MED-487'),\n",
              " (103.99601491605102, 'MED-488'),\n",
              " (510.0234804677927, 'MED-489'),\n",
              " (65.33829905036988, 'MED-490'),\n",
              " (129.46444877496918, 'MED-491'),\n",
              " (101.99900399980271, 'MED-492'),\n",
              " (149.20805925911543, 'MED-493'),\n",
              " (151.47862035863568, 'MED-494'),\n",
              " (111.12225497354856, 'MED-495'),\n",
              " (125.61499399086702, 'MED-496'),\n",
              " (149.45173570581179, 'MED-497'),\n",
              " (113.76036871550885, 'MED-498'),\n",
              " (111.12225497354856, 'MED-499'),\n",
              " (49.37633739776531, 'MED-500'),\n",
              " (112.49245316915811, 'MED-501'),\n",
              " (149.45173570581179, 'MED-502'),\n",
              " (94.92572632323683, 'MED-503'),\n",
              " (99.84841835181679, 'MED-504'),\n",
              " (90.72148886363249, 'MED-505'),\n",
              " (73.66119827619305, 'MED-506'),\n",
              " (63.79074660087887, 'MED-507'),\n",
              " (168.870044388896, 'MED-508'),\n",
              " (162.32429655910607, 'MED-509'),\n",
              " (186.188522141698, 'MED-510'),\n",
              " (121.24903501782894, 'MED-511'),\n",
              " (97.99998535523534, 'MED-512'),\n",
              " (117.63590848413115, 'MED-513'),\n",
              " (117.45416687445963, 'MED-514'),\n",
              " (92.01808671279379, 'MED-515'),\n",
              " (94.46473141269894, 'MED-516'),\n",
              " (58.539473397209996, 'MED-517'),\n",
              " (129.0406291783895, 'MED-518'),\n",
              " (49.879476865899484, 'MED-519'),\n",
              " (76.36347894674208, 'MED-520'),\n",
              " (63.045408047437085, 'MED-521'),\n",
              " (190.64893773888147, 'MED-522'),\n",
              " (90.03150490269014, 'MED-523'),\n",
              " (44.30693977896915, 'MED-524'),\n",
              " (143.095114117175, 'MED-525'),\n",
              " (56.98387346691137, 'MED-526'),\n",
              " (119.13079153483308, 'MED-527'),\n",
              " (125.86050600709241, 'MED-528'),\n",
              " (43.771292005994354, 'MED-529'),\n",
              " (118.91193789067013, 'MED-530'),\n",
              " (104.93627304515007, 'MED-531'),\n",
              " (91.39156015946566, 'MED-532'),\n",
              " (100.64096333020596, 'MED-533'),\n",
              " (168.38243490791473, 'MED-534'),\n",
              " (106.89275882277623, 'MED-535'),\n",
              " (76.0857217116565, 'MED-536'),\n",
              " (163.12640568422643, 'MED-537'),\n",
              " (325.00660348132703, 'MED-538'),\n",
              " (106.05492891141154, 'MED-539'),\n",
              " (137.07977181821073, 'MED-540'),\n",
              " (156.350905723105, 'MED-541'),\n",
              " (125.43545154723373, 'MED-542'),\n",
              " (17.770760918580795, 'MED-543'),\n",
              " (64.45772319024391, 'MED-544'),\n",
              " (121.46200932858376, 'MED-545'),\n",
              " (222.85946524762144, 'MED-546'),\n",
              " (89.4020542178971, 'MED-547'),\n",
              " (146.89881972103876, 'MED-548'),\n",
              " (156.56818893787815, 'MED-549'),\n",
              " (81.09490286534418, 'MED-550'),\n",
              " (137.07020251511733, 'MED-551'),\n",
              " (199.58237270405792, 'MED-552'),\n",
              " (143.57614834005827, 'MED-553'),\n",
              " (141.48785302086793, 'MED-554'),\n",
              " (69.04341426713454, 'MED-555'),\n",
              " (116.48222585021765, 'MED-556'),\n",
              " (147.859706392478, 'MED-557'),\n",
              " (86.73858633083644, 'MED-558'),\n",
              " (50.90639055387644, 'MED-559'),\n",
              " (117.43478455440324, 'MED-560'),\n",
              " (54.7703315585972, 'MED-561'),\n",
              " (53.64843277253037, 'MED-562'),\n",
              " (52.43989011899466, 'MED-563'),\n",
              " (20.270146043241226, 'MED-564'),\n",
              " (32.199637680005544, 'MED-565'),\n",
              " (173.19153171316952, 'MED-566'),\n",
              " (91.16851572480297, 'MED-567'),\n",
              " (70.45251495775645, 'MED-568'),\n",
              " (83.79611039200468, 'MED-569'),\n",
              " (251.8448889627036, 'MED-570'),\n",
              " (212.75740419923244, 'MED-571'),\n",
              " (92.6353364503818, 'MED-572'),\n",
              " (90.98856322627961, 'MED-573'),\n",
              " (121.89029189674518, 'MED-574'),\n",
              " (92.6353364503818, 'MED-575'),\n",
              " (89.76825464174647, 'MED-576'),\n",
              " (218.04830548847096, 'MED-577'),\n",
              " (283.08081466227856, 'MED-578'),\n",
              " (170.77293375106436, 'MED-579'),\n",
              " (64.50862818149953, 'MED-580'),\n",
              " (45.77156179769079, 'MED-581'),\n",
              " (174.66596538860367, 'MED-582'),\n",
              " (98.11148506887511, 'MED-583'),\n",
              " (82.9893710022183, 'MED-584'),\n",
              " (117.19800710592943, 'MED-585'),\n",
              " (194.69199211406223, 'MED-586'),\n",
              " (200.79867048935995, 'MED-587'),\n",
              " (163.45871716512266, 'MED-588'),\n",
              " (174.33878992824168, 'MED-589'),\n",
              " (167.1730715231435, 'MED-590'),\n",
              " (260.0579556649289, 'MED-591'),\n",
              " (136.00549290688218, 'MED-592'),\n",
              " (425.4984443781667, 'MED-593'),\n",
              " (138.5983410891762, 'MED-594'),\n",
              " (362.0101907302374, 'MED-595'),\n",
              " (94.29423972232293, 'MED-596'),\n",
              " (43.54678244978686, 'MED-597'),\n",
              " (120.6527517033994, 'MED-598'),\n",
              " (404.42184968004796, 'MED-599'),\n",
              " (123.23979986490065, 'MED-600'),\n",
              " (134.75879994461687, 'MED-601'),\n",
              " (78.49803838555279, 'MED-602'),\n",
              " (52.29032383366819, 'MED-603'),\n",
              " (119.42173793861414, 'MED-604'),\n",
              " (175.3348048340635, 'MED-605'),\n",
              " (203.72242215179463, 'MED-606'),\n",
              " (110.27000841715518, 'MED-607'),\n",
              " (104.14679975953766, 'MED-608'),\n",
              " (229.90162136353956, 'MED-609'),\n",
              " (85.92704432625125, 'MED-610'),\n",
              " (105.52287881332444, 'MED-611'),\n",
              " (163.2098611532182, 'MED-612'),\n",
              " (208.33400326791048, 'MED-613'),\n",
              " (95.71182950861802, 'MED-614'),\n",
              " (128.98082823082848, 'MED-615'),\n",
              " (95.31964710744955, 'MED-616'),\n",
              " (185.5655073622663, 'MED-617'),\n",
              " (79.09810115607347, 'MED-618'),\n",
              " (132.72774851450984, 'MED-619'),\n",
              " (193.9984145909499, 'MED-620'),\n",
              " (91.91516226678412, 'MED-621'),\n",
              " (110.85127334710555, 'MED-622'),\n",
              " (63.83449203816052, 'MED-623'),\n",
              " (107.97531415762782, 'MED-624'),\n",
              " (80.80396423226918, 'MED-625'),\n",
              " (88.91459768989364, 'MED-626'),\n",
              " (113.51341976391399, 'MED-627'),\n",
              " (96.05574714787741, 'MED-628'),\n",
              " (43.10456246569134, 'MED-629'),\n",
              " (120.2307202094946, 'MED-630'),\n",
              " (168.57982764949276, 'MED-631'),\n",
              " (106.53097578585091, 'MED-632'),\n",
              " (86.08816214856711, 'MED-633'),\n",
              " (116.1131615327587, 'MED-634'),\n",
              " (118.31649758625576, 'MED-635'),\n",
              " (58.979449029788384, 'MED-636'),\n",
              " (150.00003211837688, 'MED-637'),\n",
              " (76.4802397109394, 'MED-638'),\n",
              " (95.38168701971082, 'MED-639'),\n",
              " (52.239794426436504, 'MED-640'),\n",
              " (454.21497161106475, 'MED-641'),\n",
              " (139.55759331332013, 'MED-642'),\n",
              " (101.89531106149377, 'MED-643'),\n",
              " (153.03754528749485, 'MED-644'),\n",
              " (133.9335665191933, 'MED-645'),\n",
              " (155.52845300464892, 'MED-646'),\n",
              " (147.36398026640845, 'MED-647'),\n",
              " (69.74980913112704, 'MED-648'),\n",
              " (104.62124196487964, 'MED-649'),\n",
              " (84.93300303993344, 'MED-650'),\n",
              " (566.6074152897302, 'MED-651'),\n",
              " (92.93714731289863, 'MED-652'),\n",
              " (153.65052618106736, 'MED-653'),\n",
              " (220.1155060663451, 'MED-654'),\n",
              " (114.17511132295833, 'MED-655'),\n",
              " (199.58309361186886, 'MED-656'),\n",
              " (135.33965185125828, 'MED-657'),\n",
              " (163.73262469256636, 'MED-658'),\n",
              " (163.1848298368471, 'MED-659'),\n",
              " (171.53126022224882, 'MED-660'),\n",
              " (69.60423943134626, 'MED-661'),\n",
              " (90.16349202050601, 'MED-662'),\n",
              " (119.06125418848444, 'MED-663'),\n",
              " (147.25683571823294, 'MED-664'),\n",
              " (116.48222585021765, 'MED-665'),\n",
              " (100.11825239972865, 'MED-666'),\n",
              " (108.35261742284153, 'MED-667'),\n",
              " (63.51443572017342, 'MED-668'),\n",
              " (82.62541526481168, 'MED-669'),\n",
              " (153.52704404262326, 'MED-670'),\n",
              " (156.0836358660307, 'MED-671'),\n",
              " (73.82457068413558, 'MED-672'),\n",
              " (65.88020382230475, 'MED-673'),\n",
              " (231.5007055307213, 'MED-674'),\n",
              " (119.84399665053517, 'MED-675'),\n",
              " (191.58424444500358, 'MED-676'),\n",
              " (102.88225960920758, 'MED-677'),\n",
              " (164.43347715897914, 'MED-678'),\n",
              " (156.07294145784314, 'MED-679'),\n",
              " (96.63763078634739, 'MED-680'),\n",
              " (62.22636887788221, 'MED-681'),\n",
              " (136.2429186560105, 'MED-682'),\n",
              " (38.32830142283546, 'MED-683'),\n",
              " (173.07793919138237, 'MED-684'),\n",
              " (168.28263680205612, 'MED-685'),\n",
              " (166.3772501670355, 'MED-686'),\n",
              " (184.17962689606438, 'MED-687'),\n",
              " (34.30022221534098, 'MED-688'),\n",
              " (95.24545040318591, 'MED-689'),\n",
              " (138.53820642102121, 'MED-690'),\n",
              " (130.24793333070835, 'MED-691'),\n",
              " (68.35942875162026, 'MED-692'),\n",
              " (90.50133723040278, 'MED-693'),\n",
              " (125.21863769972451, 'MED-694'),\n",
              " (209.92529943565233, 'MED-695'),\n",
              " (83.275947423655, 'MED-696'),\n",
              " (130.46201529874998, 'MED-697'),\n",
              " (83.48832967247773, 'MED-698'),\n",
              " (199.32643333093276, 'MED-699'),\n",
              " (190.19782800895206, 'MED-700'),\n",
              " (104.13658748425294, 'MED-701'),\n",
              " (86.60780237796264, 'MED-702'),\n",
              " (273.26164001954805, 'MED-703'),\n",
              " (101.68595539141647, 'MED-704'),\n",
              " (80.10676560120501, 'MED-705'),\n",
              " (92.80448561377658, 'MED-706'),\n",
              " (94.25366102340769, 'MED-707'),\n",
              " (75.65994528886222, 'MED-708'),\n",
              " (72.70528183193987, 'MED-709'),\n",
              " (121.75770203743818, 'MED-710'),\n",
              " (115.62661711676179, 'MED-711'),\n",
              " (108.10024285894731, 'MED-712'),\n",
              " (60.404645306775684, 'MED-713'),\n",
              " (189.37585381382854, 'MED-714'),\n",
              " (110.49575310122317, 'MED-715'),\n",
              " (220.6361556119803, 'MED-716'),\n",
              " (140.49377660335495, 'MED-717'),\n",
              " (92.30939097702628, 'MED-718'),\n",
              " (94.13373093999009, 'MED-719'),\n",
              " (35.97154004604207, 'MED-720'),\n",
              " (223.10660155393992, 'MED-721'),\n",
              " (49.710189161184466, 'MED-722'),\n",
              " (101.39665118203719, 'MED-723'),\n",
              " (94.13373093999009, 'MED-724'),\n",
              " (271.19464257213156, 'MED-725'),\n",
              " (68.92994320545507, 'MED-726'),\n",
              " (194.5027455228985, 'MED-727'),\n",
              " (218.12373780138697, 'MED-728'),\n",
              " (96.83758013713918, 'MED-729'),\n",
              " (122.50512860777103, 'MED-730'),\n",
              " (136.39912818386895, 'MED-731'),\n",
              " (64.73801894386712, 'MED-732'),\n",
              " (82.17214974809897, 'MED-733'),\n",
              " (43.55393525693519, 'MED-734'),\n",
              " (85.9200250068565, 'MED-735'),\n",
              " (494.06482221515995, 'MED-736'),\n",
              " (219.29008014697885, 'MED-737'),\n",
              " (163.16986676883678, 'MED-738'),\n",
              " (84.56719315368893, 'MED-739'),\n",
              " (153.70979290848658, 'MED-740'),\n",
              " (99.17009409414246, 'MED-741'),\n",
              " (271.19464257213156, 'MED-742'),\n",
              " (108.06450896006244, 'MED-743'),\n",
              " (88.26242760363466, 'MED-744'),\n",
              " (58.22281399043844, 'MED-745'),\n",
              " (67.95323554491695, 'MED-746'),\n",
              " (80.44441868543605, 'MED-747'),\n",
              " (73.09204000678973, 'MED-748'),\n",
              " (89.54558510358632, 'MED-749'),\n",
              " (123.54002616911895, 'MED-750'),\n",
              " (154.07951790138725, 'MED-751'),\n",
              " (112.36343201618273, 'MED-752'),\n",
              " (136.6561957837998, 'MED-753'),\n",
              " (124.68175351234113, 'MED-754'),\n",
              " (170.91926819641694, 'MED-755'),\n",
              " (123.4653545624165, 'MED-756'),\n",
              " (129.47675109886487, 'MED-757'),\n",
              " (153.07746989018878, 'MED-758'),\n",
              " (189.62882513425586, 'MED-759'),\n",
              " (95.44549077429721, 'MED-760'),\n",
              " (128.36310818137088, 'MED-761'),\n",
              " (160.28811942499215, 'MED-762'),\n",
              " (107.3657366584322, 'MED-763'),\n",
              " (344.8279800723273, 'MED-764'),\n",
              " (203.53468643312, 'MED-765'),\n",
              " (63.09323348551856, 'MED-766'),\n",
              " (150.79055955764846, 'MED-767'),\n",
              " (120.48502656843661, 'MED-768'),\n",
              " (205.00314570819856, 'MED-769'),\n",
              " (137.53258136478973, 'MED-770'),\n",
              " (345.9436590316205, 'MED-771'),\n",
              " (233.54237638795348, 'MED-772'),\n",
              " (66.61349158487837, 'MED-773'),\n",
              " (120.26783806661987, 'MED-774'),\n",
              " (516.7584515215946, 'MED-775'),\n",
              " (64.01148566961625, 'MED-776'),\n",
              " (120.48502656843661, 'MED-777'),\n",
              " (133.29635961064733, 'MED-778'),\n",
              " (144.55995575448887, 'MED-779'),\n",
              " (86.39537532110478, 'MED-780'),\n",
              " (39.8933240604489, 'MED-781'),\n",
              " (109.50609843740654, 'MED-782'),\n",
              " (103.05612908755201, 'MED-783'),\n",
              " (117.32613197961923, 'MED-784'),\n",
              " (69.784137475503, 'MED-785'),\n",
              " (104.90088049813096, 'MED-786'),\n",
              " (135.30815250795172, 'MED-787'),\n",
              " (138.53820642102121, 'MED-788'),\n",
              " (44.938068135794076, 'MED-789'),\n",
              " (138.53820642102121, 'MED-790'),\n",
              " (50.454337955218335, 'MED-791'),\n",
              " (428.2826968951946, 'MED-792'),\n",
              " (124.89769081707271, 'MED-793'),\n",
              " (142.54875946711977, 'MED-794'),\n",
              " (118.69748046892994, 'MED-795'),\n",
              " (114.6579771807675, 'MED-796'),\n",
              " (121.28273912104994, 'MED-797'),\n",
              " (174.76853780564085, 'MED-798'),\n",
              " (134.83245489668525, 'MED-799'),\n",
              " (215.79660420881146, 'MED-800'),\n",
              " (189.6047749571456, 'MED-801'),\n",
              " (220.0927234310526, 'MED-802'),\n",
              " (596.7220280439989, 'MED-803'),\n",
              " (349.43095202110146, 'MED-804'),\n",
              " (289.4483369556957, 'MED-805'),\n",
              " (385.2199689581355, 'MED-806'),\n",
              " (180.52557654770817, 'MED-807'),\n",
              " (189.6047749571456, 'MED-808'),\n",
              " (235.66735242041577, 'MED-809'),\n",
              " (513.9826761881955, 'MED-810'),\n",
              " (215.59171196132462, 'MED-811'),\n",
              " (317.8412616530935, 'MED-812'),\n",
              " (119.37806410838624, 'MED-813'),\n",
              " (143.83258450906465, 'MED-814'),\n",
              " (385.2199689581355, 'MED-815'),\n",
              " (94.99004014836896, 'MED-816'),\n",
              " (136.73933067898787, 'MED-817'),\n",
              " (129.37995168942513, 'MED-818'),\n",
              " (126.4518634324573, 'MED-819'),\n",
              " (109.1411332662651, 'MED-820'),\n",
              " (214.93121046591088, 'MED-821'),\n",
              " (103.65455847509553, 'MED-822'),\n",
              " (161.37027420444952, 'MED-823'),\n",
              " (127.17347308093268, 'MED-824'),\n",
              " (170.88531788744893, 'MED-825'),\n",
              " (91.3584045269425, 'MED-826'),\n",
              " (125.36609719791389, 'MED-827'),\n",
              " (135.86850299479468, 'MED-828'),\n",
              " (128.27330336584197, 'MED-829'),\n",
              " (80.87674791935912, 'MED-830'),\n",
              " (97.13394621704148, 'MED-831'),\n",
              " (172.56836619469584, 'MED-832'),\n",
              " (138.05264230525665, 'MED-833'),\n",
              " (97.3501295696574, 'MED-834'),\n",
              " (211.54516164288384, 'MED-835'),\n",
              " (171.76597341471305, 'MED-836'),\n",
              " (159.94556273593818, 'MED-837'),\n",
              " (163.76136270106736, 'MED-838'),\n",
              " (253.7399970121384, 'MED-839'),\n",
              " (89.45285186975826, 'MED-840'),\n",
              " (157.76325924029575, 'MED-841'),\n",
              " (65.36215214676648, 'MED-842'),\n",
              " (65.43342857573614, 'MED-843'),\n",
              " (71.816893921015, 'MED-844'),\n",
              " (60.342150731933, 'MED-845'),\n",
              " (59.999750301056885, 'MED-846'),\n",
              " (105.60750892392, 'MED-847'),\n",
              " (190.82240498924284, 'MED-848'),\n",
              " (259.174705800727, 'MED-849'),\n",
              " (84.14349728059511, 'MED-850'),\n",
              " (122.74216266721338, 'MED-851'),\n",
              " (93.77944115934098, 'MED-852'),\n",
              " (188.88548545947828, 'MED-853'),\n",
              " (57.60791600318228, 'MED-854'),\n",
              " (174.10966664778036, 'MED-855'),\n",
              " (123.71846470506414, 'MED-856'),\n",
              " (91.96497581393662, 'MED-857'),\n",
              " (38.32830142283546, 'MED-858'),\n",
              " (90.50133723040278, 'MED-859'),\n",
              " (125.21863769972451, 'MED-860'),\n",
              " (153.9191934472454, 'MED-861'),\n",
              " (162.27018516943798, 'MED-862'),\n",
              " (45.54498828999512, 'MED-863'),\n",
              " (50.556766269146095, 'MED-864'),\n",
              " (142.32875500763348, 'MED-865'),\n",
              " (159.05188088999225, 'MED-866'),\n",
              " (129.47285644204163, 'MED-867'),\n",
              " (145.0634440526922, 'MED-868'),\n",
              " (96.96107092388743, 'MED-869'),\n",
              " (163.7857331642887, 'MED-870'),\n",
              " (248.64950752704024, 'MED-871'),\n",
              " (229.5754411073344, 'MED-872'),\n",
              " (79.97160487954605, 'MED-873'),\n",
              " (53.21205310143107, 'MED-874'),\n",
              " (89.1062896758746, 'MED-875'),\n",
              " (136.29491232298733, 'MED-876'),\n",
              " (71.43457846821312, 'MED-877'),\n",
              " (81.55223976059688, 'MED-878'),\n",
              " (59.65287419322725, 'MED-879'),\n",
              " (136.4680652988237, 'MED-880'),\n",
              " (115.00273812551826, 'MED-881'),\n",
              " (68.59854749225786, 'MED-882'),\n",
              " (75.56798360235219, 'MED-883'),\n",
              " (139.0585057649475, 'MED-884'),\n",
              " (98.58023470459283, 'MED-885'),\n",
              " (84.76338040773926, 'MED-886'),\n",
              " (110.03300102103572, 'MED-887'),\n",
              " (57.48577159939607, 'MED-888'),\n",
              " (129.36613464203356, 'MED-889'),\n",
              " (191.5978121285933, 'MED-890'),\n",
              " (92.15450024722833, 'MED-891'),\n",
              " (98.87811135050327, 'MED-892'),\n",
              " (130.46201529874998, 'MED-893'),\n",
              " (105.46840921107878, 'MED-894'),\n",
              " (87.4877841267901, 'MED-895'),\n",
              " (277.7994543257525, 'MED-896'),\n",
              " (52.475070472870875, 'MED-897'),\n",
              " (139.14545798956578, 'MED-898'),\n",
              " (139.74407425720418, 'MED-899'),\n",
              " (181.41572601610926, 'MED-900'),\n",
              " (247.3566845911085, 'MED-901'),\n",
              " (135.7879967720134, 'MED-902'),\n",
              " (92.65427968619036, 'MED-903'),\n",
              " (192.52776696384277, 'MED-904'),\n",
              " (98.08973136048127, 'MED-905'),\n",
              " (68.48042287405917, 'MED-906'),\n",
              " (125.90880675650848, 'MED-907'),\n",
              " (131.48087090795661, 'MED-908'),\n",
              " (57.548419023492, 'MED-909'),\n",
              " (100.05561073216498, 'MED-910'),\n",
              " (121.4211697816483, 'MED-911'),\n",
              " (137.16606860432583, 'MED-912'),\n",
              " (198.26909170778285, 'MED-913'),\n",
              " (182.48336016911503, 'MED-914'),\n",
              " (244.93541667151055, 'MED-915'),\n",
              " (76.4802397109394, 'MED-916'),\n",
              " (60.395131581683074, 'MED-917'),\n",
              " (68.1171190888772, 'MED-918'),\n",
              " (110.49575310122317, 'MED-919'),\n",
              " (12.933888164796706, 'MED-920'),\n",
              " (144.22614551446793, 'MED-921'),\n",
              " (238.9309310139019, 'MED-922'),\n",
              " (63.153169753454165, 'MED-923'),\n",
              " (58.90260773635266, 'MED-924'),\n",
              " (63.06859097094456, 'MED-925'),\n",
              " (39.80227865132483, 'MED-926'),\n",
              " (160.79120382095437, 'MED-927'),\n",
              " (115.72302631292213, 'MED-928'),\n",
              " (176.0422532673321, 'MED-929'),\n",
              " (82.22977985749115, 'MED-930'),\n",
              " (118.33402369674394, 'MED-931'),\n",
              " (58.934903278120665, 'MED-932'),\n",
              " (77.86872493631256, 'MED-933'),\n",
              " (118.49995772035219, 'MED-934'),\n",
              " (193.9478760391318, 'MED-935'),\n",
              " (60.38572187415931, 'MED-936'),\n",
              " (86.23792816980014, 'MED-937'),\n",
              " (55.11883567040101, 'MED-938'),\n",
              " (179.80029957557025, 'MED-939'),\n",
              " (121.03765880717923, 'MED-940'),\n",
              " (90.42075954721462, 'MED-941'),\n",
              " (125.18413376172543, 'MED-942'),\n",
              " (52.10535471940302, 'MED-943'),\n",
              " (193.70330933750688, 'MED-944'),\n",
              " (171.6725986571146, 'MED-945'),\n",
              " (112.02249593377957, 'MED-946'),\n",
              " (79.19227635532513, 'MED-947'),\n",
              " (95.33045319059329, 'MED-948'),\n",
              " (60.696362161794, 'MED-949'),\n",
              " (81.99935829798959, 'MED-950'),\n",
              " (115.383571488519, 'MED-951'),\n",
              " (132.37953205539387, 'MED-952'),\n",
              " (123.71846470506414, 'MED-953'),\n",
              " (115.83529909388172, 'MED-954'),\n",
              " (146.41537716711403, 'MED-955'),\n",
              " (219.07291141857533, 'MED-956'),\n",
              " (269.99986665007685, 'MED-957'),\n",
              " (81.84352956875809, 'MED-958'),\n",
              " (95.2667838511672, 'MED-959'),\n",
              " (55.872012413925376, 'MED-960'),\n",
              " (109.42528222527906, 'MED-961'),\n",
              " (131.48087090795661, 'MED-962'),\n",
              " (121.30929362225562, 'MED-963'),\n",
              " (67.21512614213772, 'MED-964'),\n",
              " (401.38934212019456, 'MED-965'),\n",
              " (82.2247848400864, 'MED-966'),\n",
              " (142.67735075119157, 'MED-967'),\n",
              " (122.09496833707138, 'MED-968'),\n",
              " (69.95422018350851, 'MED-969'),\n",
              " (219.5426499428219, 'MED-970'),\n",
              " (99.29021423128641, 'MED-971'),\n",
              " (75.91824290668677, 'MED-972'),\n",
              " (181.42371260602874, 'MED-973'),\n",
              " (122.74399234152047, 'MED-974'),\n",
              " (129.3361309002528, 'MED-975'),\n",
              " (64.46943590183427, 'MED-976'),\n",
              " (99.29021423128641, 'MED-977'),\n",
              " (64.81951244835979, 'MED-978'),\n",
              " (50.27117940385085, 'MED-979'),\n",
              " (105.78839077523766, 'MED-980'),\n",
              " (194.65497385609623, 'MED-981'),\n",
              " (35.05411834915173, 'MED-982'),\n",
              " (181.33207185362565, 'MED-983'),\n",
              " (108.48263707293412, 'MED-984'),\n",
              " (503.64718649898407, 'MED-985'),\n",
              " (67.68750250513705, 'MED-986'),\n",
              " (104.45411537292776, 'MED-987'),\n",
              " (143.40419409432383, 'MED-988'),\n",
              " (710.5393531715918, 'MED-989'),\n",
              " (116.29989332227537, 'MED-990'),\n",
              " (97.8155673501644, 'MED-991'),\n",
              " (249.5844289028479, 'MED-992'),\n",
              " (70.81412614344887, 'MED-993'),\n",
              " (472.4796628090787, 'MED-994'),\n",
              " (187.84239527042766, 'MED-995'),\n",
              " (177.48140792032504, 'MED-996'),\n",
              " (345.4926332290542, 'MED-997'),\n",
              " (453.83030538573377, 'MED-998'),\n",
              " (394.37748379593813, 'MED-999'),\n",
              " (492.3968057565607, 'MED-1000'),\n",
              " ...]"
            ]
          },
          "metadata": {
            "tags": []
          },
          "execution_count": 34
        }
      ]
    },
    {
      "cell_type": "markdown",
      "metadata": {
        "id": "iy4SkHjjRGQ5"
      },
      "source": [
        "---\n",
        "--- \n",
        "# Sorting by Relevance\n",
        "--- "
      ]
    },
    {
      "cell_type": "code",
      "metadata": {
        "id": "xzj--vrDQRso"
      },
      "source": [
        "bm25 = BM25()\n",
        "bm25.fit(doc['PROCESSED_TITLE_ABSTRACT'])\n",
        "\n",
        "def retrieve_ranking(query, model, doc):\n",
        "  scores = model.search(query)\n",
        "  document_list = doc['ID'].tolist()\n",
        "  bm_rank = sorted(zip(document_list, scores), key = lambda tup:tup[1], reverse=True)\n",
        "  return bm_rank"
      ],
      "execution_count": 35,
      "outputs": []
    },
    {
      "cell_type": "code",
      "metadata": {
        "id": "Cp-naE25Qq27"
      },
      "source": [
        "# Calculate normalized dcg (ndcg) at k using \n",
        "# sklearn library: https://scikit-learn.org/stable/modules/generated/sklearn.metrics.ndcg_score.html\n",
        "\n",
        "# the things you need is y_true and y_target\n",
        "# first one comes from qrels and second from document rankings\n",
        "# The inputs are numpy arrays\n",
        "# for (n_samples, n_labels) in the documentation, here n_labels = 1\n",
        "\n",
        "def scoring(query, qrels, model, doc_ids, i, k=4):\n",
        "  for query_id, q in query.items():\n",
        "    # queries is q_id, q\n",
        "    query_qrels = [qrel[1:] for qrel in qrels if qrel[0] == query_id] # get the right qrels\n",
        "    # query_qrels is q_id, d_id, judg\n",
        "    ranked_docs = [x[0] for x in query_qrels]\n",
        "  \n",
        "    true_ranking = sorted(query_qrels, key=lambda tup:tup[1], reverse=True) # y_true\n",
        "    # need to add retrieved documents that did not appear in the qrels\n",
        "    true_ranking += [(doc_id, 0) for doc_id in doc_ids if doc_id not in ranked_docs]\n",
        "\n",
        "    doc_ranking_dict = dict(retrieve_ranking(q, model, doc))\n",
        "    doc_ranking_sorted = [(x[0], doc_ranking_dict[x[0]]) for x in true_ranking] # y_score\n",
        "    # need to add retrieved documents that did not appear in the qrels\n",
        "    # doc_ranking_sorted = doc_ranking_sorted + [(k,v) for k,v in doc_ranking_dict.items() if k not in ranked_docs]\n",
        "\n",
        "    ndcg = ndcg_score(\n",
        "      np.array([[x[1] for x in true_ranking]]),\n",
        "      np.array([[x[1] for x in doc_ranking_sorted]]),\n",
        "      k)\n",
        "    \n",
        "    #print('retrieved for \"{}\" with NDCG@{} of {}'.format(query, k, ndcg))\n",
        "    #print('retrieved for \"{}\" with NDCG@{} of {}'.format(i, k, ndcg))\n",
        "    return ndcg"
      ],
      "execution_count": 36,
      "outputs": []
    },
    {
      "cell_type": "code",
      "metadata": {
        "colab": {
          "base_uri": "https://localhost:8080/"
        },
        "id": "WArvisN-dCQ8",
        "outputId": "d338e689-e681-4881-d3ba-3b547ed55174"
      },
      "source": [
        "# Convert Pandas to List of Tuples in appropriate qrel format \n",
        "# [(0, 0, 0), (1, 1, 1)]\n",
        "\n",
        "q_rel = query_relevance.drop('0', axis=1)\n",
        "q_rel = q_rel.to_numpy()\n",
        "q_rel_tup = list(map(tuple, q_rel))\n",
        "q_rel_tup[0:5]"
      ],
      "execution_count": 37,
      "outputs": [
        {
          "output_type": "execute_result",
          "data": {
            "text/plain": [
              "[('PLAIN-3', 'MED-2436', 3),\n",
              " ('PLAIN-3', 'MED-2437', 3),\n",
              " ('PLAIN-3', 'MED-2438', 3),\n",
              " ('PLAIN-3', 'MED-2439', 3),\n",
              " ('PLAIN-3', 'MED-2440', 3)]"
            ]
          },
          "metadata": {
            "tags": []
          },
          "execution_count": 37
        }
      ]
    },
    {
      "cell_type": "code",
      "metadata": {
        "colab": {
          "base_uri": "https://localhost:8080/"
        },
        "id": "gRwwFi7YQtXn",
        "outputId": "fb07a0b8-b606-42c2-a5fe-0af53637fdc1"
      },
      "source": [
        "# NDCG Scores\n",
        "\n",
        "ndcg_scores = []\n",
        "\n",
        "for i in range(1307):\n",
        "  i = i\n",
        "  q = {query['QUERY_ID'][i]: query['PROCESSED_QUERY'][i]}\n",
        "  temp = scoring(q, q_rel_tup, bm25, doc['ID'], i, 4)\n",
        "  ndcg_scores.append(temp)\n",
        "  \n",
        "def av(x):\n",
        "    return sum(x) / len(x)\n",
        "\n",
        "av(ndcg_scores)"
      ],
      "execution_count": 38,
      "outputs": [
        {
          "output_type": "execute_result",
          "data": {
            "text/plain": [
              "0.2917813275215476"
            ]
          },
          "metadata": {
            "tags": []
          },
          "execution_count": 38
        }
      ]
    },
    {
      "cell_type": "markdown",
      "metadata": {
        "id": "bQXMZ9HTSmQd"
      },
      "source": [
        "---\n",
        "# Adding UI\n"
      ]
    },
    {
      "cell_type": "code",
      "metadata": {
        "id": "6XgjqoPByO1D"
      },
      "source": [
        "# #@title Medical Research Paper Search Engine\n",
        "# query = 'Heart Attack'  #@param {type:\"string\"}\n",
        "# before_year = 2021 #@param {type:\"number\"}\n",
        "# after_year = 1970 #@param {type:\"number\"}\n",
        "# before_year_slider = 2021 #@param {type:\"slider\", min:1970, max:2021, step:1}\n",
        "# after_year_slider = 1970 #@param {type:\"slider\", min:1970, max:2021, step:1}\n",
        "\n",
        "# query_terms = query.split(' ')\n",
        "\n",
        "\n",
        "# # term_search = [{\n",
        "# #                     \"term\": {\n",
        "# #                         \"body\": t\n",
        "# #                     }\n",
        "# #                 } for t in query_terms]\n",
        "\n",
        "# query_body = {\n",
        "#     \"query\":{\n",
        "#         \"bool\":{\n",
        "#             \"should\": [\n",
        "#                 {\n",
        "#                     \"term\": {\n",
        "#                         \"body\": query\n",
        "#                     }\n",
        "#                 },\n",
        "#                 {\n",
        "#                     \"range\":{\n",
        "#                         \"year\": {\n",
        "#                             \"gte\": after_year,\n",
        "#                             \"lte\": before_year\n",
        "#                         }\n",
        "                        \n",
        "#                     }\n",
        "#                 }\n",
        "#             ]\n",
        "#         }\n",
        "#     }\n",
        "# }\n",
        "# # query_body['query']['bool']['should'].append(term_search)\n",
        "# results, plain_results = search(index_name, query_body)\n",
        "# for doc_id, title, year, score in plain_results:\n",
        "#   print(doc_id, title, year, score)"
      ],
      "execution_count": 39,
      "outputs": []
    },
    {
      "cell_type": "markdown",
      "metadata": {
        "id": "ueyQBFmGSDAb"
      },
      "source": [
        "---\n",
        "# **References**\n",
        "\n",
        "*   Ethen8181.github.io. 2021. bm25_intro. [online] Available at: <http://ethen8181.github.io/machine-learning/search/bm25_intro.html> [Accessed 18 July 2021].\n",
        "*   List item\n",
        "\n"
      ]
    }
  ]
}
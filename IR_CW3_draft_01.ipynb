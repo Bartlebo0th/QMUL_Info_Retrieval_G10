{
 "cells": [
  {
   "cell_type": "code",
   "execution_count": 1,
   "metadata": {
    "colab": {
     "base_uri": "https://localhost:8080/"
    },
    "id": "jEMKlds2pVHy",
    "outputId": "d5c743f6-f457-476a-af6a-d4405b00d7bd"
   },
   "outputs": [
    {
     "name": "stderr",
     "output_type": "stream",
     "text": [
      "[nltk_data] Downloading package punkt to /Users/Ben/nltk_data...\n",
      "[nltk_data]   Package punkt is already up-to-date!\n"
     ]
    }
   ],
   "source": [
    "import math\n",
    "import pandas as pd\n",
    "import nltk\n",
    "nltk.download('punkt')\n",
    "import string\n",
    "from nltk.tokenize import word_tokenize\n",
    "from nltk.corpus import stopwords"
   ]
  },
  {
   "cell_type": "code",
   "execution_count": 2,
   "metadata": {
    "colab": {
     "base_uri": "https://localhost:8080/"
    },
    "id": "LuYieARrLF5V",
    "outputId": "c26bf924-f54c-4d52-86b2-471ae42dcdde"
   },
   "outputs": [
    {
     "name": "stdout",
     "output_type": "stream",
     "text": [
      "/Users/Ben/Dropbox (Personal)/01.0 DATA SCIENCE & AI/01. QUEEN MARY/ECS736P Information Retrieval/CW_3\r\n"
     ]
    }
   ],
   "source": [
    "!pwd"
   ]
  },
  {
   "cell_type": "code",
   "execution_count": 5,
   "metadata": {
    "id": "pJTfVT7bsnVd"
   },
   "outputs": [
    {
     "ename": "FileNotFoundError",
     "evalue": "[Errno 2] No such file or directory: '/content/sample_data/data/doc_dump.txt'",
     "output_type": "error",
     "traceback": [
      "\u001b[0;31m---------------------------------------------------------------------------\u001b[0m",
      "\u001b[0;31mFileNotFoundError\u001b[0m                         Traceback (most recent call last)",
      "\u001b[0;32m<ipython-input-5-2d68661b4eeb>\u001b[0m in \u001b[0;36m<module>\u001b[0;34m\u001b[0m\n\u001b[1;32m      1\u001b[0m \u001b[0mfilename\u001b[0m \u001b[0;34m=\u001b[0m \u001b[0;34m'/content/sample_data/data/doc_dump.txt'\u001b[0m\u001b[0;34m\u001b[0m\u001b[0;34m\u001b[0m\u001b[0m\n\u001b[1;32m      2\u001b[0m \u001b[0;31m#pd.read_csv(filename, sep='\\t', names=None)\u001b[0m\u001b[0;34m\u001b[0m\u001b[0;34m\u001b[0m\u001b[0;34m\u001b[0m\u001b[0m\n\u001b[0;32m----> 3\u001b[0;31m \u001b[0mdoc\u001b[0m \u001b[0;34m=\u001b[0m \u001b[0mpd\u001b[0m\u001b[0;34m.\u001b[0m\u001b[0mread_csv\u001b[0m\u001b[0;34m(\u001b[0m\u001b[0mfilename\u001b[0m\u001b[0;34m,\u001b[0m \u001b[0msep\u001b[0m \u001b[0;34m=\u001b[0m \u001b[0;34m'\\t'\u001b[0m\u001b[0;34m,\u001b[0m \u001b[0mheader\u001b[0m\u001b[0;34m=\u001b[0m\u001b[0;32mNone\u001b[0m\u001b[0;34m)\u001b[0m\u001b[0;34m\u001b[0m\u001b[0;34m\u001b[0m\u001b[0m\n\u001b[0m\u001b[1;32m      4\u001b[0m \u001b[0mdoc\u001b[0m\u001b[0;34m.\u001b[0m\u001b[0mcolumns\u001b[0m \u001b[0;34m=\u001b[0m\u001b[0;34m[\u001b[0m\u001b[0;34m'ID'\u001b[0m\u001b[0;34m,\u001b[0m \u001b[0;34m'URL'\u001b[0m\u001b[0;34m,\u001b[0m \u001b[0;34m'TITLE'\u001b[0m\u001b[0;34m,\u001b[0m \u001b[0;34m'ABSTRACT'\u001b[0m\u001b[0;34m]\u001b[0m\u001b[0;34m\u001b[0m\u001b[0;34m\u001b[0m\u001b[0m\n",
      "\u001b[0;32m~/opt/anaconda3/lib/python3.7/site-packages/pandas/io/parsers.py\u001b[0m in \u001b[0;36mread_csv\u001b[0;34m(filepath_or_buffer, sep, delimiter, header, names, index_col, usecols, squeeze, prefix, mangle_dupe_cols, dtype, engine, converters, true_values, false_values, skipinitialspace, skiprows, skipfooter, nrows, na_values, keep_default_na, na_filter, verbose, skip_blank_lines, parse_dates, infer_datetime_format, keep_date_col, date_parser, dayfirst, cache_dates, iterator, chunksize, compression, thousands, decimal, lineterminator, quotechar, quoting, doublequote, escapechar, comment, encoding, dialect, error_bad_lines, warn_bad_lines, delim_whitespace, low_memory, memory_map, float_precision, storage_options)\u001b[0m\n\u001b[1;32m    603\u001b[0m     \u001b[0mkwds\u001b[0m\u001b[0;34m.\u001b[0m\u001b[0mupdate\u001b[0m\u001b[0;34m(\u001b[0m\u001b[0mkwds_defaults\u001b[0m\u001b[0;34m)\u001b[0m\u001b[0;34m\u001b[0m\u001b[0;34m\u001b[0m\u001b[0m\n\u001b[1;32m    604\u001b[0m \u001b[0;34m\u001b[0m\u001b[0m\n\u001b[0;32m--> 605\u001b[0;31m     \u001b[0;32mreturn\u001b[0m \u001b[0m_read\u001b[0m\u001b[0;34m(\u001b[0m\u001b[0mfilepath_or_buffer\u001b[0m\u001b[0;34m,\u001b[0m \u001b[0mkwds\u001b[0m\u001b[0;34m)\u001b[0m\u001b[0;34m\u001b[0m\u001b[0;34m\u001b[0m\u001b[0m\n\u001b[0m\u001b[1;32m    606\u001b[0m \u001b[0;34m\u001b[0m\u001b[0m\n\u001b[1;32m    607\u001b[0m \u001b[0;34m\u001b[0m\u001b[0m\n",
      "\u001b[0;32m~/opt/anaconda3/lib/python3.7/site-packages/pandas/io/parsers.py\u001b[0m in \u001b[0;36m_read\u001b[0;34m(filepath_or_buffer, kwds)\u001b[0m\n\u001b[1;32m    455\u001b[0m \u001b[0;34m\u001b[0m\u001b[0m\n\u001b[1;32m    456\u001b[0m     \u001b[0;31m# Create the parser.\u001b[0m\u001b[0;34m\u001b[0m\u001b[0;34m\u001b[0m\u001b[0;34m\u001b[0m\u001b[0m\n\u001b[0;32m--> 457\u001b[0;31m     \u001b[0mparser\u001b[0m \u001b[0;34m=\u001b[0m \u001b[0mTextFileReader\u001b[0m\u001b[0;34m(\u001b[0m\u001b[0mfilepath_or_buffer\u001b[0m\u001b[0;34m,\u001b[0m \u001b[0;34m**\u001b[0m\u001b[0mkwds\u001b[0m\u001b[0;34m)\u001b[0m\u001b[0;34m\u001b[0m\u001b[0;34m\u001b[0m\u001b[0m\n\u001b[0m\u001b[1;32m    458\u001b[0m \u001b[0;34m\u001b[0m\u001b[0m\n\u001b[1;32m    459\u001b[0m     \u001b[0;32mif\u001b[0m \u001b[0mchunksize\u001b[0m \u001b[0;32mor\u001b[0m \u001b[0miterator\u001b[0m\u001b[0;34m:\u001b[0m\u001b[0;34m\u001b[0m\u001b[0;34m\u001b[0m\u001b[0m\n",
      "\u001b[0;32m~/opt/anaconda3/lib/python3.7/site-packages/pandas/io/parsers.py\u001b[0m in \u001b[0;36m__init__\u001b[0;34m(self, f, engine, **kwds)\u001b[0m\n\u001b[1;32m    812\u001b[0m             \u001b[0mself\u001b[0m\u001b[0;34m.\u001b[0m\u001b[0moptions\u001b[0m\u001b[0;34m[\u001b[0m\u001b[0;34m\"has_index_names\"\u001b[0m\u001b[0;34m]\u001b[0m \u001b[0;34m=\u001b[0m \u001b[0mkwds\u001b[0m\u001b[0;34m[\u001b[0m\u001b[0;34m\"has_index_names\"\u001b[0m\u001b[0;34m]\u001b[0m\u001b[0;34m\u001b[0m\u001b[0;34m\u001b[0m\u001b[0m\n\u001b[1;32m    813\u001b[0m \u001b[0;34m\u001b[0m\u001b[0m\n\u001b[0;32m--> 814\u001b[0;31m         \u001b[0mself\u001b[0m\u001b[0;34m.\u001b[0m\u001b[0m_engine\u001b[0m \u001b[0;34m=\u001b[0m \u001b[0mself\u001b[0m\u001b[0;34m.\u001b[0m\u001b[0m_make_engine\u001b[0m\u001b[0;34m(\u001b[0m\u001b[0mself\u001b[0m\u001b[0;34m.\u001b[0m\u001b[0mengine\u001b[0m\u001b[0;34m)\u001b[0m\u001b[0;34m\u001b[0m\u001b[0;34m\u001b[0m\u001b[0m\n\u001b[0m\u001b[1;32m    815\u001b[0m \u001b[0;34m\u001b[0m\u001b[0m\n\u001b[1;32m    816\u001b[0m     \u001b[0;32mdef\u001b[0m \u001b[0mclose\u001b[0m\u001b[0;34m(\u001b[0m\u001b[0mself\u001b[0m\u001b[0;34m)\u001b[0m\u001b[0;34m:\u001b[0m\u001b[0;34m\u001b[0m\u001b[0;34m\u001b[0m\u001b[0m\n",
      "\u001b[0;32m~/opt/anaconda3/lib/python3.7/site-packages/pandas/io/parsers.py\u001b[0m in \u001b[0;36m_make_engine\u001b[0;34m(self, engine)\u001b[0m\n\u001b[1;32m   1043\u001b[0m             )\n\u001b[1;32m   1044\u001b[0m         \u001b[0;31m# error: Too many arguments for \"ParserBase\"\u001b[0m\u001b[0;34m\u001b[0m\u001b[0;34m\u001b[0m\u001b[0;34m\u001b[0m\u001b[0m\n\u001b[0;32m-> 1045\u001b[0;31m         \u001b[0;32mreturn\u001b[0m \u001b[0mmapping\u001b[0m\u001b[0;34m[\u001b[0m\u001b[0mengine\u001b[0m\u001b[0;34m]\u001b[0m\u001b[0;34m(\u001b[0m\u001b[0mself\u001b[0m\u001b[0;34m.\u001b[0m\u001b[0mf\u001b[0m\u001b[0;34m,\u001b[0m \u001b[0;34m**\u001b[0m\u001b[0mself\u001b[0m\u001b[0;34m.\u001b[0m\u001b[0moptions\u001b[0m\u001b[0;34m)\u001b[0m  \u001b[0;31m# type: ignore[call-arg]\u001b[0m\u001b[0;34m\u001b[0m\u001b[0;34m\u001b[0m\u001b[0m\n\u001b[0m\u001b[1;32m   1046\u001b[0m \u001b[0;34m\u001b[0m\u001b[0m\n\u001b[1;32m   1047\u001b[0m     \u001b[0;32mdef\u001b[0m \u001b[0m_failover_to_python\u001b[0m\u001b[0;34m(\u001b[0m\u001b[0mself\u001b[0m\u001b[0;34m)\u001b[0m\u001b[0;34m:\u001b[0m\u001b[0;34m\u001b[0m\u001b[0;34m\u001b[0m\u001b[0m\n",
      "\u001b[0;32m~/opt/anaconda3/lib/python3.7/site-packages/pandas/io/parsers.py\u001b[0m in \u001b[0;36m__init__\u001b[0;34m(self, src, **kwds)\u001b[0m\n\u001b[1;32m   1860\u001b[0m \u001b[0;34m\u001b[0m\u001b[0m\n\u001b[1;32m   1861\u001b[0m         \u001b[0;31m# open handles\u001b[0m\u001b[0;34m\u001b[0m\u001b[0;34m\u001b[0m\u001b[0;34m\u001b[0m\u001b[0m\n\u001b[0;32m-> 1862\u001b[0;31m         \u001b[0mself\u001b[0m\u001b[0;34m.\u001b[0m\u001b[0m_open_handles\u001b[0m\u001b[0;34m(\u001b[0m\u001b[0msrc\u001b[0m\u001b[0;34m,\u001b[0m \u001b[0mkwds\u001b[0m\u001b[0;34m)\u001b[0m\u001b[0;34m\u001b[0m\u001b[0;34m\u001b[0m\u001b[0m\n\u001b[0m\u001b[1;32m   1863\u001b[0m         \u001b[0;32massert\u001b[0m \u001b[0mself\u001b[0m\u001b[0;34m.\u001b[0m\u001b[0mhandles\u001b[0m \u001b[0;32mis\u001b[0m \u001b[0;32mnot\u001b[0m \u001b[0;32mNone\u001b[0m\u001b[0;34m\u001b[0m\u001b[0;34m\u001b[0m\u001b[0m\n\u001b[1;32m   1864\u001b[0m         \u001b[0;32mfor\u001b[0m \u001b[0mkey\u001b[0m \u001b[0;32min\u001b[0m \u001b[0;34m(\u001b[0m\u001b[0;34m\"storage_options\"\u001b[0m\u001b[0;34m,\u001b[0m \u001b[0;34m\"encoding\"\u001b[0m\u001b[0;34m,\u001b[0m \u001b[0;34m\"memory_map\"\u001b[0m\u001b[0;34m,\u001b[0m \u001b[0;34m\"compression\"\u001b[0m\u001b[0;34m)\u001b[0m\u001b[0;34m:\u001b[0m\u001b[0;34m\u001b[0m\u001b[0;34m\u001b[0m\u001b[0m\n",
      "\u001b[0;32m~/opt/anaconda3/lib/python3.7/site-packages/pandas/io/parsers.py\u001b[0m in \u001b[0;36m_open_handles\u001b[0;34m(self, src, kwds)\u001b[0m\n\u001b[1;32m   1361\u001b[0m             \u001b[0mcompression\u001b[0m\u001b[0;34m=\u001b[0m\u001b[0mkwds\u001b[0m\u001b[0;34m.\u001b[0m\u001b[0mget\u001b[0m\u001b[0;34m(\u001b[0m\u001b[0;34m\"compression\"\u001b[0m\u001b[0;34m,\u001b[0m \u001b[0;32mNone\u001b[0m\u001b[0;34m)\u001b[0m\u001b[0;34m,\u001b[0m\u001b[0;34m\u001b[0m\u001b[0;34m\u001b[0m\u001b[0m\n\u001b[1;32m   1362\u001b[0m             \u001b[0mmemory_map\u001b[0m\u001b[0;34m=\u001b[0m\u001b[0mkwds\u001b[0m\u001b[0;34m.\u001b[0m\u001b[0mget\u001b[0m\u001b[0;34m(\u001b[0m\u001b[0;34m\"memory_map\"\u001b[0m\u001b[0;34m,\u001b[0m \u001b[0;32mFalse\u001b[0m\u001b[0;34m)\u001b[0m\u001b[0;34m,\u001b[0m\u001b[0;34m\u001b[0m\u001b[0;34m\u001b[0m\u001b[0m\n\u001b[0;32m-> 1363\u001b[0;31m             \u001b[0mstorage_options\u001b[0m\u001b[0;34m=\u001b[0m\u001b[0mkwds\u001b[0m\u001b[0;34m.\u001b[0m\u001b[0mget\u001b[0m\u001b[0;34m(\u001b[0m\u001b[0;34m\"storage_options\"\u001b[0m\u001b[0;34m,\u001b[0m \u001b[0;32mNone\u001b[0m\u001b[0;34m)\u001b[0m\u001b[0;34m,\u001b[0m\u001b[0;34m\u001b[0m\u001b[0;34m\u001b[0m\u001b[0m\n\u001b[0m\u001b[1;32m   1364\u001b[0m         )\n\u001b[1;32m   1365\u001b[0m \u001b[0;34m\u001b[0m\u001b[0m\n",
      "\u001b[0;32m~/opt/anaconda3/lib/python3.7/site-packages/pandas/io/common.py\u001b[0m in \u001b[0;36mget_handle\u001b[0;34m(path_or_buf, mode, encoding, compression, memory_map, is_text, errors, storage_options)\u001b[0m\n\u001b[1;32m    645\u001b[0m                 \u001b[0mencoding\u001b[0m\u001b[0;34m=\u001b[0m\u001b[0mioargs\u001b[0m\u001b[0;34m.\u001b[0m\u001b[0mencoding\u001b[0m\u001b[0;34m,\u001b[0m\u001b[0;34m\u001b[0m\u001b[0;34m\u001b[0m\u001b[0m\n\u001b[1;32m    646\u001b[0m                 \u001b[0merrors\u001b[0m\u001b[0;34m=\u001b[0m\u001b[0merrors\u001b[0m\u001b[0;34m,\u001b[0m\u001b[0;34m\u001b[0m\u001b[0;34m\u001b[0m\u001b[0m\n\u001b[0;32m--> 647\u001b[0;31m                 \u001b[0mnewline\u001b[0m\u001b[0;34m=\u001b[0m\u001b[0;34m\"\"\u001b[0m\u001b[0;34m,\u001b[0m\u001b[0;34m\u001b[0m\u001b[0;34m\u001b[0m\u001b[0m\n\u001b[0m\u001b[1;32m    648\u001b[0m             )\n\u001b[1;32m    649\u001b[0m         \u001b[0;32melse\u001b[0m\u001b[0;34m:\u001b[0m\u001b[0;34m\u001b[0m\u001b[0;34m\u001b[0m\u001b[0m\n",
      "\u001b[0;31mFileNotFoundError\u001b[0m: [Errno 2] No such file or directory: '/content/sample_data/data/doc_dump.txt'"
     ]
    }
   ],
   "source": [
    "filename = '/content/sample_data/data/doc_dump.txt'\n",
    "filename = '/content/sample_data/data/doc_dump.txt'\n",
    "#pd.read_csv(filename, sep='\\t', names=None)\n",
    "doc = pd.read_csv(filename, sep = '\\t', header=None)\n",
    "doc.columns =['ID', 'URL', 'TITLE', 'ABSTRACT']"
   ]
  },
  {
   "cell_type": "code",
   "execution_count": null,
   "metadata": {
    "colab": {
     "base_uri": "https://localhost:8080/",
     "height": 421
    },
    "id": "J47fjIVt2RrR",
    "outputId": "8c86d1c1-aa56-4e5b-8426-311a6fb4b8d8"
   },
   "outputs": [],
   "source": [
    "doc"
   ]
  },
  {
   "cell_type": "code",
   "execution_count": null,
   "metadata": {
    "id": "7L66Z4234Rky"
   },
   "outputs": [],
   "source": [
    "doc['TITLE_ABSTRACT'] = doc[['TITLE', 'ABSTRACT']].apply(lambda x: ''.join(x), axis=1)"
   ]
  },
  {
   "cell_type": "code",
   "execution_count": null,
   "metadata": {
    "colab": {
     "base_uri": "https://localhost:8080/",
     "height": 242
    },
    "id": "PF1fOTDftjRp",
    "outputId": "a39037c6-6f41-4344-ef2f-3fd5a4756605"
   },
   "outputs": [
    {
     "data": {
      "application/vnd.google.colaboratory.intrinsic+json": {
       "type": "string"
      },
      "text/plain": [
       "'statin use and breast cancer survival: a nationwide cohort study from finlandabstract recent studies have suggested that statins, an established drug group in the prevention of cardiovascular mortality, could delay or prevent breast cancer recurrence but the effect on disease-specific mortality remains unclear. we evaluated risk of breast cancer death among statin users in a population-based cohort of breast cancer patients. the study cohort included all newly diagnosed breast cancer patients in finland during 1995–2003 (31,236 cases), identified from the finnish cancer registry. information on statin use before and after the diagnosis was obtained from a national prescription database. we used the cox proportional hazards regression method to estimate mortality among statin users with statin use as time-dependent variable. a total of 4,151 participants had used statins. during the median follow-up of 3.25 years after the diagnosis (range 0.08–9.0 years) 6,011 participants died, of which 3,619 (60.2%) was due to breast cancer. after adjustment for age, tumor characteristics, and treatment selection, both post-diagnostic and pre-diagnostic statin use were associated with lowered risk of breast cancer death (hr 0.46, 95% ci 0.38–0.55 and hr 0.54, 95% ci 0.44–0.67, respectively). the risk decrease by post-diagnostic statin use was likely affected by healthy adherer bias; that is, the greater likelihood of dying cancer patients to discontinue statin use as the association was not clearly dose-dependent and observed already at low-dose/short-term use. the dose- and time-dependence of the survival benefit among pre-diagnostic statin users suggests a possible causal effect that should be evaluated further in a clinical trial testing statins’ effect on survival in breast cancer patients.'"
      ]
     },
     "execution_count": 80,
     "metadata": {
      "tags": []
     },
     "output_type": "execute_result"
    }
   ],
   "source": [
    "doc['TITLE_ABSTRACT'][9]"
   ]
  },
  {
   "cell_type": "code",
   "execution_count": null,
   "metadata": {
    "colab": {
     "base_uri": "https://localhost:8080/",
     "height": 595
    },
    "id": "cIZnJLoS443q",
    "outputId": "555a0f71-f07e-4fd9-fdb7-26f7c4c77141"
   },
   "outputs": [
    {
     "data": {
      "text/html": [
       "<div>\n",
       "<style scoped>\n",
       "    .dataframe tbody tr th:only-of-type {\n",
       "        vertical-align: middle;\n",
       "    }\n",
       "\n",
       "    .dataframe tbody tr th {\n",
       "        vertical-align: top;\n",
       "    }\n",
       "\n",
       "    .dataframe thead th {\n",
       "        text-align: right;\n",
       "    }\n",
       "</style>\n",
       "<table border=\"1\" class=\"dataframe\">\n",
       "  <thead>\n",
       "    <tr style=\"text-align: right;\">\n",
       "      <th></th>\n",
       "      <th>ID</th>\n",
       "      <th>URL</th>\n",
       "      <th>TITLE</th>\n",
       "      <th>ABSTRACT</th>\n",
       "      <th>TITLE_ABSTRACT</th>\n",
       "    </tr>\n",
       "  </thead>\n",
       "  <tbody>\n",
       "    <tr>\n",
       "      <th>0</th>\n",
       "      <td>MED-1</td>\n",
       "      <td>http://www.ncbi.nlm.nih.gov/pubmed/23092936</td>\n",
       "      <td>Birth Weight, Head Circumference, and Prenatal...</td>\n",
       "      <td>Abstract Background: Acrylamide is a common di...</td>\n",
       "      <td>Birth Weight, Head Circumference, and Prenatal...</td>\n",
       "    </tr>\n",
       "    <tr>\n",
       "      <th>1</th>\n",
       "      <td>MED-2</td>\n",
       "      <td>http://www.ncbi.nlm.nih.gov/pubmed/22809476</td>\n",
       "      <td>A statistical regression model for the estimat...</td>\n",
       "      <td>Abstract Human exposure to acrylamide (AA) thr...</td>\n",
       "      <td>A statistical regression model for the estimat...</td>\n",
       "    </tr>\n",
       "    <tr>\n",
       "      <th>2</th>\n",
       "      <td>MED-3</td>\n",
       "      <td>http://www.ncbi.nlm.nih.gov/pubmed/19158207</td>\n",
       "      <td>Chronic intake of potato chips in humans incre...</td>\n",
       "      <td>Abstract BACKGROUND: Relatively high concentra...</td>\n",
       "      <td>Chronic intake of potato chips in humans incre...</td>\n",
       "    </tr>\n",
       "    <tr>\n",
       "      <th>3</th>\n",
       "      <td>MED-4</td>\n",
       "      <td>http://www.ncbi.nlm.nih.gov/pubmed/23651876</td>\n",
       "      <td>Dietary patterns and breast cancer risk among ...</td>\n",
       "      <td>Abstract OBJECTIVE: Breast cancer is the most ...</td>\n",
       "      <td>Dietary patterns and breast cancer risk among ...</td>\n",
       "    </tr>\n",
       "    <tr>\n",
       "      <th>4</th>\n",
       "      <td>MED-5</td>\n",
       "      <td>http://www.ncbi.nlm.nih.gov/pubmed/16332665</td>\n",
       "      <td>Empirically derived dietary patterns and risk ...</td>\n",
       "      <td>Abstract BACKGROUND: Inconsistent associations...</td>\n",
       "      <td>Empirically derived dietary patterns and risk ...</td>\n",
       "    </tr>\n",
       "    <tr>\n",
       "      <th>...</th>\n",
       "      <td>...</td>\n",
       "      <td>...</td>\n",
       "      <td>...</td>\n",
       "      <td>...</td>\n",
       "      <td>...</td>\n",
       "    </tr>\n",
       "    <tr>\n",
       "      <th>5366</th>\n",
       "      <td>MED-5367</td>\n",
       "      <td>http://www.ncbi.nlm.nih.gov/pubmed/21929378</td>\n",
       "      <td>The relationship between plasma carotenoids an...</td>\n",
       "      <td>Abstract Objective We examined the cross-secti...</td>\n",
       "      <td>The relationship between plasma carotenoids an...</td>\n",
       "    </tr>\n",
       "    <tr>\n",
       "      <th>5367</th>\n",
       "      <td>MED-5368</td>\n",
       "      <td>http://www.ncbi.nlm.nih.gov/pubmed/24812159</td>\n",
       "      <td>Suicide Mortality in Relation to Dietary Intak...</td>\n",
       "      <td>Abstract Intake of n-3 and n-6 polyunsaturated...</td>\n",
       "      <td>Suicide Mortality in Relation to Dietary Intak...</td>\n",
       "    </tr>\n",
       "    <tr>\n",
       "      <th>5368</th>\n",
       "      <td>MED-5369</td>\n",
       "      <td>http://www.ncbi.nlm.nih.gov/pubmed/12803408</td>\n",
       "      <td>Suicide mortality in the European Union. - Pub...</td>\n",
       "      <td>Abstract BACKGROUND: There are an estimated on...</td>\n",
       "      <td>Suicide mortality in the European Union. - Pub...</td>\n",
       "    </tr>\n",
       "    <tr>\n",
       "      <th>5369</th>\n",
       "      <td>MED-5370</td>\n",
       "      <td>http://www.ncbi.nlm.nih.gov/pubmed/17717628</td>\n",
       "      <td>Long chain omega-3 fatty acids intake, fish co...</td>\n",
       "      <td>Abstract BACKGROUND: Very long chain omega-3 f...</td>\n",
       "      <td>Long chain omega-3 fatty acids intake, fish co...</td>\n",
       "    </tr>\n",
       "    <tr>\n",
       "      <th>5370</th>\n",
       "      <td>MED-5371</td>\n",
       "      <td>http://www.ncbi.nlm.nih.gov/pubmed/21931319</td>\n",
       "      <td>Omega-3 Fatty Acids for the Treatment of Depre...</td>\n",
       "      <td>Abstract We conducted a meta-analysis of rando...</td>\n",
       "      <td>Omega-3 Fatty Acids for the Treatment of Depre...</td>\n",
       "    </tr>\n",
       "  </tbody>\n",
       "</table>\n",
       "<p>5371 rows × 5 columns</p>\n",
       "</div>"
      ],
      "text/plain": [
       "            ID  ...                                     TITLE_ABSTRACT\n",
       "0        MED-1  ...  Birth Weight, Head Circumference, and Prenatal...\n",
       "1        MED-2  ...  A statistical regression model for the estimat...\n",
       "2        MED-3  ...  Chronic intake of potato chips in humans incre...\n",
       "3        MED-4  ...  Dietary patterns and breast cancer risk among ...\n",
       "4        MED-5  ...  Empirically derived dietary patterns and risk ...\n",
       "...        ...  ...                                                ...\n",
       "5366  MED-5367  ...  The relationship between plasma carotenoids an...\n",
       "5367  MED-5368  ...  Suicide Mortality in Relation to Dietary Intak...\n",
       "5368  MED-5369  ...  Suicide mortality in the European Union. - Pub...\n",
       "5369  MED-5370  ...  Long chain omega-3 fatty acids intake, fish co...\n",
       "5370  MED-5371  ...  Omega-3 Fatty Acids for the Treatment of Depre...\n",
       "\n",
       "[5371 rows x 5 columns]"
      ]
     },
     "execution_count": 40,
     "metadata": {
      "tags": []
     },
     "output_type": "execute_result"
    }
   ],
   "source": [
    "doc"
   ]
  },
  {
   "cell_type": "markdown",
   "metadata": {
    "id": "B5SVdGm0M6Zb"
   },
   "source": [
    "##1. Lowercased:"
   ]
  },
  {
   "cell_type": "code",
   "execution_count": null,
   "metadata": {
    "id": "LJc22VaSNXbw"
   },
   "outputs": [],
   "source": [
    "doc['TITLE_ABSTRACT'] = doc['TITLE_ABSTRACT'].apply(lambda s:s.lower() if type(s) == str else s)"
   ]
  },
  {
   "cell_type": "code",
   "execution_count": null,
   "metadata": {
    "colab": {
     "base_uri": "https://localhost:8080/",
     "height": 595
    },
    "id": "6M1_gk9IN0eK",
    "outputId": "d290692a-e345-4cfa-c65b-0ee9bd813a3a"
   },
   "outputs": [
    {
     "data": {
      "text/html": [
       "<div>\n",
       "<style scoped>\n",
       "    .dataframe tbody tr th:only-of-type {\n",
       "        vertical-align: middle;\n",
       "    }\n",
       "\n",
       "    .dataframe tbody tr th {\n",
       "        vertical-align: top;\n",
       "    }\n",
       "\n",
       "    .dataframe thead th {\n",
       "        text-align: right;\n",
       "    }\n",
       "</style>\n",
       "<table border=\"1\" class=\"dataframe\">\n",
       "  <thead>\n",
       "    <tr style=\"text-align: right;\">\n",
       "      <th></th>\n",
       "      <th>ID</th>\n",
       "      <th>URL</th>\n",
       "      <th>TITLE</th>\n",
       "      <th>ABSTRACT</th>\n",
       "      <th>TITLE_ABSTRACT</th>\n",
       "    </tr>\n",
       "  </thead>\n",
       "  <tbody>\n",
       "    <tr>\n",
       "      <th>0</th>\n",
       "      <td>MED-1</td>\n",
       "      <td>http://www.ncbi.nlm.nih.gov/pubmed/23092936</td>\n",
       "      <td>Birth Weight, Head Circumference, and Prenatal...</td>\n",
       "      <td>Abstract Background: Acrylamide is a common di...</td>\n",
       "      <td>birth weight, head circumference, and prenatal...</td>\n",
       "    </tr>\n",
       "    <tr>\n",
       "      <th>1</th>\n",
       "      <td>MED-2</td>\n",
       "      <td>http://www.ncbi.nlm.nih.gov/pubmed/22809476</td>\n",
       "      <td>A statistical regression model for the estimat...</td>\n",
       "      <td>Abstract Human exposure to acrylamide (AA) thr...</td>\n",
       "      <td>a statistical regression model for the estimat...</td>\n",
       "    </tr>\n",
       "    <tr>\n",
       "      <th>2</th>\n",
       "      <td>MED-3</td>\n",
       "      <td>http://www.ncbi.nlm.nih.gov/pubmed/19158207</td>\n",
       "      <td>Chronic intake of potato chips in humans incre...</td>\n",
       "      <td>Abstract BACKGROUND: Relatively high concentra...</td>\n",
       "      <td>chronic intake of potato chips in humans incre...</td>\n",
       "    </tr>\n",
       "    <tr>\n",
       "      <th>3</th>\n",
       "      <td>MED-4</td>\n",
       "      <td>http://www.ncbi.nlm.nih.gov/pubmed/23651876</td>\n",
       "      <td>Dietary patterns and breast cancer risk among ...</td>\n",
       "      <td>Abstract OBJECTIVE: Breast cancer is the most ...</td>\n",
       "      <td>dietary patterns and breast cancer risk among ...</td>\n",
       "    </tr>\n",
       "    <tr>\n",
       "      <th>4</th>\n",
       "      <td>MED-5</td>\n",
       "      <td>http://www.ncbi.nlm.nih.gov/pubmed/16332665</td>\n",
       "      <td>Empirically derived dietary patterns and risk ...</td>\n",
       "      <td>Abstract BACKGROUND: Inconsistent associations...</td>\n",
       "      <td>empirically derived dietary patterns and risk ...</td>\n",
       "    </tr>\n",
       "    <tr>\n",
       "      <th>...</th>\n",
       "      <td>...</td>\n",
       "      <td>...</td>\n",
       "      <td>...</td>\n",
       "      <td>...</td>\n",
       "      <td>...</td>\n",
       "    </tr>\n",
       "    <tr>\n",
       "      <th>5366</th>\n",
       "      <td>MED-5367</td>\n",
       "      <td>http://www.ncbi.nlm.nih.gov/pubmed/21929378</td>\n",
       "      <td>The relationship between plasma carotenoids an...</td>\n",
       "      <td>Abstract Objective We examined the cross-secti...</td>\n",
       "      <td>the relationship between plasma carotenoids an...</td>\n",
       "    </tr>\n",
       "    <tr>\n",
       "      <th>5367</th>\n",
       "      <td>MED-5368</td>\n",
       "      <td>http://www.ncbi.nlm.nih.gov/pubmed/24812159</td>\n",
       "      <td>Suicide Mortality in Relation to Dietary Intak...</td>\n",
       "      <td>Abstract Intake of n-3 and n-6 polyunsaturated...</td>\n",
       "      <td>suicide mortality in relation to dietary intak...</td>\n",
       "    </tr>\n",
       "    <tr>\n",
       "      <th>5368</th>\n",
       "      <td>MED-5369</td>\n",
       "      <td>http://www.ncbi.nlm.nih.gov/pubmed/12803408</td>\n",
       "      <td>Suicide mortality in the European Union. - Pub...</td>\n",
       "      <td>Abstract BACKGROUND: There are an estimated on...</td>\n",
       "      <td>suicide mortality in the european union. - pub...</td>\n",
       "    </tr>\n",
       "    <tr>\n",
       "      <th>5369</th>\n",
       "      <td>MED-5370</td>\n",
       "      <td>http://www.ncbi.nlm.nih.gov/pubmed/17717628</td>\n",
       "      <td>Long chain omega-3 fatty acids intake, fish co...</td>\n",
       "      <td>Abstract BACKGROUND: Very long chain omega-3 f...</td>\n",
       "      <td>long chain omega-3 fatty acids intake, fish co...</td>\n",
       "    </tr>\n",
       "    <tr>\n",
       "      <th>5370</th>\n",
       "      <td>MED-5371</td>\n",
       "      <td>http://www.ncbi.nlm.nih.gov/pubmed/21931319</td>\n",
       "      <td>Omega-3 Fatty Acids for the Treatment of Depre...</td>\n",
       "      <td>Abstract We conducted a meta-analysis of rando...</td>\n",
       "      <td>omega-3 fatty acids for the treatment of depre...</td>\n",
       "    </tr>\n",
       "  </tbody>\n",
       "</table>\n",
       "<p>5371 rows × 5 columns</p>\n",
       "</div>"
      ],
      "text/plain": [
       "            ID  ...                                     TITLE_ABSTRACT\n",
       "0        MED-1  ...  birth weight, head circumference, and prenatal...\n",
       "1        MED-2  ...  a statistical regression model for the estimat...\n",
       "2        MED-3  ...  chronic intake of potato chips in humans incre...\n",
       "3        MED-4  ...  dietary patterns and breast cancer risk among ...\n",
       "4        MED-5  ...  empirically derived dietary patterns and risk ...\n",
       "...        ...  ...                                                ...\n",
       "5366  MED-5367  ...  the relationship between plasma carotenoids an...\n",
       "5367  MED-5368  ...  suicide mortality in relation to dietary intak...\n",
       "5368  MED-5369  ...  suicide mortality in the european union. - pub...\n",
       "5369  MED-5370  ...  long chain omega-3 fatty acids intake, fish co...\n",
       "5370  MED-5371  ...  omega-3 fatty acids for the treatment of depre...\n",
       "\n",
       "[5371 rows x 5 columns]"
      ]
     },
     "execution_count": 42,
     "metadata": {
      "tags": []
     },
     "output_type": "execute_result"
    }
   ],
   "source": [
    "doc"
   ]
  },
  {
   "cell_type": "markdown",
   "metadata": {
    "id": "jUB6HzOA8T45"
   },
   "source": [
    "##2. Tokenization: \n",
    "Splitting the sentence into words. So that each word can be considered uniquely."
   ]
  },
  {
   "cell_type": "code",
   "execution_count": null,
   "metadata": {
    "id": "dqGgi7R97Nq0"
   },
   "outputs": [],
   "source": [
    "doc['TOKENIZED_TEST'] = doc['TITLE_ABSTRACT'].apply(word_tokenize) "
   ]
  },
  {
   "cell_type": "code",
   "execution_count": null,
   "metadata": {
    "colab": {
     "base_uri": "https://localhost:8080/"
    },
    "id": "iz9SupO-7-WN",
    "outputId": "b9944101-5580-4daf-b344-9ae35cc6ff54"
   },
   "outputs": [
    {
     "data": {
      "text/plain": [
       "0       [birth, weight, head, circumference, and, pren...\n",
       "1       [a, statistical, regression, model, for, the, ...\n",
       "2       [chronic, intake, of, potato, chips, in, human...\n",
       "3       [dietary, patterns, and, breast, cancer, risk,...\n",
       "4       [empirically, derived, dietary, patterns, and,...\n",
       "                              ...                        \n",
       "5366    [the, relationship, between, plasma, carotenoi...\n",
       "5367    [suicide, mortality, in, relation, to, dietary...\n",
       "5368    [suicide, mortality, in, the, european, union,...\n",
       "5369    [long, chain, omega-3, fatty, acids, intake, f...\n",
       "5370    [omega-3, fatty, acids, for, the, treatment, o...\n",
       "Name: TOKENIZED_TEST, Length: 5371, dtype: object"
      ]
     },
     "execution_count": 81,
     "metadata": {
      "tags": []
     },
     "output_type": "execute_result"
    }
   ],
   "source": [
    "doc['TOKENIZED_TEST']"
   ]
  },
  {
   "cell_type": "markdown",
   "metadata": {
    "id": "oeG8hTGyME1A"
   },
   "source": [
    "#3 Cleaning\n",
    "Cleaning step assumes removing all undesirable content.\n",
    "\n",
    "##Punctuation removal"
   ]
  },
  {
   "cell_type": "code",
   "execution_count": null,
   "metadata": {
    "id": "8jtS56Uz-tjk"
   },
   "outputs": [],
   "source": [
    "doc['TOKENIZED_TEST'] = doc['TOKENIZED_TEST'].apply(lambda x: [item for item in x if item not in string.punctuation])"
   ]
  },
  {
   "cell_type": "code",
   "execution_count": null,
   "metadata": {
    "colab": {
     "base_uri": "https://localhost:8080/",
     "height": 34
    },
    "id": "MfhU1Byju7CG",
    "outputId": "7800d562-976d-418c-982e-90124b20e013"
   },
   "outputs": [
    {
     "data": {
      "application/vnd.google.colaboratory.intrinsic+json": {
       "type": "string"
      },
      "text/plain": [
       "'Punctuation symbols: !\"#$%&\\'()*+,-./:;<=>?@[\\\\]^_`{|}~'"
      ]
     },
     "metadata": {
      "tags": []
     },
     "output_type": "display_data"
    }
   ],
   "source": [
    "display(f\"Punctuation symbols: {string.punctuation}\")"
   ]
  },
  {
   "cell_type": "markdown",
   "metadata": {
    "id": "Zhj_lEjHMQyQ"
   },
   "source": [
    "##Stop words removal"
   ]
  },
  {
   "cell_type": "code",
   "execution_count": null,
   "metadata": {
    "id": "pEHX_4HrlBIs"
   },
   "outputs": [],
   "source": [
    "stop = set(stopwords.words('english'))"
   ]
  },
  {
   "cell_type": "code",
   "execution_count": null,
   "metadata": {
    "colab": {
     "base_uri": "https://localhost:8080/",
     "height": 156
    },
    "id": "LXTK09TIKA53",
    "outputId": "ef44de60-c782-42cb-fa88-8d5cb5f3f83d"
   },
   "outputs": [
    {
     "data": {
      "application/vnd.google.colaboratory.intrinsic+json": {
       "type": "string"
      },
      "text/plain": [
       "'Punctuation symbols: {\\'can\\', \"you\\'ll\", \\'doesn\\', \\'as\\', \\'here\\', \\'such\\', \\'d\\', \\'mustn\\', \\'then\\', \\'no\\', \\'about\\', \\'very\\', \\'by\\', \\'that\\', \\'hadn\\', \\'any\\', \\'after\\', \\'so\\', \\'haven\\', \\'doing\\', \"haven\\'t\", \"shouldn\\'t\", \\'against\\', \"shan\\'t\", \\'t\\', \\'me\\', \\'were\\', \\'nor\\', \\'only\\', \\'be\\', \\'just\\', \\'don\\', \\'whom\\', \"you\\'re\", \\'up\\', \\'itself\\', \\'been\\', \\'of\\', \"you\\'d\", \\'i\\', \\'which\\', \\'until\\', \"won\\'t\", \\'our\\', \"wasn\\'t\", \\'did\\', \"it\\'s\", \\'to\\', \\'isn\\', \\'own\\', \\'my\\', \"that\\'ll\", \\'more\\', \\'aren\\', \\'same\\', \"you\\'ve\", \\'off\\', \\'ll\\', \\'them\\', \\'into\\', \\'ourselves\\', \\'her\\', \\'these\\', \\'ve\\', \\'before\\', \\'than\\', \"mightn\\'t\", \"should\\'ve\", \\'from\\', \\'didn\\', \"isn\\'t\", \\'under\\', \\'you\\', \\'wouldn\\', \\'too\\', \\'because\\', \\'yours\\', \\'between\\', \\'through\\', \\'most\\', \\'couldn\\', \\'his\\', \\'while\\', \\'has\\', \\'he\\', \\'have\\', \\'out\\', \\'o\\', \\'those\\', \\'re\\', \\'m\\', \\'hasn\\', \\'at\\', \\'some\\', \\'their\\', \\'theirs\\', \\'for\\', \\'again\\', \\'yourselves\\', \\'below\\', \\'being\\', \\'a\\', \\'not\\', \\'with\\', \\'when\\', \\'what\\', \\'ain\\', \\'an\\', \"don\\'t\", \\'other\\', \\'are\\', \"hasn\\'t\", \"weren\\'t\", \\'all\\', \\'your\\', \\'ours\\', \\'myself\\', \\'it\\', \\'themselves\\', \\'was\\', \\'but\\', \\'each\\', \\'where\\', \\'herself\\', \\'y\\', \\'there\\', \\'needn\\', \\'him\\', \\'once\\', \\'and\\', \"hadn\\'t\", \\'am\\', \\'s\\', \\'both\\', \\'do\\', \\'now\\', \\'the\\', \"didn\\'t\", \\'had\\', \\'having\\', \\'weren\\', \\'if\\', \"mustn\\'t\", \\'down\\', \\'will\\', \"couldn\\'t\", \\'should\\', \\'over\\', \\'above\\', \"aren\\'t\", \\'mightn\\', \"she\\'s\", \\'hers\\', \\'its\\', \\'does\\', \\'during\\', \\'shouldn\\', \\'won\\', \"wouldn\\'t\", \\'this\\', \\'yourself\\', \\'few\\', \\'ma\\', \"needn\\'t\", \\'shan\\', \\'we\\', \\'further\\', \"doesn\\'t\", \\'wasn\\', \\'they\\', \\'on\\', \\'is\\', \\'in\\', \\'she\\', \\'how\\', \\'himself\\', \\'who\\', \\'or\\', \\'why\\'}'"
      ]
     },
     "metadata": {
      "tags": []
     },
     "output_type": "display_data"
    }
   ],
   "source": [
    "display(f\"Punctuation symbols: {stop}\")"
   ]
  },
  {
   "cell_type": "code",
   "execution_count": null,
   "metadata": {
    "id": "pzeHKqI8JQmJ"
   },
   "outputs": [],
   "source": [
    "doc['TEXT_WITHOUT_STOPWORDS'] = doc['TOKENIZED_TEST'].apply(lambda x: [item for item in x if item not in stop])"
   ]
  },
  {
   "cell_type": "markdown",
   "metadata": {
    "id": "nVN246IZMWF5"
   },
   "source": [
    "##Frequent words removal"
   ]
  },
  {
   "cell_type": "code",
   "execution_count": null,
   "metadata": {
    "id": "YnSgsBksoLqI"
   },
   "outputs": [],
   "source": [
    "filename = '/content/sample_data/data/stopwords.large'\n",
    "#pd.read_csv(filename, sep='\\t', names=None)\n",
    "stopwords_given = pd.read_csv(filename, sep = '\\t', header=None)\n",
    "stopwords_given.columns =['STOP_WORDS']\n",
    "stopwords_given_list = stopwords_given['STOP_WORDS'].tolist()"
   ]
  },
  {
   "cell_type": "code",
   "execution_count": null,
   "metadata": {
    "id": "WtzmmHtOpaof"
   },
   "outputs": [],
   "source": [
    "doc['TEXT_WITHOUT_STOPWORDS'] = doc['TEXT_WITHOUT_STOPWORDS'].apply(lambda x: [item for item in x if item not in stopwords_given_list])"
   ]
  },
  {
   "cell_type": "code",
   "execution_count": null,
   "metadata": {
    "id": "XiWysSKfK-Sy"
   },
   "outputs": [],
   "source": [
    "frequent_words= {'abstract','background'}"
   ]
  },
  {
   "cell_type": "code",
   "execution_count": null,
   "metadata": {
    "id": "4erQFS3vLVKb"
   },
   "outputs": [],
   "source": [
    "doc['TEXT_WITHOUT_STOPWORDS'] = doc['TEXT_WITHOUT_STOPWORDS'].apply(lambda x: [item for item in x if item not in frequent_words])"
   ]
  },
  {
   "cell_type": "code",
   "execution_count": null,
   "metadata": {
    "colab": {
     "base_uri": "https://localhost:8080/",
     "height": 906
    },
    "id": "Ge3XrsGW-Nu8",
    "outputId": "46774386-2439-4550-d270-567c12338389"
   },
   "outputs": [
    {
     "data": {
      "text/html": [
       "<div>\n",
       "<style scoped>\n",
       "    .dataframe tbody tr th:only-of-type {\n",
       "        vertical-align: middle;\n",
       "    }\n",
       "\n",
       "    .dataframe tbody tr th {\n",
       "        vertical-align: top;\n",
       "    }\n",
       "\n",
       "    .dataframe thead th {\n",
       "        text-align: right;\n",
       "    }\n",
       "</style>\n",
       "<table border=\"1\" class=\"dataframe\">\n",
       "  <thead>\n",
       "    <tr style=\"text-align: right;\">\n",
       "      <th></th>\n",
       "      <th>ID</th>\n",
       "      <th>URL</th>\n",
       "      <th>TITLE</th>\n",
       "      <th>ABSTRACT</th>\n",
       "      <th>TITLE_ABSTRACT</th>\n",
       "      <th>TOKENIZED_TEST</th>\n",
       "      <th>TEXT_WITHOUT_STOPWORDS</th>\n",
       "    </tr>\n",
       "  </thead>\n",
       "  <tbody>\n",
       "    <tr>\n",
       "      <th>0</th>\n",
       "      <td>MED-1</td>\n",
       "      <td>http://www.ncbi.nlm.nih.gov/pubmed/23092936</td>\n",
       "      <td>Birth Weight, Head Circumference, and Prenatal...</td>\n",
       "      <td>Abstract Background: Acrylamide is a common di...</td>\n",
       "      <td>birth weight, head circumference, and prenatal...</td>\n",
       "      <td>[birth, weight, head, circumference, and, pren...</td>\n",
       "      <td>[birth, weight, head, circumference, prenatal,...</td>\n",
       "    </tr>\n",
       "    <tr>\n",
       "      <th>1</th>\n",
       "      <td>MED-2</td>\n",
       "      <td>http://www.ncbi.nlm.nih.gov/pubmed/22809476</td>\n",
       "      <td>A statistical regression model for the estimat...</td>\n",
       "      <td>Abstract Human exposure to acrylamide (AA) thr...</td>\n",
       "      <td>a statistical regression model for the estimat...</td>\n",
       "      <td>[a, statistical, regression, model, for, the, ...</td>\n",
       "      <td>[statistical, regression, model, estimation, a...</td>\n",
       "    </tr>\n",
       "    <tr>\n",
       "      <th>2</th>\n",
       "      <td>MED-3</td>\n",
       "      <td>http://www.ncbi.nlm.nih.gov/pubmed/19158207</td>\n",
       "      <td>Chronic intake of potato chips in humans incre...</td>\n",
       "      <td>Abstract BACKGROUND: Relatively high concentra...</td>\n",
       "      <td>chronic intake of potato chips in humans incre...</td>\n",
       "      <td>[chronic, intake, of, potato, chips, in, human...</td>\n",
       "      <td>[chronic, intake, potato, chips, humans, incre...</td>\n",
       "    </tr>\n",
       "    <tr>\n",
       "      <th>3</th>\n",
       "      <td>MED-4</td>\n",
       "      <td>http://www.ncbi.nlm.nih.gov/pubmed/23651876</td>\n",
       "      <td>Dietary patterns and breast cancer risk among ...</td>\n",
       "      <td>Abstract OBJECTIVE: Breast cancer is the most ...</td>\n",
       "      <td>dietary patterns and breast cancer risk among ...</td>\n",
       "      <td>[dietary, patterns, and, breast, cancer, risk,...</td>\n",
       "      <td>[dietary, patterns, breast, cancer, risk, amon...</td>\n",
       "    </tr>\n",
       "    <tr>\n",
       "      <th>4</th>\n",
       "      <td>MED-5</td>\n",
       "      <td>http://www.ncbi.nlm.nih.gov/pubmed/16332665</td>\n",
       "      <td>Empirically derived dietary patterns and risk ...</td>\n",
       "      <td>Abstract BACKGROUND: Inconsistent associations...</td>\n",
       "      <td>empirically derived dietary patterns and risk ...</td>\n",
       "      <td>[empirically, derived, dietary, patterns, and,...</td>\n",
       "      <td>[empirically, derived, dietary, patterns, risk...</td>\n",
       "    </tr>\n",
       "    <tr>\n",
       "      <th>...</th>\n",
       "      <td>...</td>\n",
       "      <td>...</td>\n",
       "      <td>...</td>\n",
       "      <td>...</td>\n",
       "      <td>...</td>\n",
       "      <td>...</td>\n",
       "      <td>...</td>\n",
       "    </tr>\n",
       "    <tr>\n",
       "      <th>5366</th>\n",
       "      <td>MED-5367</td>\n",
       "      <td>http://www.ncbi.nlm.nih.gov/pubmed/21929378</td>\n",
       "      <td>The relationship between plasma carotenoids an...</td>\n",
       "      <td>Abstract Objective We examined the cross-secti...</td>\n",
       "      <td>the relationship between plasma carotenoids an...</td>\n",
       "      <td>[the, relationship, between, plasma, carotenoi...</td>\n",
       "      <td>[relationship, plasma, carotenoids, depressive...</td>\n",
       "    </tr>\n",
       "    <tr>\n",
       "      <th>5367</th>\n",
       "      <td>MED-5368</td>\n",
       "      <td>http://www.ncbi.nlm.nih.gov/pubmed/24812159</td>\n",
       "      <td>Suicide Mortality in Relation to Dietary Intak...</td>\n",
       "      <td>Abstract Intake of n-3 and n-6 polyunsaturated...</td>\n",
       "      <td>suicide mortality in relation to dietary intak...</td>\n",
       "      <td>[suicide, mortality, in, relation, to, dietary...</td>\n",
       "      <td>[suicide, mortality, relation, dietary, intake...</td>\n",
       "    </tr>\n",
       "    <tr>\n",
       "      <th>5368</th>\n",
       "      <td>MED-5369</td>\n",
       "      <td>http://www.ncbi.nlm.nih.gov/pubmed/12803408</td>\n",
       "      <td>Suicide mortality in the European Union. - Pub...</td>\n",
       "      <td>Abstract BACKGROUND: There are an estimated on...</td>\n",
       "      <td>suicide mortality in the european union. - pub...</td>\n",
       "      <td>[suicide, mortality, in, the, european, union,...</td>\n",
       "      <td>[suicide, mortality, european, union, pubmed, ...</td>\n",
       "    </tr>\n",
       "    <tr>\n",
       "      <th>5369</th>\n",
       "      <td>MED-5370</td>\n",
       "      <td>http://www.ncbi.nlm.nih.gov/pubmed/17717628</td>\n",
       "      <td>Long chain omega-3 fatty acids intake, fish co...</td>\n",
       "      <td>Abstract BACKGROUND: Very long chain omega-3 f...</td>\n",
       "      <td>long chain omega-3 fatty acids intake, fish co...</td>\n",
       "      <td>[long, chain, omega-3, fatty, acids, intake, f...</td>\n",
       "      <td>[long, chain, omega-3, fatty, acids, intake, f...</td>\n",
       "    </tr>\n",
       "    <tr>\n",
       "      <th>5370</th>\n",
       "      <td>MED-5371</td>\n",
       "      <td>http://www.ncbi.nlm.nih.gov/pubmed/21931319</td>\n",
       "      <td>Omega-3 Fatty Acids for the Treatment of Depre...</td>\n",
       "      <td>Abstract We conducted a meta-analysis of rando...</td>\n",
       "      <td>omega-3 fatty acids for the treatment of depre...</td>\n",
       "      <td>[omega-3, fatty, acids, for, the, treatment, o...</td>\n",
       "      <td>[omega-3, fatty, acids, treatment, depression,...</td>\n",
       "    </tr>\n",
       "  </tbody>\n",
       "</table>\n",
       "<p>5371 rows × 7 columns</p>\n",
       "</div>"
      ],
      "text/plain": [
       "            ID  ...                             TEXT_WITHOUT_STOPWORDS\n",
       "0        MED-1  ...  [birth, weight, head, circumference, prenatal,...\n",
       "1        MED-2  ...  [statistical, regression, model, estimation, a...\n",
       "2        MED-3  ...  [chronic, intake, potato, chips, humans, incre...\n",
       "3        MED-4  ...  [dietary, patterns, breast, cancer, risk, amon...\n",
       "4        MED-5  ...  [empirically, derived, dietary, patterns, risk...\n",
       "...        ...  ...                                                ...\n",
       "5366  MED-5367  ...  [relationship, plasma, carotenoids, depressive...\n",
       "5367  MED-5368  ...  [suicide, mortality, relation, dietary, intake...\n",
       "5368  MED-5369  ...  [suicide, mortality, european, union, pubmed, ...\n",
       "5369  MED-5370  ...  [long, chain, omega-3, fatty, acids, intake, f...\n",
       "5370  MED-5371  ...  [omega-3, fatty, acids, treatment, depression,...\n",
       "\n",
       "[5371 rows x 7 columns]"
      ]
     },
     "execution_count": 51,
     "metadata": {
      "tags": []
     },
     "output_type": "execute_result"
    }
   ],
   "source": [
    "doc"
   ]
  },
  {
   "cell_type": "code",
   "execution_count": null,
   "metadata": {
    "colab": {
     "base_uri": "https://localhost:8080/"
    },
    "id": "chj4R_6OE94o",
    "outputId": "8316834d-e11c-4f00-b6f0-f39d0ee6f55d"
   },
   "outputs": [
    {
     "data": {
      "text/plain": [
       "0       [birth, weight, head, circumference, prenatal,...\n",
       "1       [statistical, regression, model, estimation, a...\n",
       "2       [chronic, intake, potato, chips, humans, incre...\n",
       "3       [dietary, patterns, breast, cancer, risk, amon...\n",
       "4       [empirically, derived, dietary, patterns, risk...\n",
       "                              ...                        \n",
       "5366    [relationship, plasma, carotenoids, depressive...\n",
       "5367    [suicide, mortality, relation, dietary, intake...\n",
       "5368    [suicide, mortality, european, union, pubmed, ...\n",
       "5369    [long, chain, omega-3, fatty, acids, intake, f...\n",
       "5370    [omega-3, fatty, acids, treatment, depression,...\n",
       "Name: TEXT_WITHOUT_STOPWORDS, Length: 5371, dtype: object"
      ]
     },
     "execution_count": 52,
     "metadata": {
      "tags": []
     },
     "output_type": "execute_result"
    }
   ],
   "source": [
    "doc['TEXT_WITHOUT_STOPWORDS']"
   ]
  },
  {
   "cell_type": "markdown",
   "metadata": {
    "id": "Hqxj2Eh3Ntak"
   },
   "source": [
    "Loading Relevance Judgment doc </br>\n",
    "{train}.3-2-1.qrel  --      The relevance file for 4 levels in total: \n",
    "\n",
    "*   Direct links (3)\n",
    "*   Indirect links (2)\n",
    "*   Marginally relevant(1)\n",
    "*   Others (0, not in the files)\n"
   ]
  },
  {
   "cell_type": "code",
   "execution_count": 6,
   "metadata": {
    "id": "XcInkIyHQfrc"
   },
   "outputs": [],
   "source": [
    "filename = '/content/sample_data/data/train.3-2-1.qrel'\n",
    "query_relevance = pd.read_csv(filename, sep = '\\t', header=None)\n",
    "query_relevance.columns =['QUERY_ID', '0', 'DOC_ID', 'RELEVANCE_LEVEL']"
   ]
  },
  {
   "cell_type": "code",
   "execution_count": 7,
   "metadata": {
    "colab": {
     "base_uri": "https://localhost:8080/",
     "height": 421
    },
    "id": "a3R2pDVPR2Lt",
    "outputId": "73e59276-bcc6-4e9d-c9ab-b7a0ad587ac5"
   },
   "outputs": [
    {
     "data": {
      "text/html": [
       "<div>\n",
       "<style scoped>\n",
       "    .dataframe tbody tr th:only-of-type {\n",
       "        vertical-align: middle;\n",
       "    }\n",
       "\n",
       "    .dataframe tbody tr th {\n",
       "        vertical-align: top;\n",
       "    }\n",
       "\n",
       "    .dataframe thead th {\n",
       "        text-align: right;\n",
       "    }\n",
       "</style>\n",
       "<table border=\"1\" class=\"dataframe\">\n",
       "  <thead>\n",
       "    <tr style=\"text-align: right;\">\n",
       "      <th></th>\n",
       "      <th>QUERY_ID</th>\n",
       "      <th>0</th>\n",
       "      <th>DOC_ID</th>\n",
       "      <th>RELEVANCE_LEVEL</th>\n",
       "    </tr>\n",
       "  </thead>\n",
       "  <tbody>\n",
       "    <tr>\n",
       "      <th>0</th>\n",
       "      <td>PLAIN-3</td>\n",
       "      <td>0</td>\n",
       "      <td>MED-2436</td>\n",
       "      <td>3</td>\n",
       "    </tr>\n",
       "    <tr>\n",
       "      <th>1</th>\n",
       "      <td>PLAIN-3</td>\n",
       "      <td>0</td>\n",
       "      <td>MED-2437</td>\n",
       "      <td>3</td>\n",
       "    </tr>\n",
       "    <tr>\n",
       "      <th>2</th>\n",
       "      <td>PLAIN-3</td>\n",
       "      <td>0</td>\n",
       "      <td>MED-2438</td>\n",
       "      <td>3</td>\n",
       "    </tr>\n",
       "    <tr>\n",
       "      <th>3</th>\n",
       "      <td>PLAIN-3</td>\n",
       "      <td>0</td>\n",
       "      <td>MED-2439</td>\n",
       "      <td>3</td>\n",
       "    </tr>\n",
       "    <tr>\n",
       "      <th>4</th>\n",
       "      <td>PLAIN-3</td>\n",
       "      <td>0</td>\n",
       "      <td>MED-2440</td>\n",
       "      <td>3</td>\n",
       "    </tr>\n",
       "    <tr>\n",
       "      <th>...</th>\n",
       "      <td>...</td>\n",
       "      <td>...</td>\n",
       "      <td>...</td>\n",
       "      <td>...</td>\n",
       "    </tr>\n",
       "    <tr>\n",
       "      <th>139345</th>\n",
       "      <td>PLAIN-3474</td>\n",
       "      <td>0</td>\n",
       "      <td>MED-3546</td>\n",
       "      <td>2</td>\n",
       "    </tr>\n",
       "    <tr>\n",
       "      <th>139346</th>\n",
       "      <td>PLAIN-3474</td>\n",
       "      <td>0</td>\n",
       "      <td>MED-3547</td>\n",
       "      <td>2</td>\n",
       "    </tr>\n",
       "    <tr>\n",
       "      <th>139347</th>\n",
       "      <td>PLAIN-3474</td>\n",
       "      <td>0</td>\n",
       "      <td>MED-4632</td>\n",
       "      <td>2</td>\n",
       "    </tr>\n",
       "    <tr>\n",
       "      <th>139348</th>\n",
       "      <td>PLAIN-3474</td>\n",
       "      <td>0</td>\n",
       "      <td>MED-4633</td>\n",
       "      <td>2</td>\n",
       "    </tr>\n",
       "    <tr>\n",
       "      <th>139349</th>\n",
       "      <td>PLAIN-3474</td>\n",
       "      <td>0</td>\n",
       "      <td>MED-4634</td>\n",
       "      <td>2</td>\n",
       "    </tr>\n",
       "  </tbody>\n",
       "</table>\n",
       "<p>139350 rows × 4 columns</p>\n",
       "</div>"
      ],
      "text/plain": [
       "          QUERY_ID  0    DOC_ID  RELEVANCE_LEVEL\n",
       "0          PLAIN-3  0  MED-2436                3\n",
       "1          PLAIN-3  0  MED-2437                3\n",
       "2          PLAIN-3  0  MED-2438                3\n",
       "3          PLAIN-3  0  MED-2439                3\n",
       "4          PLAIN-3  0  MED-2440                3\n",
       "...            ... ..       ...              ...\n",
       "139345  PLAIN-3474  0  MED-3546                2\n",
       "139346  PLAIN-3474  0  MED-3547                2\n",
       "139347  PLAIN-3474  0  MED-4632                2\n",
       "139348  PLAIN-3474  0  MED-4633                2\n",
       "139349  PLAIN-3474  0  MED-4634                2\n",
       "\n",
       "[139350 rows x 4 columns]"
      ]
     },
     "execution_count": 7,
     "metadata": {
      "tags": []
     },
     "output_type": "execute_result"
    }
   ],
   "source": [
    "query_relevance"
   ]
  },
  {
   "cell_type": "markdown",
   "metadata": {
    "id": "qvPULm3mO84H"
   },
   "source": [
    "Reviewing Query_ID 'PLAIN-10' with relevant files (i.e. Relevevance_Level = 3)"
   ]
  },
  {
   "cell_type": "code",
   "execution_count": null,
   "metadata": {
    "colab": {
     "base_uri": "https://localhost:8080/",
     "height": 205
    },
    "id": "xVl71b_-aC1w",
    "outputId": "1aea1cb7-28f4-47ec-de47-cdd421eb1511"
   },
   "outputs": [
    {
     "data": {
      "text/html": [
       "<div>\n",
       "<style scoped>\n",
       "    .dataframe tbody tr th:only-of-type {\n",
       "        vertical-align: middle;\n",
       "    }\n",
       "\n",
       "    .dataframe tbody tr th {\n",
       "        vertical-align: top;\n",
       "    }\n",
       "\n",
       "    .dataframe thead th {\n",
       "        text-align: right;\n",
       "    }\n",
       "</style>\n",
       "<table border=\"1\" class=\"dataframe\">\n",
       "  <thead>\n",
       "    <tr style=\"text-align: right;\">\n",
       "      <th></th>\n",
       "      <th>QUERY_ID</th>\n",
       "      <th>0</th>\n",
       "      <th>DOC_ID</th>\n",
       "      <th>RELEVANCE_LEVEL</th>\n",
       "    </tr>\n",
       "  </thead>\n",
       "  <tbody>\n",
       "    <tr>\n",
       "      <th>371</th>\n",
       "      <td>PLAIN-10</td>\n",
       "      <td>0</td>\n",
       "      <td>MED-2494</td>\n",
       "      <td>3</td>\n",
       "    </tr>\n",
       "    <tr>\n",
       "      <th>372</th>\n",
       "      <td>PLAIN-10</td>\n",
       "      <td>0</td>\n",
       "      <td>MED-2495</td>\n",
       "      <td>3</td>\n",
       "    </tr>\n",
       "    <tr>\n",
       "      <th>373</th>\n",
       "      <td>PLAIN-10</td>\n",
       "      <td>0</td>\n",
       "      <td>MED-2496</td>\n",
       "      <td>3</td>\n",
       "    </tr>\n",
       "    <tr>\n",
       "      <th>374</th>\n",
       "      <td>PLAIN-10</td>\n",
       "      <td>0</td>\n",
       "      <td>MED-2493</td>\n",
       "      <td>3</td>\n",
       "    </tr>\n",
       "    <tr>\n",
       "      <th>375</th>\n",
       "      <td>PLAIN-10</td>\n",
       "      <td>0</td>\n",
       "      <td>MED-2497</td>\n",
       "      <td>3</td>\n",
       "    </tr>\n",
       "  </tbody>\n",
       "</table>\n",
       "</div>"
      ],
      "text/plain": [
       "     QUERY_ID  0    DOC_ID  RELEVANCE_LEVEL\n",
       "371  PLAIN-10  0  MED-2494                3\n",
       "372  PLAIN-10  0  MED-2495                3\n",
       "373  PLAIN-10  0  MED-2496                3\n",
       "374  PLAIN-10  0  MED-2493                3\n",
       "375  PLAIN-10  0  MED-2497                3"
      ]
     },
     "execution_count": 55,
     "metadata": {
      "tags": []
     },
     "output_type": "execute_result"
    }
   ],
   "source": [
    "query_relevance.loc[(query_relevance.RELEVANCE_LEVEL == 3) & (query_relevance.QUERY_ID == 'PLAIN-10')]"
   ]
  },
  {
   "cell_type": "code",
   "execution_count": null,
   "metadata": {
    "colab": {
     "base_uri": "https://localhost:8080/",
     "height": 422
    },
    "id": "0Big16-04-3V",
    "outputId": "92e10716-5dd9-49b3-a6c7-3fd5689148f3"
   },
   "outputs": [
    {
     "data": {
      "text/html": [
       "<div>\n",
       "<style scoped>\n",
       "    .dataframe tbody tr th:only-of-type {\n",
       "        vertical-align: middle;\n",
       "    }\n",
       "\n",
       "    .dataframe tbody tr th {\n",
       "        vertical-align: top;\n",
       "    }\n",
       "\n",
       "    .dataframe thead th {\n",
       "        text-align: right;\n",
       "    }\n",
       "</style>\n",
       "<table border=\"1\" class=\"dataframe\">\n",
       "  <thead>\n",
       "    <tr style=\"text-align: right;\">\n",
       "      <th></th>\n",
       "      <th>QUERY_ID</th>\n",
       "      <th>0</th>\n",
       "      <th>DOC_ID</th>\n",
       "      <th>RELEVANCE_LEVEL</th>\n",
       "    </tr>\n",
       "  </thead>\n",
       "  <tbody>\n",
       "    <tr>\n",
       "      <th>371</th>\n",
       "      <td>PLAIN-10</td>\n",
       "      <td>0</td>\n",
       "      <td>MED-2494</td>\n",
       "      <td>3</td>\n",
       "    </tr>\n",
       "    <tr>\n",
       "      <th>372</th>\n",
       "      <td>PLAIN-10</td>\n",
       "      <td>0</td>\n",
       "      <td>MED-2495</td>\n",
       "      <td>3</td>\n",
       "    </tr>\n",
       "    <tr>\n",
       "      <th>373</th>\n",
       "      <td>PLAIN-10</td>\n",
       "      <td>0</td>\n",
       "      <td>MED-2496</td>\n",
       "      <td>3</td>\n",
       "    </tr>\n",
       "    <tr>\n",
       "      <th>374</th>\n",
       "      <td>PLAIN-10</td>\n",
       "      <td>0</td>\n",
       "      <td>MED-2493</td>\n",
       "      <td>3</td>\n",
       "    </tr>\n",
       "    <tr>\n",
       "      <th>375</th>\n",
       "      <td>PLAIN-10</td>\n",
       "      <td>0</td>\n",
       "      <td>MED-2497</td>\n",
       "      <td>3</td>\n",
       "    </tr>\n",
       "    <tr>\n",
       "      <th>...</th>\n",
       "      <td>...</td>\n",
       "      <td>...</td>\n",
       "      <td>...</td>\n",
       "      <td>...</td>\n",
       "    </tr>\n",
       "    <tr>\n",
       "      <th>445</th>\n",
       "      <td>PLAIN-10</td>\n",
       "      <td>0</td>\n",
       "      <td>MED-5338</td>\n",
       "      <td>2</td>\n",
       "    </tr>\n",
       "    <tr>\n",
       "      <th>446</th>\n",
       "      <td>PLAIN-10</td>\n",
       "      <td>0</td>\n",
       "      <td>MED-5339</td>\n",
       "      <td>2</td>\n",
       "    </tr>\n",
       "    <tr>\n",
       "      <th>447</th>\n",
       "      <td>PLAIN-10</td>\n",
       "      <td>0</td>\n",
       "      <td>MED-5340</td>\n",
       "      <td>2</td>\n",
       "    </tr>\n",
       "    <tr>\n",
       "      <th>448</th>\n",
       "      <td>PLAIN-10</td>\n",
       "      <td>0</td>\n",
       "      <td>MED-5341</td>\n",
       "      <td>2</td>\n",
       "    </tr>\n",
       "    <tr>\n",
       "      <th>449</th>\n",
       "      <td>PLAIN-10</td>\n",
       "      <td>0</td>\n",
       "      <td>MED-5342</td>\n",
       "      <td>2</td>\n",
       "    </tr>\n",
       "  </tbody>\n",
       "</table>\n",
       "<p>79 rows × 4 columns</p>\n",
       "</div>"
      ],
      "text/plain": [
       "     QUERY_ID  0    DOC_ID  RELEVANCE_LEVEL\n",
       "371  PLAIN-10  0  MED-2494                3\n",
       "372  PLAIN-10  0  MED-2495                3\n",
       "373  PLAIN-10  0  MED-2496                3\n",
       "374  PLAIN-10  0  MED-2493                3\n",
       "375  PLAIN-10  0  MED-2497                3\n",
       "..        ... ..       ...              ...\n",
       "445  PLAIN-10  0  MED-5338                2\n",
       "446  PLAIN-10  0  MED-5339                2\n",
       "447  PLAIN-10  0  MED-5340                2\n",
       "448  PLAIN-10  0  MED-5341                2\n",
       "449  PLAIN-10  0  MED-5342                2\n",
       "\n",
       "[79 rows x 4 columns]"
      ]
     },
     "execution_count": 90,
     "metadata": {
      "tags": []
     },
     "output_type": "execute_result"
    }
   ],
   "source": [
    "query_relevance.loc[(query_relevance.QUERY_ID == 'PLAIN-10')]"
   ]
  },
  {
   "cell_type": "markdown",
   "metadata": {
    "id": "RXvm56iXQhOY"
   },
   "source": [
    "Loading NL queries dataset (train)"
   ]
  },
  {
   "cell_type": "code",
   "execution_count": 10,
   "metadata": {
    "colab": {
     "base_uri": "https://localhost:8080/",
     "height": 421
    },
    "id": "scELZJlLSJrs",
    "outputId": "48c169f1-df90-4747-9481-c7ec6012625b"
   },
   "outputs": [
    {
     "data": {
      "text/html": [
       "<div>\n",
       "<style scoped>\n",
       "    .dataframe tbody tr th:only-of-type {\n",
       "        vertical-align: middle;\n",
       "    }\n",
       "\n",
       "    .dataframe tbody tr th {\n",
       "        vertical-align: top;\n",
       "    }\n",
       "\n",
       "    .dataframe thead th {\n",
       "        text-align: right;\n",
       "    }\n",
       "</style>\n",
       "<table border=\"1\" class=\"dataframe\">\n",
       "  <thead>\n",
       "    <tr style=\"text-align: right;\">\n",
       "      <th></th>\n",
       "      <th>QUERY_ID</th>\n",
       "      <th>QUERY</th>\n",
       "    </tr>\n",
       "  </thead>\n",
       "  <tbody>\n",
       "    <tr>\n",
       "      <th>0</th>\n",
       "      <td>PLAIN-10</td>\n",
       "      <td>how contaminated are our children ? in a study...</td>\n",
       "    </tr>\n",
       "    <tr>\n",
       "      <th>1</th>\n",
       "      <td>PLAIN-100</td>\n",
       "      <td>cancer and the animal-to-plant protein ratio i...</td>\n",
       "    </tr>\n",
       "    <tr>\n",
       "      <th>2</th>\n",
       "      <td>PLAIN-1000</td>\n",
       "      <td>daniel fast - - meat , plant-based diets , veg...</td>\n",
       "    </tr>\n",
       "    <tr>\n",
       "      <th>3</th>\n",
       "      <td>PLAIN-1002</td>\n",
       "      <td>dark chocolate - - chocolate , cocoa , sugar ,...</td>\n",
       "    </tr>\n",
       "    <tr>\n",
       "      <th>4</th>\n",
       "      <td>PLAIN-1003</td>\n",
       "      <td>dark meat - - turkey , white meat , poultry , ...</td>\n",
       "    </tr>\n",
       "    <tr>\n",
       "      <th>...</th>\n",
       "      <td>...</td>\n",
       "      <td>...</td>\n",
       "    </tr>\n",
       "    <tr>\n",
       "      <th>2589</th>\n",
       "      <td>PLAIN-993</td>\n",
       "      <td>cyclamate - - stevia , sucralose , splenda , s...</td>\n",
       "    </tr>\n",
       "    <tr>\n",
       "      <th>2590</th>\n",
       "      <td>PLAIN-994</td>\n",
       "      <td>cycling - - exercise , athletes , vegetables ,...</td>\n",
       "    </tr>\n",
       "    <tr>\n",
       "      <th>2591</th>\n",
       "      <td>PLAIN-995</td>\n",
       "      <td>cysticercosis - - zoonotic disease , neurocyst...</td>\n",
       "    </tr>\n",
       "    <tr>\n",
       "      <th>2592</th>\n",
       "      <td>PLAIN-998</td>\n",
       "      <td>dairy the first us dietary guidelines were iss...</td>\n",
       "    </tr>\n",
       "    <tr>\n",
       "      <th>2593</th>\n",
       "      <td>PLAIN-999</td>\n",
       "      <td>dandelion - - phytonutrients , peppermint , le...</td>\n",
       "    </tr>\n",
       "  </tbody>\n",
       "</table>\n",
       "<p>2594 rows × 2 columns</p>\n",
       "</div>"
      ],
      "text/plain": [
       "        QUERY_ID                                              QUERY\n",
       "0       PLAIN-10  how contaminated are our children ? in a study...\n",
       "1      PLAIN-100  cancer and the animal-to-plant protein ratio i...\n",
       "2     PLAIN-1000  daniel fast - - meat , plant-based diets , veg...\n",
       "3     PLAIN-1002  dark chocolate - - chocolate , cocoa , sugar ,...\n",
       "4     PLAIN-1003  dark meat - - turkey , white meat , poultry , ...\n",
       "...          ...                                                ...\n",
       "2589   PLAIN-993  cyclamate - - stevia , sucralose , splenda , s...\n",
       "2590   PLAIN-994  cycling - - exercise , athletes , vegetables ,...\n",
       "2591   PLAIN-995  cysticercosis - - zoonotic disease , neurocyst...\n",
       "2592   PLAIN-998  dairy the first us dietary guidelines were iss...\n",
       "2593   PLAIN-999  dandelion - - phytonutrients , peppermint , le...\n",
       "\n",
       "[2594 rows x 2 columns]"
      ]
     },
     "execution_count": 10,
     "metadata": {
      "tags": []
     },
     "output_type": "execute_result"
    }
   ],
   "source": [
    "filename = '/content/sample_data/data/train.all.queries'\n",
    "query = pd.read_csv(filename, sep = '\\t', header=None)\n",
    "query.columns =['QUERY_ID', 'QUERY']\n",
    "query"
   ]
  },
  {
   "cell_type": "code",
   "execution_count": null,
   "metadata": {
    "colab": {
     "base_uri": "https://localhost:8080/",
     "height": 80
    },
    "id": "HugxFNYhbQwo",
    "outputId": "9e7720bc-ad43-4e92-b2ff-4bfc24a25a1c"
   },
   "outputs": [
    {
     "data": {
      "text/html": [
       "<div>\n",
       "<style scoped>\n",
       "    .dataframe tbody tr th:only-of-type {\n",
       "        vertical-align: middle;\n",
       "    }\n",
       "\n",
       "    .dataframe tbody tr th {\n",
       "        vertical-align: top;\n",
       "    }\n",
       "\n",
       "    .dataframe thead th {\n",
       "        text-align: right;\n",
       "    }\n",
       "</style>\n",
       "<table border=\"1\" class=\"dataframe\">\n",
       "  <thead>\n",
       "    <tr style=\"text-align: right;\">\n",
       "      <th></th>\n",
       "      <th>QUERY_ID</th>\n",
       "      <th>QUERY</th>\n",
       "    </tr>\n",
       "  </thead>\n",
       "  <tbody>\n",
       "    <tr>\n",
       "      <th>164</th>\n",
       "      <td>PLAIN-120</td>\n",
       "      <td>preloading with watercress before exercise cou...</td>\n",
       "    </tr>\n",
       "  </tbody>\n",
       "</table>\n",
       "</div>"
      ],
      "text/plain": [
       "      QUERY_ID                                              QUERY\n",
       "164  PLAIN-120  preloading with watercress before exercise cou..."
      ]
     },
     "execution_count": 57,
     "metadata": {
      "tags": []
     },
     "output_type": "execute_result"
    }
   ],
   "source": [
    "query.loc[query.QUERY_ID == 'PLAIN-120']"
   ]
  },
  {
   "cell_type": "markdown",
   "metadata": {
    "id": "nGc_uRC6QtO_"
   },
   "source": [
    "Queries are \n",
    "\n",
    "*   Lowercased\n",
    "*   Tokenized\n",
    "*   Punctuation removed\n",
    "*   Stopwords removed\n",
    "\n"
   ]
  },
  {
   "cell_type": "code",
   "execution_count": null,
   "metadata": {
    "id": "Fc0hAOGiUUNW"
   },
   "outputs": [],
   "source": [
    "query['QUERY'] = query['QUERY'].apply(lambda s:s.lower() if type(s) == str else s)\n",
    "query['TOKENIZED_TEST'] = query['QUERY'].apply(word_tokenize) \n",
    "query['TOKENIZED_TEST'] = query['TOKENIZED_TEST'].apply(lambda x: [item for item in x if item not in string.punctuation])\n",
    "query['TEXT_WITHOUT_STOPWORDS'] = query['TOKENIZED_TEST'].apply(lambda x: [item for item in x if item not in stop])\n",
    "query['TEXT_WITHOUT_STOPWORDS'] = query['TEXT_WITHOUT_STOPWORDS'].apply(lambda x: [item for item in x if item not in stopwords_given_list])"
   ]
  },
  {
   "cell_type": "markdown",
   "metadata": {
    "id": "rZ-4A6UtRJqh"
   },
   "source": [
    "Creating Class for BM25 </br>\n",
    "(bm25_intro, 2021)"
   ]
  },
  {
   "cell_type": "code",
   "execution_count": null,
   "metadata": {
    "id": "rtVAODn6pWal"
   },
   "outputs": [],
   "source": [
    "class BM25:\n",
    "    \"\"\"\n",
    "    Best Match 25.\n",
    "\n",
    "    Parameters\n",
    "    ----------\n",
    "    k1 : float, default 1.5\n",
    "\n",
    "    b : float, default 0.75\n",
    "\n",
    "    Attributes\n",
    "    ----------\n",
    "    tf_ : list[dict[str, int]]\n",
    "        Term Frequency per document. So [{'hi': 1}] means\n",
    "        the first document contains the term 'hi' 1 time.\n",
    "\n",
    "    df_ : dict[str, int]\n",
    "        Document Frequency per term. i.e. Number of documents in the\n",
    "        corpus that contains the term.\n",
    "\n",
    "    idf_ : dict[str, float]\n",
    "        Inverse Document Frequency per term.\n",
    "\n",
    "    doc_len_ : list[int]\n",
    "        Number of terms per document. So [3] means the first\n",
    "        document contains 3 terms.\n",
    "\n",
    "    corpus_ : list[list[str]]\n",
    "        The input corpus.\n",
    "\n",
    "    corpus_size_ : int\n",
    "        Number of documents in the corpus.\n",
    "\n",
    "    avg_doc_len_ : float\n",
    "        Average number of terms for documents in the corpus.\n",
    "    \"\"\"\n",
    "\n",
    "    def __init__(self, k1=1.2, b=0.75):\n",
    "        self.b = b\n",
    "        self.k1 = k1\n",
    "\n",
    "    def fit(self, corpus):\n",
    "        \"\"\"\n",
    "        Fit the various statistics that are required to calculate BM25 ranking\n",
    "        score using the corpus given.\n",
    "\n",
    "        Parameters\n",
    "        ----------\n",
    "        corpus : list[list[str]]\n",
    "            Each element in the list represents a document, and each document\n",
    "            is a list of the terms.\n",
    "\n",
    "        Returns\n",
    "        -------\n",
    "        self\n",
    "        \"\"\"\n",
    "        tf = []\n",
    "        df = {}\n",
    "        idf = {}\n",
    "        doc_len = []\n",
    "        corpus_size = 0\n",
    "        for document in corpus:\n",
    "            corpus_size += 1\n",
    "            doc_len.append(len(document))\n",
    "\n",
    "            # compute tf (term frequency) per document\n",
    "            frequencies = {}\n",
    "            for term in document:\n",
    "                term_count = frequencies.get(term, 0) + 1\n",
    "                frequencies[term] = term_count\n",
    "\n",
    "            tf.append(frequencies)\n",
    "\n",
    "            # compute df (document frequency) per term\n",
    "            for term, _ in frequencies.items():\n",
    "                df_count = df.get(term, 0) + 1\n",
    "                df[term] = df_count\n",
    "\n",
    "        for term, freq in df.items():\n",
    "            idf[term] = math.log(1 + (corpus_size - freq + 0.5) / (freq + 0.5))\n",
    "\n",
    "        self.tf_ = tf\n",
    "        self.df_ = df\n",
    "        self.idf_ = idf\n",
    "        self.doc_len_ = doc_len\n",
    "        self.corpus_ = corpus\n",
    "        self.corpus_size_ = corpus_size\n",
    "        self.avg_doc_len_ = sum(doc_len) / corpus_size\n",
    "        return self\n",
    "\n",
    "    def search(self, query):\n",
    "        scores = [self._score(query, index) for index in range(self.corpus_size_)]\n",
    "        return scores\n",
    "\n",
    "    def _score(self, query, index):\n",
    "        score = 0.0\n",
    "\n",
    "        doc_len = self.doc_len_[index]\n",
    "        frequencies = self.tf_[index]\n",
    "        for term in query:\n",
    "            if term not in frequencies:\n",
    "                continue\n",
    "\n",
    "            freq = frequencies[term]\n",
    "            numerator = self.idf_[term] * freq * (self.k1 + 1)\n",
    "            denominator = freq + self.k1 * (1 - self.b + self.b * doc_len / self.avg_doc_len_)\n",
    "            score += (numerator / denominator)\n",
    "\n",
    "        return score"
   ]
  },
  {
   "cell_type": "code",
   "execution_count": null,
   "metadata": {
    "colab": {
     "base_uri": "https://localhost:8080/",
     "height": 422
    },
    "id": "x4blRWaNYf4n",
    "outputId": "e68f381c-3a4f-4cbc-bb65-1d2f77c54f21"
   },
   "outputs": [
    {
     "data": {
      "text/html": [
       "<div>\n",
       "<style scoped>\n",
       "    .dataframe tbody tr th:only-of-type {\n",
       "        vertical-align: middle;\n",
       "    }\n",
       "\n",
       "    .dataframe tbody tr th {\n",
       "        vertical-align: top;\n",
       "    }\n",
       "\n",
       "    .dataframe thead th {\n",
       "        text-align: right;\n",
       "    }\n",
       "</style>\n",
       "<table border=\"1\" class=\"dataframe\">\n",
       "  <thead>\n",
       "    <tr style=\"text-align: right;\">\n",
       "      <th></th>\n",
       "      <th>QUERY_ID</th>\n",
       "      <th>QUERY</th>\n",
       "      <th>TOKENIZED_TEST</th>\n",
       "      <th>TEXT_WITHOUT_STOPWORDS</th>\n",
       "    </tr>\n",
       "  </thead>\n",
       "  <tbody>\n",
       "    <tr>\n",
       "      <th>0</th>\n",
       "      <td>PLAIN-10</td>\n",
       "      <td>how contaminated are our children ? in a study...</td>\n",
       "      <td>[how, contaminated, are, our, children, in, a,...</td>\n",
       "      <td>[contaminated, children, study, highlighted, v...</td>\n",
       "    </tr>\n",
       "    <tr>\n",
       "      <th>1</th>\n",
       "      <td>PLAIN-100</td>\n",
       "      <td>cancer and the animal-to-plant protein ratio i...</td>\n",
       "      <td>[cancer, and, the, animal-to-plant, protein, r...</td>\n",
       "      <td>[cancer, animal-to-plant, protein, ratio, year...</td>\n",
       "    </tr>\n",
       "    <tr>\n",
       "      <th>2</th>\n",
       "      <td>PLAIN-1000</td>\n",
       "      <td>daniel fast - - meat , plant-based diets , veg...</td>\n",
       "      <td>[daniel, fast, meat, plant-based, diets, vegan...</td>\n",
       "      <td>[daniel, fast, meat, plant-based, diets, vegan...</td>\n",
       "    </tr>\n",
       "    <tr>\n",
       "      <th>3</th>\n",
       "      <td>PLAIN-1002</td>\n",
       "      <td>dark chocolate - - chocolate , cocoa , sugar ,...</td>\n",
       "      <td>[dark, chocolate, chocolate, cocoa, sugar, phy...</td>\n",
       "      <td>[dark, chocolate, chocolate, cocoa, sugar, phy...</td>\n",
       "    </tr>\n",
       "    <tr>\n",
       "      <th>4</th>\n",
       "      <td>PLAIN-1003</td>\n",
       "      <td>dark meat - - turkey , white meat , poultry , ...</td>\n",
       "      <td>[dark, meat, turkey, white, meat, poultry, mea...</td>\n",
       "      <td>[dark, meat, turkey, white, meat, poultry, mea...</td>\n",
       "    </tr>\n",
       "    <tr>\n",
       "      <th>...</th>\n",
       "      <td>...</td>\n",
       "      <td>...</td>\n",
       "      <td>...</td>\n",
       "      <td>...</td>\n",
       "    </tr>\n",
       "    <tr>\n",
       "      <th>2589</th>\n",
       "      <td>PLAIN-993</td>\n",
       "      <td>cyclamate - - stevia , sucralose , splenda , s...</td>\n",
       "      <td>[cyclamate, stevia, sucralose, splenda, sorbit...</td>\n",
       "      <td>[cyclamate, stevia, sucralose, splenda, sorbit...</td>\n",
       "    </tr>\n",
       "    <tr>\n",
       "      <th>2590</th>\n",
       "      <td>PLAIN-994</td>\n",
       "      <td>cycling - - exercise , athletes , vegetables ,...</td>\n",
       "      <td>[cycling, exercise, athletes, vegetables, juic...</td>\n",
       "      <td>[cycling, exercise, athletes, vegetables, juic...</td>\n",
       "    </tr>\n",
       "    <tr>\n",
       "      <th>2591</th>\n",
       "      <td>PLAIN-995</td>\n",
       "      <td>cysticercosis - - zoonotic disease , neurocyst...</td>\n",
       "      <td>[cysticercosis, zoonotic, disease, neurocystic...</td>\n",
       "      <td>[cysticercosis, zoonotic, disease, neurocystic...</td>\n",
       "    </tr>\n",
       "    <tr>\n",
       "      <th>2592</th>\n",
       "      <td>PLAIN-998</td>\n",
       "      <td>dairy the first us dietary guidelines were iss...</td>\n",
       "      <td>[dairy, the, first, us, dietary, guidelines, w...</td>\n",
       "      <td>[dairy, dietary, guidelines, issued, 1980, rec...</td>\n",
       "    </tr>\n",
       "    <tr>\n",
       "      <th>2593</th>\n",
       "      <td>PLAIN-999</td>\n",
       "      <td>dandelion - - phytonutrients , peppermint , le...</td>\n",
       "      <td>[dandelion, phytonutrients, peppermint, lemong...</td>\n",
       "      <td>[dandelion, phytonutrients, peppermint, lemong...</td>\n",
       "    </tr>\n",
       "  </tbody>\n",
       "</table>\n",
       "<p>2594 rows × 4 columns</p>\n",
       "</div>"
      ],
      "text/plain": [
       "        QUERY_ID  ...                             TEXT_WITHOUT_STOPWORDS\n",
       "0       PLAIN-10  ...  [contaminated, children, study, highlighted, v...\n",
       "1      PLAIN-100  ...  [cancer, animal-to-plant, protein, ratio, year...\n",
       "2     PLAIN-1000  ...  [daniel, fast, meat, plant-based, diets, vegan...\n",
       "3     PLAIN-1002  ...  [dark, chocolate, chocolate, cocoa, sugar, phy...\n",
       "4     PLAIN-1003  ...  [dark, meat, turkey, white, meat, poultry, mea...\n",
       "...          ...  ...                                                ...\n",
       "2589   PLAIN-993  ...  [cyclamate, stevia, sucralose, splenda, sorbit...\n",
       "2590   PLAIN-994  ...  [cycling, exercise, athletes, vegetables, juic...\n",
       "2591   PLAIN-995  ...  [cysticercosis, zoonotic, disease, neurocystic...\n",
       "2592   PLAIN-998  ...  [dairy, dietary, guidelines, issued, 1980, rec...\n",
       "2593   PLAIN-999  ...  [dandelion, phytonutrients, peppermint, lemong...\n",
       "\n",
       "[2594 rows x 4 columns]"
      ]
     },
     "execution_count": 72,
     "metadata": {
      "tags": []
     },
     "output_type": "execute_result"
    }
   ],
   "source": [
    "query"
   ]
  },
  {
   "cell_type": "code",
   "execution_count": null,
   "metadata": {
    "colab": {
     "base_uri": "https://localhost:8080/",
     "height": 1000
    },
    "id": "JTFKQOL2pkE6",
    "outputId": "8f12f06e-bb36-44ac-9689-66c11d3f638b"
   },
   "outputs": [
    {
     "data": {
      "text/html": [
       "<div>\n",
       "<style scoped>\n",
       "    .dataframe tbody tr th:only-of-type {\n",
       "        vertical-align: middle;\n",
       "    }\n",
       "\n",
       "    .dataframe tbody tr th {\n",
       "        vertical-align: top;\n",
       "    }\n",
       "\n",
       "    .dataframe thead th {\n",
       "        text-align: right;\n",
       "    }\n",
       "</style>\n",
       "<table border=\"1\" class=\"dataframe\">\n",
       "  <thead>\n",
       "    <tr style=\"text-align: right;\">\n",
       "      <th></th>\n",
       "      <th>Score</th>\n",
       "      <th>Doc_ID</th>\n",
       "    </tr>\n",
       "  </thead>\n",
       "  <tbody>\n",
       "    <tr>\n",
       "      <th>51</th>\n",
       "      <td>807.196199</td>\n",
       "      <td>MED-52</td>\n",
       "    </tr>\n",
       "    <tr>\n",
       "      <th>1158</th>\n",
       "      <td>807.196199</td>\n",
       "      <td>MED-1159</td>\n",
       "    </tr>\n",
       "    <tr>\n",
       "      <th>2493</th>\n",
       "      <td>807.196199</td>\n",
       "      <td>MED-2494</td>\n",
       "    </tr>\n",
       "    <tr>\n",
       "      <th>1749</th>\n",
       "      <td>791.334878</td>\n",
       "      <td>MED-1750</td>\n",
       "    </tr>\n",
       "    <tr>\n",
       "      <th>1173</th>\n",
       "      <td>750.970660</td>\n",
       "      <td>MED-1174</td>\n",
       "    </tr>\n",
       "    <tr>\n",
       "      <th>4616</th>\n",
       "      <td>746.546013</td>\n",
       "      <td>MED-4617</td>\n",
       "    </tr>\n",
       "    <tr>\n",
       "      <th>2943</th>\n",
       "      <td>746.546013</td>\n",
       "      <td>MED-2944</td>\n",
       "    </tr>\n",
       "    <tr>\n",
       "      <th>275</th>\n",
       "      <td>746.546013</td>\n",
       "      <td>MED-276</td>\n",
       "    </tr>\n",
       "    <tr>\n",
       "      <th>4610</th>\n",
       "      <td>746.546013</td>\n",
       "      <td>MED-4611</td>\n",
       "    </tr>\n",
       "    <tr>\n",
       "      <th>4613</th>\n",
       "      <td>746.546013</td>\n",
       "      <td>MED-4614</td>\n",
       "    </tr>\n",
       "    <tr>\n",
       "      <th>1171</th>\n",
       "      <td>741.983976</td>\n",
       "      <td>MED-1172</td>\n",
       "    </tr>\n",
       "    <tr>\n",
       "      <th>1673</th>\n",
       "      <td>733.334564</td>\n",
       "      <td>MED-1674</td>\n",
       "    </tr>\n",
       "    <tr>\n",
       "      <th>1262</th>\n",
       "      <td>733.334564</td>\n",
       "      <td>MED-1263</td>\n",
       "    </tr>\n",
       "    <tr>\n",
       "      <th>2522</th>\n",
       "      <td>711.762999</td>\n",
       "      <td>MED-2523</td>\n",
       "    </tr>\n",
       "    <tr>\n",
       "      <th>988</th>\n",
       "      <td>710.330295</td>\n",
       "      <td>MED-989</td>\n",
       "    </tr>\n",
       "    <tr>\n",
       "      <th>348</th>\n",
       "      <td>710.330295</td>\n",
       "      <td>MED-349</td>\n",
       "    </tr>\n",
       "    <tr>\n",
       "      <th>2288</th>\n",
       "      <td>710.330295</td>\n",
       "      <td>MED-2289</td>\n",
       "    </tr>\n",
       "    <tr>\n",
       "      <th>3130</th>\n",
       "      <td>710.330295</td>\n",
       "      <td>MED-3131</td>\n",
       "    </tr>\n",
       "    <tr>\n",
       "      <th>3136</th>\n",
       "      <td>710.330295</td>\n",
       "      <td>MED-3137</td>\n",
       "    </tr>\n",
       "    <tr>\n",
       "      <th>3114</th>\n",
       "      <td>710.330295</td>\n",
       "      <td>MED-3115</td>\n",
       "    </tr>\n",
       "    <tr>\n",
       "      <th>3937</th>\n",
       "      <td>672.363762</td>\n",
       "      <td>MED-3938</td>\n",
       "    </tr>\n",
       "    <tr>\n",
       "      <th>1333</th>\n",
       "      <td>665.899399</td>\n",
       "      <td>MED-1334</td>\n",
       "    </tr>\n",
       "    <tr>\n",
       "      <th>5195</th>\n",
       "      <td>661.541938</td>\n",
       "      <td>MED-5196</td>\n",
       "    </tr>\n",
       "    <tr>\n",
       "      <th>2489</th>\n",
       "      <td>652.423694</td>\n",
       "      <td>MED-2490</td>\n",
       "    </tr>\n",
       "    <tr>\n",
       "      <th>49</th>\n",
       "      <td>652.423694</td>\n",
       "      <td>MED-50</td>\n",
       "    </tr>\n",
       "    <tr>\n",
       "      <th>3959</th>\n",
       "      <td>640.502563</td>\n",
       "      <td>MED-3960</td>\n",
       "    </tr>\n",
       "    <tr>\n",
       "      <th>2492</th>\n",
       "      <td>624.561600</td>\n",
       "      <td>MED-2493</td>\n",
       "    </tr>\n",
       "    <tr>\n",
       "      <th>54</th>\n",
       "      <td>624.561600</td>\n",
       "      <td>MED-55</td>\n",
       "    </tr>\n",
       "    <tr>\n",
       "      <th>3758</th>\n",
       "      <td>624.528035</td>\n",
       "      <td>MED-3759</td>\n",
       "    </tr>\n",
       "    <tr>\n",
       "      <th>3934</th>\n",
       "      <td>613.568148</td>\n",
       "      <td>MED-3935</td>\n",
       "    </tr>\n",
       "    <tr>\n",
       "      <th>1349</th>\n",
       "      <td>611.424406</td>\n",
       "      <td>MED-1350</td>\n",
       "    </tr>\n",
       "    <tr>\n",
       "      <th>1165</th>\n",
       "      <td>611.105648</td>\n",
       "      <td>MED-1166</td>\n",
       "    </tr>\n",
       "    <tr>\n",
       "      <th>1195</th>\n",
       "      <td>603.465641</td>\n",
       "      <td>MED-1196</td>\n",
       "    </tr>\n",
       "    <tr>\n",
       "      <th>2179</th>\n",
       "      <td>597.314556</td>\n",
       "      <td>MED-2180</td>\n",
       "    </tr>\n",
       "    <tr>\n",
       "      <th>2388</th>\n",
       "      <td>596.872106</td>\n",
       "      <td>MED-2389</td>\n",
       "    </tr>\n",
       "    <tr>\n",
       "      <th>802</th>\n",
       "      <td>596.872106</td>\n",
       "      <td>MED-803</td>\n",
       "    </tr>\n",
       "    <tr>\n",
       "      <th>3380</th>\n",
       "      <td>595.492809</td>\n",
       "      <td>MED-3381</td>\n",
       "    </tr>\n",
       "    <tr>\n",
       "      <th>1002</th>\n",
       "      <td>590.760980</td>\n",
       "      <td>MED-1003</td>\n",
       "    </tr>\n",
       "    <tr>\n",
       "      <th>3594</th>\n",
       "      <td>588.636670</td>\n",
       "      <td>MED-3595</td>\n",
       "    </tr>\n",
       "    <tr>\n",
       "      <th>4674</th>\n",
       "      <td>587.322298</td>\n",
       "      <td>MED-4675</td>\n",
       "    </tr>\n",
       "    <tr>\n",
       "      <th>4675</th>\n",
       "      <td>587.322298</td>\n",
       "      <td>MED-4676</td>\n",
       "    </tr>\n",
       "    <tr>\n",
       "      <th>1055</th>\n",
       "      <td>580.308593</td>\n",
       "      <td>MED-1056</td>\n",
       "    </tr>\n",
       "    <tr>\n",
       "      <th>1604</th>\n",
       "      <td>576.873138</td>\n",
       "      <td>MED-1605</td>\n",
       "    </tr>\n",
       "    <tr>\n",
       "      <th>2220</th>\n",
       "      <td>575.198148</td>\n",
       "      <td>MED-2221</td>\n",
       "    </tr>\n",
       "    <tr>\n",
       "      <th>1056</th>\n",
       "      <td>575.198148</td>\n",
       "      <td>MED-1057</td>\n",
       "    </tr>\n",
       "    <tr>\n",
       "      <th>1652</th>\n",
       "      <td>575.198148</td>\n",
       "      <td>MED-1653</td>\n",
       "    </tr>\n",
       "    <tr>\n",
       "      <th>1994</th>\n",
       "      <td>575.198148</td>\n",
       "      <td>MED-1995</td>\n",
       "    </tr>\n",
       "    <tr>\n",
       "      <th>1188</th>\n",
       "      <td>574.801090</td>\n",
       "      <td>MED-1189</td>\n",
       "    </tr>\n",
       "    <tr>\n",
       "      <th>1581</th>\n",
       "      <td>574.801090</td>\n",
       "      <td>MED-1582</td>\n",
       "    </tr>\n",
       "    <tr>\n",
       "      <th>1596</th>\n",
       "      <td>572.149240</td>\n",
       "      <td>MED-1597</td>\n",
       "    </tr>\n",
       "  </tbody>\n",
       "</table>\n",
       "</div>"
      ],
      "text/plain": [
       "           Score    Doc_ID\n",
       "51    807.196199    MED-52\n",
       "1158  807.196199  MED-1159\n",
       "2493  807.196199  MED-2494\n",
       "1749  791.334878  MED-1750\n",
       "1173  750.970660  MED-1174\n",
       "4616  746.546013  MED-4617\n",
       "2943  746.546013  MED-2944\n",
       "275   746.546013   MED-276\n",
       "4610  746.546013  MED-4611\n",
       "4613  746.546013  MED-4614\n",
       "1171  741.983976  MED-1172\n",
       "1673  733.334564  MED-1674\n",
       "1262  733.334564  MED-1263\n",
       "2522  711.762999  MED-2523\n",
       "988   710.330295   MED-989\n",
       "348   710.330295   MED-349\n",
       "2288  710.330295  MED-2289\n",
       "3130  710.330295  MED-3131\n",
       "3136  710.330295  MED-3137\n",
       "3114  710.330295  MED-3115\n",
       "3937  672.363762  MED-3938\n",
       "1333  665.899399  MED-1334\n",
       "5195  661.541938  MED-5196\n",
       "2489  652.423694  MED-2490\n",
       "49    652.423694    MED-50\n",
       "3959  640.502563  MED-3960\n",
       "2492  624.561600  MED-2493\n",
       "54    624.561600    MED-55\n",
       "3758  624.528035  MED-3759\n",
       "3934  613.568148  MED-3935\n",
       "1349  611.424406  MED-1350\n",
       "1165  611.105648  MED-1166\n",
       "1195  603.465641  MED-1196\n",
       "2179  597.314556  MED-2180\n",
       "2388  596.872106  MED-2389\n",
       "802   596.872106   MED-803\n",
       "3380  595.492809  MED-3381\n",
       "1002  590.760980  MED-1003\n",
       "3594  588.636670  MED-3595\n",
       "4674  587.322298  MED-4675\n",
       "4675  587.322298  MED-4676\n",
       "1055  580.308593  MED-1056\n",
       "1604  576.873138  MED-1605\n",
       "2220  575.198148  MED-2221\n",
       "1056  575.198148  MED-1057\n",
       "1652  575.198148  MED-1653\n",
       "1994  575.198148  MED-1995\n",
       "1188  574.801090  MED-1189\n",
       "1581  574.801090  MED-1582\n",
       "1596  572.149240  MED-1597"
      ]
     },
     "execution_count": 73,
     "metadata": {
      "tags": []
     },
     "output_type": "execute_result"
    }
   ],
   "source": [
    "bm25 = BM25()\n",
    "bm25.fit(doc['TEXT_WITHOUT_STOPWORDS'])\n",
    "scores = bm25.search(query['TEXT_WITHOUT_STOPWORDS'][0])\n",
    "\n",
    "document_list = doc['ID'].tolist()\n",
    "list_of_doc_score = list(zip(scores, document_list))\n",
    "bm_rank = pd.DataFrame(list_of_doc_score, columns = ['Score', 'Doc_ID'])\n",
    "bm_rank = bm_rank.sort_values(by=\"Score\", ascending=False)\n",
    "bm_rank.head(50)\n",
    "#for score, document in zip(scores, document_list):\n",
    "#    score = round(score, 3)\n",
    "#    print(str(score) + '\\t' + document)"
   ]
  },
  {
   "cell_type": "code",
   "execution_count": null,
   "metadata": {
    "colab": {
     "base_uri": "https://localhost:8080/",
     "height": 80
    },
    "id": "iYHNO1wAe_PC",
    "outputId": "45bdda9d-3a6b-46d5-83b2-5074405b5800"
   },
   "outputs": [
    {
     "data": {
      "text/html": [
       "<div>\n",
       "<style scoped>\n",
       "    .dataframe tbody tr th:only-of-type {\n",
       "        vertical-align: middle;\n",
       "    }\n",
       "\n",
       "    .dataframe tbody tr th {\n",
       "        vertical-align: top;\n",
       "    }\n",
       "\n",
       "    .dataframe thead th {\n",
       "        text-align: right;\n",
       "    }\n",
       "</style>\n",
       "<table border=\"1\" class=\"dataframe\">\n",
       "  <thead>\n",
       "    <tr style=\"text-align: right;\">\n",
       "      <th></th>\n",
       "      <th>Score</th>\n",
       "      <th>Doc_ID</th>\n",
       "    </tr>\n",
       "  </thead>\n",
       "  <tbody>\n",
       "    <tr>\n",
       "      <th>2493</th>\n",
       "      <td>807.196199</td>\n",
       "      <td>MED-2494</td>\n",
       "    </tr>\n",
       "  </tbody>\n",
       "</table>\n",
       "</div>"
      ],
      "text/plain": [
       "           Score    Doc_ID\n",
       "2493  807.196199  MED-2494"
      ]
     },
     "execution_count": 74,
     "metadata": {
      "tags": []
     },
     "output_type": "execute_result"
    }
   ],
   "source": [
    "bm_rank.loc[bm_rank.Doc_ID == 'MED-2494']"
   ]
  },
  {
   "cell_type": "code",
   "execution_count": null,
   "metadata": {
    "colab": {
     "base_uri": "https://localhost:8080/"
    },
    "id": "U13eUgw1YP2g",
    "outputId": "bb2ad0da-e6c5-4af7-9e05-96910df666c3"
   },
   "outputs": [
    {
     "data": {
      "text/plain": [
       "list"
      ]
     },
     "execution_count": 75,
     "metadata": {
      "tags": []
     },
     "output_type": "execute_result"
    }
   ],
   "source": [
    "type(document_list)"
   ]
  },
  {
   "cell_type": "code",
   "execution_count": null,
   "metadata": {
    "colab": {
     "base_uri": "https://localhost:8080/",
     "height": 34
    },
    "id": "mtiDjzeRXJOd",
    "outputId": "af42fa88-44a6-4c32-f0c1-d14b46c5a82d"
   },
   "outputs": [
    {
     "data": {
      "application/vnd.google.colaboratory.intrinsic+json": {
       "type": "string"
      },
      "text/plain": [
       "'PLAIN-10'"
      ]
     },
     "execution_count": 76,
     "metadata": {
      "tags": []
     },
     "output_type": "execute_result"
    }
   ],
   "source": [
    "query['QUERY_ID'][0]"
   ]
  },
  {
   "cell_type": "code",
   "execution_count": null,
   "metadata": {
    "colab": {
     "base_uri": "https://localhost:8080/"
    },
    "id": "zZaMlVJYcdyS",
    "outputId": "43df78f2-81e1-4157-8db8-9d5c4015b574"
   },
   "outputs": [
    {
     "data": {
      "text/plain": [
       "168"
      ]
     },
     "execution_count": 85,
     "metadata": {
      "tags": []
     },
     "output_type": "execute_result"
    }
   ],
   "source": [
    "len(doc['TEXT_WITHOUT_STOPWORDS'][0])"
   ]
  },
  {
   "cell_type": "code",
   "execution_count": null,
   "metadata": {
    "id": "BBiQUj7R1Vco"
   },
   "outputs": [],
   "source": [
    "for document in doc['TEXT_WITHOUT_STOPWORDS']:\n",
    "  print(document)\n",
    "  for term in document:\n",
    "    print(term)"
   ]
  },
  {
   "cell_type": "code",
   "execution_count": null,
   "metadata": {
    "id": "b85enjXB2F8V"
   },
   "outputs": [],
   "source": [
    "list_of_doc_score"
   ]
  },
  {
   "cell_type": "markdown",
   "metadata": {
    "id": "ueyQBFmGSDAb"
   },
   "source": [
    "**References**\n",
    "\n",
    "*   Ethen8181.github.io. 2021. bm25_intro. [online] Available at: <http://ethen8181.github.io/machine-learning/search/bm25_intro.html> [Accessed 18 July 2021].\n",
    "*   List item\n",
    "\n"
   ]
  },
  {
   "cell_type": "code",
   "execution_count": null,
   "metadata": {
    "id": "Dpj5TrzW4i1_"
   },
   "outputs": [],
   "source": []
  }
 ],
 "metadata": {
  "colab": {
   "name": "BM_25_update_2.ipynb",
   "provenance": []
  },
  "kernelspec": {
   "display_name": "Python 3",
   "language": "python",
   "name": "python3"
  },
  "language_info": {
   "codemirror_mode": {
    "name": "ipython",
    "version": 3
   },
   "file_extension": ".py",
   "mimetype": "text/x-python",
   "name": "python",
   "nbconvert_exporter": "python",
   "pygments_lexer": "ipython3",
   "version": "3.7.9"
  }
 },
 "nbformat": 4,
 "nbformat_minor": 1
}
